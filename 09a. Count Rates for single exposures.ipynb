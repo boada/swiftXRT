{
 "cells": [
  {
   "cell_type": "code",
   "execution_count": null,
   "metadata": {},
   "outputs": [],
   "source": [
    "import subprocess\n",
    "import numpy as np\n",
    "import os\n",
    "import sys\n",
    "sys.path.append(f'{os.environ[\"HOME\"]}/Projects/planckClusters/catalogs')\n",
    "from load_catalogs import load_PSZcatalog\n",
    "from astropy.table import Table\n",
    "from astropy.io import fits\n",
    "from astropy import wcs\n",
    "from glob import glob\n",
    "import shlex\n",
    "from regions import read_ds9, write_ds9\n",
    "import numpy.ma as ma\n",
    "        \n",
    "# parallel processor et al.\n",
    "from utilities import parallel_process, check_exe, system_call\n",
    "from utilities import get_immediate_subdirectories\n",
    "\n",
    "import warnings\n",
    "from astropy.utils.exceptions import AstropyWarning\n",
    "warnings.simplefilter('ignore', category=AstropyWarning)\n",
    "from astropy import log\n",
    "log.setLevel('WARN')"
   ]
  },
  {
   "cell_type": "code",
   "execution_count": null,
   "metadata": {},
   "outputs": [],
   "source": [
    "def write_single_xspec(name, outpath, z):\n",
    "    \n",
    "    # if there aren't detections, don't bother doing anything.\n",
    "    if os.path.isfile(f'{outpath}/{name}/{name}_vtp.detect'):\n",
    "        detects = Table.read(f'{outpath}/{name}/{name}_vtp.detect', hdu=1)\n",
    "    else:\n",
    "        return\n",
    "\n",
    "    # now we have to loop through the detections\n",
    "    for j in detects['INDEX']:\n",
    "        if not os.path.isfile(\n",
    "                f'{outpath}/{name}/spec_files/{j}_addascaspec.log'):\n",
    "            continue\n",
    "        \n",
    "        with open(f'{outpath}/{name}/spec_files/{j}_addascaspec.log', 'r') as logfile:\n",
    "            lines = logfile.readlines()\n",
    "        \n",
    "        specset = {}\n",
    "        counter = 1\n",
    "        \n",
    "        specset[counter] = {}\n",
    "        for line in lines:\n",
    "            if 'Spec:' in line:\n",
    "                if counter > 1:\n",
    "                    specset[counter] = {}\n",
    "                specset[counter]['Spec'] = line.split(':')[-1]\n",
    "            elif 'Bgd :' in line:\n",
    "                specset[counter]['Bkg'] = line.split(':')[-1]\n",
    "            elif 'ARF :' in line:\n",
    "                specset[counter]['ARF'] = line.split(':')[-1]\n",
    "            elif 'RMF :' in line:\n",
    "                specset[counter]['RMF'] = line.split(':')[-1]\n",
    "                counter += 1\n",
    "\n",
    "        with open(f'{outpath}/{name}/spec_files/{j}_singles_xspec.in',\n",
    "                  'w') as script:\n",
    "\n",
    "            for i in range(1, counter):\n",
    "                \n",
    "                # here is the text we are going to write\n",
    "                text = [\n",
    "                    f\"data {outpath}/{name}/spec_files/{specset[i]['Spec']}\",\n",
    "                    f\"resp {specset[i]['RMF']}\",\n",
    "                    f\"arf {outpath}/{name}/spec_files/{specset[i]['ARF']}\",\n",
    "                    f\"back {outpath}/{name}/spec_files/{specset[i]['Bkg']}\",\n",
    "                    \"ignore bad\\n\",\n",
    "                    \"ignore **-0.5,2.0-**\\n\",\n",
    "                    \"show rates\\n\"\n",
    "                ]\n",
    "\n",
    "                #Write it to the script\n",
    "        \n",
    "                for line in text:\n",
    "                    script.write(line)      \n",
    "                \n",
    "            script.write('Exit')    \n",
    "         \n",
    "    return "
   ]
  },
  {
   "cell_type": "code",
   "execution_count": null,
   "metadata": {},
   "outputs": [],
   "source": [
    "def run_single_xspec(name, outpath, z):\n",
    "    \n",
    "    if not z >= 0.1 or z < 0:\n",
    "        return\n",
    "    \n",
    "    # if there aren't detections, don't bother doing anything.\n",
    "    if os.path.isfile(f'{outpath}/{name}/{name}_vtp.detect'):\n",
    "        detects = Table.read(f'{outpath}/{name}/{name}_vtp.detect', hdu=1)\n",
    "    else:\n",
    "        return\n",
    "#         raise FileNotFoundError(f'{outpath}/{name}/{name}_vtp.detect')\n",
    "\n",
    "    results = {}\n",
    "    results['field'] = name\n",
    "    \n",
    "    # now we have to loop through the detections\n",
    "    for j in detects['INDEX']:\n",
    "        if not os.path.isfile(f'{outpath}/{name}/spec_files/{j}_singles_xspec.in'):\n",
    "            continue\n",
    "        else:\n",
    "            source_xspec_in = f'{outpath}/{name}/spec_files/{j}_singles_xspec.in'\n",
    "            \n",
    "        # build the command and call it\n",
    "        cmd = f\"xspec < {source_xspec_in}\"\n",
    "        stdout, stderr = system_call(cmd, shlexify=False)\n",
    "                \n",
    "        # log\n",
    "        log_file = f'{outpath}/{name}/spec_files/{j}_singles_xspec.log'\n",
    "        with open(log_file, 'w') as f:\n",
    "            f.writelines(stdout)\n",
    "         \n",
    "        \n",
    "        ##################\n",
    "        #### Parse the log file to get the values we want ####\n",
    "        ##################\n",
    "        \n",
    "        # individual source result\n",
    "        results[j] = {}    \n",
    "        \n",
    "        # janky way of parsing the file\n",
    "        count = 1\n",
    "        \n",
    "        outlines = stdout.split('\\n')\n",
    "        for line in outlines:\n",
    "            \n",
    "            if 'XSPEC12>data' in line:\n",
    "                obs = line.split('/')[-1].split('_')[0]\n",
    "                results[j][obs] = {}\n",
    "                \n",
    "            elif \"Net count rate\" in line:\n",
    "                if count > 2:\n",
    "                    cnt_rate = {}\n",
    "                    cnt_rate['Rate'] = line.split(' ')[7]\n",
    "                    cnt_rate['Err'] = line.split(' ')[9]\n",
    "                    results[j][obs] = cnt_rate\n",
    "                    count = 1\n",
    "                else:\n",
    "                    count += 1\n",
    "\n",
    "            else:\n",
    "                pass\n",
    "\n",
    "            \n",
    "        ### add the total result to the end\n",
    "        with open(f'{outpath}/{name}/spec_files/{j}_xspec.log') as total_file:\n",
    "            outlines = total_file.readlines()\n",
    "            \n",
    "        for line in outlines:\n",
    "\n",
    "            if \"Net count rate\" in line:\n",
    "                cnt_rate = {}\n",
    "                cnt_rate['Rate'] = line.split(' ')[7]\n",
    "                cnt_rate['Err'] = line.split(' ')[9]\n",
    "            else:\n",
    "                pass\n",
    "    \n",
    "        results[j]['total'] = cnt_rate    \n",
    "            \n",
    "    return results"
   ]
  },
  {
   "cell_type": "code",
   "execution_count": null,
   "metadata": {},
   "outputs": [],
   "source": [
    "# get file data\n",
    "data = load_PSZcatalog()\n",
    "data = data.sort_index(axis=1)\n",
    "\n",
    "outpath = './data_full'\n",
    "\n",
    "arr = [{'name':n.replace(' ', '_'), 'outpath':outpath, 'z':z} for n, z in zip(data['NAME'], data['REDSHIFT'])]\n",
    "parallel_process(arr, write_single_xspec, use_kwargs=True, n_jobs=6)\n",
    "results = parallel_process(arr, run_single_xspec, use_kwargs=True, n_jobs=6)"
   ]
  },
  {
   "cell_type": "code",
   "execution_count": null,
   "metadata": {},
   "outputs": [],
   "source": []
  },
  {
   "cell_type": "code",
   "execution_count": null,
   "metadata": {},
   "outputs": [],
   "source": [
    "# outpath ='./data_full'\n",
    "\n",
    "# name = 'PSZ2_G111.75+70.37'\n",
    "\n",
    "# write_single_xspec(name, outpath)\n",
    "# results = run_single_xspec(name, outpath)"
   ]
  },
  {
   "cell_type": "code",
   "execution_count": null,
   "metadata": {},
   "outputs": [],
   "source": [
    "results"
   ]
  },
  {
   "cell_type": "code",
   "execution_count": null,
   "metadata": {},
   "outputs": [],
   "source": [
    "cleanedresults = [x for x in results if x is not None]"
   ]
  },
  {
   "cell_type": "code",
   "execution_count": null,
   "metadata": {},
   "outputs": [],
   "source": [
    "r = cleanedresults[0]"
   ]
  },
  {
   "cell_type": "code",
   "execution_count": null,
   "metadata": {},
   "outputs": [],
   "source": [
    "r"
   ]
  },
  {
   "cell_type": "code",
   "execution_count": null,
   "metadata": {},
   "outputs": [],
   "source": [
    "list(r[indx[0]].keys())[:-1]"
   ]
  },
  {
   "cell_type": "code",
   "execution_count": null,
   "metadata": {},
   "outputs": [],
   "source": [
    "r[indx[0]]['00090909001']"
   ]
  },
  {
   "cell_type": "code",
   "execution_count": null,
   "metadata": {},
   "outputs": [],
   "source": [
    "sigma = []\n",
    "cnt = 1\n",
    "for r in cleanedresults:\n",
    "    try:\n",
    "        sources = list(r.keys())[1:]\n",
    "    except AttributeError: # it's not a dict\n",
    "        continue\n",
    "    if len(sources) < 1:\n",
    "        continue\n",
    "    for indx in sources:\n",
    "        obs_id = list(r[indx].keys())[:-1]\n",
    "        if not len(obs_id) > 1:\n",
    "            continue\n",
    "        for obs in obs_id:\n",
    "            try:\n",
    "                rate = float(r[indx][obs]['Rate'])\n",
    "                err = float(r[indx][obs]['Err'])\n",
    "                total = float(r[indx]['total']['Rate'])\n",
    "            except KeyError: # no flux or cnt_rate recorded\n",
    "                continue\n",
    "            if err == 0:\n",
    "                continue\n",
    "            s = (rate - total) / err\n",
    "            if abs(s) > 3:\n",
    "                print(r['field'], indx, obs, s)\n",
    "#             if cnt % 10 == 0:\n",
    "#                 print(r['field'], indx, obs, s)\n",
    "            cnt += 1\n",
    "            sigma.append((rate - total)/ err)"
   ]
  },
  {
   "cell_type": "code",
   "execution_count": null,
   "metadata": {},
   "outputs": [],
   "source": [
    "%matplotlib notebook\n",
    "import matplotlib.pyplot as plt"
   ]
  },
  {
   "cell_type": "code",
   "execution_count": null,
   "metadata": {},
   "outputs": [],
   "source": [
    "plt.hist(sigma, bins=25, range=[-10,10])\n",
    "plt.xlabel('\"Sigma\"')"
   ]
  },
  {
   "cell_type": "code",
   "execution_count": null,
   "metadata": {},
   "outputs": [],
   "source": [
    "plt.savefig('count_rate_sigma.png')"
   ]
  },
  {
   "cell_type": "code",
   "execution_count": null,
   "metadata": {},
   "outputs": [],
   "source": [
    "np.mean(sigma)"
   ]
  },
  {
   "cell_type": "code",
   "execution_count": null,
   "metadata": {},
   "outputs": [],
   "source": [
    "min(sigma)"
   ]
  },
  {
   "cell_type": "code",
   "execution_count": null,
   "metadata": {},
   "outputs": [],
   "source": [
    "max(sigma)"
   ]
  },
  {
   "cell_type": "code",
   "execution_count": null,
   "metadata": {},
   "outputs": [],
   "source": []
  }
 ],
 "metadata": {
  "kernelspec": {
   "display_name": "Python 3",
   "language": "python",
   "name": "python3"
  },
  "language_info": {
   "codemirror_mode": {
    "name": "ipython",
    "version": 3
   },
   "file_extension": ".py",
   "mimetype": "text/x-python",
   "name": "python",
   "nbconvert_exporter": "python",
   "pygments_lexer": "ipython3",
   "version": "3.7.1"
  },
  "toc": {
   "base_numbering": 1,
   "nav_menu": {},
   "number_sections": true,
   "sideBar": true,
   "skip_h1_title": false,
   "title_cell": "Table of Contents",
   "title_sidebar": "Contents",
   "toc_cell": false,
   "toc_position": {},
   "toc_section_display": true,
   "toc_window_display": false
  },
  "varInspector": {
   "cols": {
    "lenName": 16,
    "lenType": 16,
    "lenVar": 40
   },
   "kernels_config": {
    "python": {
     "delete_cmd_postfix": "",
     "delete_cmd_prefix": "del ",
     "library": "var_list.py",
     "varRefreshCmd": "print(var_dic_list())"
    },
    "r": {
     "delete_cmd_postfix": ") ",
     "delete_cmd_prefix": "rm(",
     "library": "var_list.r",
     "varRefreshCmd": "cat(var_dic_list()) "
    }
   },
   "types_to_exclude": [
    "module",
    "function",
    "builtin_function_or_method",
    "instance",
    "_Feature"
   ],
   "window_display": false
  }
 },
 "nbformat": 4,
 "nbformat_minor": 2
}
