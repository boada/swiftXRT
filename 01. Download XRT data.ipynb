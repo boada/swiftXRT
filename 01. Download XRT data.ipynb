{
 "cells": [
  {
   "cell_type": "code",
   "execution_count": 3,
   "metadata": {},
   "outputs": [],
   "source": [
    "import os\n",
    "import numpy as np\n",
    "from time import sleep\n",
    "from astropy.io import fits\n",
    "from astropy.time import Time"
   ]
  },
  {
   "cell_type": "code",
   "execution_count": 4,
   "metadata": {},
   "outputs": [],
   "source": [
    "def get_catalog(ra, dec, target, outpath, table='swiftmastr', oformat='fits'):\n",
    "\n",
    "    # build the command\n",
    "    cmd = (f'./browse_extract_wget.pl table={table} position={ra},{dec} '\n",
    "           f'outfile={outpath}/{target}/{target}xrt.fits format={oformat} radius=10')\n",
    "\n",
    "    print(cmd)\n",
    "    os.system(cmd)"
   ]
  },
  {
   "cell_type": "code",
   "execution_count": 5,
   "metadata": {},
   "outputs": [],
   "source": [
    "def get_files(target, outpath):\n",
    "\n",
    "    cat = fits.getdata(f'{outpath}/{target}/{target}xrt.fits')\n",
    "\n",
    "    if cat.shape[0] < 1:\n",
    "        return\n",
    "\n",
    "    for i in range(cat.shape[0]):\n",
    "        obsid = cat['obsid'][i]\n",
    "        t = Time(cat['start_time'][i], format='mjd')\n",
    "        y, m = t.iso.split('-')[:2]\n",
    "\n",
    "        wget = (f'wget -P {outpath}/{target} -q -nH --no-check-certificate --cut-dirs=5 '\n",
    "                '-r -l0 -c -N -np -R \"index*\" -erobots=off --retr-symlinks '\n",
    "                f'https://heasarc.gsfc.nasa.gov/FTP/swift/data/obs/{y}_{m}//'\n",
    "                f'{obsid}/xrt/products/sw{obsid}xpc_ex.img.gz')\n",
    "\n",
    "        print(wget)\n",
    "        os.system(wget)\n",
    "\n",
    "        wget = (f'wget -P {outpath}/{target} -q -nH --no-check-certificate --cut-dirs=5 '\n",
    "                '-r -l0 -c -N -np -R \"index*\" -erobots=off --retr-symlinks '\n",
    "                f'https://heasarc.gsfc.nasa.gov/FTP/swift/data/obs/{y}_{m}//'\n",
    "                f'{obsid}/xrt/event/sw{obsid}xpcw3po_cl.evt.gz')\n",
    "\n",
    "        print(wget)\n",
    "        os.system(wget)"
   ]
  },
  {
   "cell_type": "code",
   "execution_count": 1,
   "metadata": {},
   "outputs": [],
   "source": [
    "def load_PSZcatalog(unconf=False):\n",
    "    from astropy.table import Table                                                       \n",
    "    from numpy import append as npappend                                             \n",
    "\n",
    "    datapath = f'{os.environ[\"HOME\"]}/Projects/planckClusters/catalogs'\n",
    "    \n",
    "    ps1 = Table.read(f'{datapath}/PSZ1v2.1.fits')\n",
    "    ps2 = Table.read(f'{datapath}/PSZ2v1.fits')\n",
    "\n",
    "    # convert to pandas\n",
    "    df1 = ps1.to_pandas()\n",
    "    df2 = ps2.to_pandas()\n",
    "\n",
    "    if unconf:\n",
    "        # only get unconfirmed sources                                                   \n",
    "        df1 = df1.loc[df1['VALIDATION'] <= 3]                                         \n",
    "        df2 = df2.loc[df2['VALIDATION'] == -1]  \n",
    "    \n",
    "    # clean up strings -- not required\n",
    "    df1 = df1.applymap(lambda x: x.decode() if isinstance(x, bytes) else x)\n",
    "    df2 = df2.applymap(lambda x: x.decode() if isinstance(x, bytes) else x)\n",
    "\n",
    "    # merge the catalogs together\n",
    "    df_m = df1.merge(df2, how='outer', left_on='INDEX', right_on='PSZ', suffixes=('_PSZ1', '_PSZ2'))\n",
    "    \n",
    "    # get the columns that we want\n",
    "    cols = df_m.columns[[0, 1, 4, 5, 8, 29, 33, 34, 37, 38, 40, 51]]\n",
    "    df_final = df_m[cols]\n",
    "\n",
    "    # remerge to find bits that were missing                                        \n",
    "    df_final_bigger = df_final.merge(df2, how='left', left_on='INDEX_PSZ1',         \n",
    "                                 right_on='PSZ')\n",
    "    # fill in nans                                                                  \n",
    "    for col in ['NAME', 'RA', 'DEC', 'SNR', 'REDSHIFT', 'INDEX']:                   \n",
    "        df_final_bigger[col+'_PSZ2'] = df_final_bigger[col+'_PSZ2'].fillna(df_final_bigger[col])\n",
    "    # fill in nans                                                                  \n",
    "    for col in ['NAME', 'RA', 'DEC', 'SNR', 'REDSHIFT', 'INDEX']:\n",
    "        df_final_bigger[col+'_PSZ2'] = df_final_bigger[col+'_PSZ2'].fillna(df_final_bigger[col])\n",
    "    for col in ['NAME', 'RA', 'DEC']:\n",
    "        df_final_bigger[col] = df_final_bigger[col+'_PSZ2'].fillna(df_final_bigger[col+'_PSZ1'])\n",
    "\n",
    "    df_final_bigger = df_final_bigger[npappend(df_final_bigger.columns[:12].values, ['NAME', 'RA', 'DEC'])]\n",
    "\n",
    "    return df_final_bigger\n",
    "  "
   ]
  },
  {
   "cell_type": "code",
   "execution_count": 7,
   "metadata": {},
   "outputs": [],
   "source": [
    "def write_info(outpath, idx, data):\n",
    "    target = data.iloc[idx]['NAME'].replace(' ', '_')\n",
    "    cols = data.columns.tolist()\n",
    "    vals = data.iloc[idx]\n",
    "    # convert the values into all strings\n",
    "    vals_str = [f'{i:.8}' if isinstance(i, float) else i for i in vals.values.tolist()]\n",
    "    with open(f'{outpath}/{target}/{target}.info', 'w') as f:\n",
    "        f.write(f'{\",\".join(cols)}\\n')\n",
    "        f.write(f'{\",\".join(vals_str)}\\n')        \n",
    "    "
   ]
  },
  {
   "cell_type": "code",
   "execution_count": 73,
   "metadata": {
    "scrolled": true
   },
   "outputs": [],
   "source": [
    "%%capture\n",
    "\n",
    "# get file data\n",
    "data = load_PSZcatalog()\n",
    "data = data.sort_index(axis=1)\n",
    "\n",
    "outpath = './data_full'\n",
    "\n",
    "for i, (ra, dec, name) in enumerate(zip(data['RA'], data['DEC'], data['NAME'])):\n",
    "\n",
    "    print(name)\n",
    "    name = name.replace(' ', '_')\n",
    "\n",
    "    if not os.path.isdir(f'{outpath}/{name}'):\n",
    "        os.makedirs(f'{outpath}/{name}')\n",
    "\n",
    "    get_catalog(ra, dec, f'{name}', outpath)\n",
    "    write_info(outpath, i, data)\n",
    "    get_files(f'{name}', outpath)\n",
    "    \n",
    "    sleep(1)"
   ]
  },
  {
   "cell_type": "code",
   "execution_count": 8,
   "metadata": {},
   "outputs": [
    {
     "name": "stderr",
     "output_type": "stream",
     "text": [
      "WARNING: UnitsWarning: 'erg/s/cm2' contains multiple slashes, which is discouraged by the FITS standard [astropy.units.format.generic]\n"
     ]
    }
   ],
   "source": [
    "data = load_PSZcatalog()"
   ]
  },
  {
   "cell_type": "code",
   "execution_count": 10,
   "metadata": {},
   "outputs": [
    {
     "data": {
      "text/plain": [
       "0       PSZ2 G000.04+45.13\n",
       "1       PSZ2 G000.40-41.86\n",
       "2       PSZ2 G000.77-35.69\n",
       "3       PSZ1 G001.00+25.71\n",
       "4       PSZ2 G002.08-68.28\n",
       "5       PSZ2 G002.77-56.16\n",
       "6       PSZ2 G002.82+39.23\n",
       "7       PSZ1 G003.09-22.51\n",
       "8       PSZ1 G003.60-24.45\n",
       "9       PSZ2 G003.93-59.41\n",
       "10      PSZ2 G003.91-42.03\n",
       "11      PSZ2 G004.13+56.81\n",
       "12      PSZ1 G004.30+53.93\n",
       "13      PSZ2 G004.45-19.55\n",
       "14      PSZ2 G005.91-28.26\n",
       "15      PSZ2 G006.05+29.43\n",
       "16      PSZ2 G006.49+50.56\n",
       "17      PSZ2 G006.68-35.55\n",
       "18      PSZ2 G006.76+30.45\n",
       "19      PSZ2 G006.82-34.71\n",
       "20      PSZ2 G007.57-33.90\n",
       "21      PSZ2 G007.76-36.83\n",
       "22      PSZ2 G008.31-64.74\n",
       "23      PSZ2 G008.47-56.34\n",
       "24      PSZ2 G008.80-35.18\n",
       "25      PSZ2 G008.94-81.22\n",
       "26      PSZ2 G009.45-56.93\n",
       "27      PSZ1 G011.20-40.36\n",
       "28      PSZ2 G011.36-72.93\n",
       "29      PSZ1 G011.50-40.11\n",
       "               ...        \n",
       "1913    PSZ2 G342.32+23.51\n",
       "1914    PSZ2 G342.45+24.14\n",
       "1915    PSZ2 G342.62-39.60\n",
       "1916    PSZ2 G343.33+83.19\n",
       "1917    PSZ2 G343.46+52.65\n",
       "1918    PSZ2 G343.68+24.10\n",
       "1919    PSZ2 G344.99-81.88\n",
       "1920    PSZ2 G345.32-59.97\n",
       "1921    PSZ2 G345.38-25.32\n",
       "1922    PSZ2 G345.82-34.29\n",
       "1923    PSZ2 G346.30-30.35\n",
       "1924    PSZ2 G346.36-77.71\n",
       "1925    PSZ2 G346.86-45.38\n",
       "1926    PSZ2 G347.27-52.46\n",
       "1927    PSZ2 G347.96+80.46\n",
       "1928    PSZ2 G349.12+67.62\n",
       "1929    PSZ2 G349.18+38.66\n",
       "1930    PSZ2 G353.36-26.49\n",
       "1931    PSZ2 G355.07+55.32\n",
       "1932    PSZ2 G355.22-70.03\n",
       "1933    PSZ2 G355.50+54.72\n",
       "1934    PSZ2 G356.04-49.50\n",
       "1935    PSZ2 G356.05+70.99\n",
       "1936    PSZ2 G356.21-43.11\n",
       "1937    PSZ2 G356.53+28.66\n",
       "1938    PSZ2 G356.88-11.33\n",
       "1939    PSZ2 G357.75-41.77\n",
       "1940    PSZ2 G358.80-10.83\n",
       "1941    PSZ2 G358.94-70.57\n",
       "1942    PSZ2 G359.60-08.72\n",
       "Name: NAME, Length: 1943, dtype: object"
      ]
     },
     "execution_count": 10,
     "metadata": {},
     "output_type": "execute_result"
    }
   ],
   "source": [
    "data['NAME']"
   ]
  },
  {
   "cell_type": "code",
   "execution_count": null,
   "metadata": {},
   "outputs": [],
   "source": []
  }
 ],
 "metadata": {
  "kernelspec": {
   "display_name": "Python 3",
   "language": "python",
   "name": "python3"
  },
  "language_info": {
   "codemirror_mode": {
    "name": "ipython",
    "version": 3
   },
   "file_extension": ".py",
   "mimetype": "text/x-python",
   "name": "python",
   "nbconvert_exporter": "python",
   "pygments_lexer": "ipython3",
   "version": "3.6.5"
  }
 },
 "nbformat": 4,
 "nbformat_minor": 2
}
