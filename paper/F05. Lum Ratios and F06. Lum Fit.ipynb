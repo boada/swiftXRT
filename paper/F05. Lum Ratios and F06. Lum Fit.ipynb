{
 "cells": [
  {
   "cell_type": "code",
   "execution_count": null,
   "metadata": {},
   "outputs": [],
   "source": [
    "%matplotlib notebook\n",
    "import numpy as np\n",
    "import matplotlib.pyplot as plt\n",
    "from astropy.table import Table\n",
    "from astropy import units as u\n",
    "from astropy.coordinates import SkyCoord\n",
    "import emcee"
   ]
  },
  {
   "cell_type": "code",
   "execution_count": null,
   "metadata": {},
   "outputs": [],
   "source": [
    "def standdev(array):\n",
    "    array = np.array(array)\n",
    "    mean = np.mean(array)\n",
    "    minarr = (array - mean)\n",
    "    minsarrs = minarr**2\n",
    "    meanarray = np.sum(minsarrs) / (len(array) - 1)\n",
    "    std = np.sqrt(meanarray)\n",
    "    print('Mean:', mean, 'RMS:', std)\n",
    "    return mean, std\n",
    "\n",
    "\n",
    "def LumCompare(new, trusted, rad):\n",
    "    steven = Table.read(new)\n",
    "    mcxc = Table.read(trusted)\n",
    "    names = steven['NAME']\n",
    "    RA = steven[\"RA_detc\"]\n",
    "    DEC = steven[\"DEC_detc\"]\n",
    "    ZS = steven['REDSHIFT']\n",
    "    ZM = mcxc['z']\n",
    "    LumS = steven['LUM_CORR']   # units of ergs/s\n",
    "    # applying the conversion from the fits file to it, dont *1e+37 again\n",
    "    LumM = mcxc['L500'] * 1e+37\n",
    "\n",
    "    #Establishing the coordinates of the two tables\n",
    "    c1 = SkyCoord(steven[\"RA_detc\"] * u.deg, steven[\"DEC_detc\"] * u.deg)\n",
    "    c2 = SkyCoord(mcxc[\"RAdeg\"], mcxc[\"DEdeg\"])\n",
    "    #Finding the 5 arcminute matches\n",
    "    #Guide: idxN_a indicies of NVSS sources that match to corresponding element\n",
    "    # of idxP1_a which contains the indicies of psz1 sources\n",
    "    #idxP1_a indicies of psz1 sources that match to the corresponding element\n",
    "    # of idxN_a which contains the indicies of nvss sources\n",
    "    #n = [1, 2, 3]\n",
    "    #p = [23, 5, 23]\n",
    "    #The radio source of index 1 and 3 both match the psz source of index 23\n",
    "\n",
    "    idmcxc, idsteven, d2d, d3d = c1.search_around_sky(c2, rad * u.arcmin)\n",
    "    print('MCXC Entries', len(idmcxc), 'Steven Entries', len(idsteven))\n",
    "\n",
    "    #checking if there are any empty elements/ there aren't this only\n",
    "    #flags the 0 indicies\n",
    "    a = [1 for idp in idsteven if not idp]\n",
    "    print('Empty Entries in Steven', sum(a))\n",
    "    b = [1 for idp in idmcxc if not idp]\n",
    "    print('Empty Entries in MCX', sum(b))\n",
    "    stevenunique = np.unique(idsteven)\n",
    "    print('Unique Steven', len(stevenunique))\n",
    "    mcxcunique = np.unique(idmcxc)\n",
    "    print('Unique MCXC', len(mcxcunique))\n",
    "    #Filtering variables based on position matches\n",
    "    names = names[idsteven]\n",
    "    RA = RA[idsteven]\n",
    "    DEC = DEC[idsteven]\n",
    "    LumSteven = LumS[idsteven]\n",
    "    LumMCXC = LumM[idmcxc] * 1e7  # applying luminosity unit conversion\n",
    "    ZSteven = ZS[idsteven]\n",
    "    ZMCXC = ZM[idmcxc]\n",
    "\n",
    "    return ZSteven, LumSteven, ZMCXC, LumMCXC, names, RA, DEC\n",
    "\n",
    "\n",
    "def findoutliers(name, newz, trustedz, diffguess, ra, dec):\n",
    "    name = np.asarray(name)\n",
    "    newz = np.asarray(newz)\n",
    "    trustedz = np.asarray(trustedz)\n",
    "    ra = np.asarray(ra)\n",
    "    dec = np.asarray(dec)\n",
    "    zdiff = newz - trustedz\n",
    "    offone = np.flatnonzero(np.abs(zdiff) >= np.abs(diffguess))\n",
    "    print('Redshift Difference:')\n",
    "    print('Name:  ', 'Steven_Z', 'MCXC_Z', 'Z_Diff', 'RA', 'DEC', sep='      ')\n",
    "    for i in offone:\n",
    "        print(name[i],\n",
    "              newz[i],\n",
    "              trustedz[i],\n",
    "              zdiff[i],\n",
    "              ra[i],\n",
    "              dec[i],\n",
    "              sep='   ')\n",
    "    mean, std = standdev(zdiff)\n",
    "    return mean, std, offone\n",
    "\n",
    "\n",
    "def LumCompare2(new, trusted, rad):\n",
    "    steven = Table.read(new)\n",
    "    mcxc = Table.read(trusted)\n",
    "    expos = steven[\"EXPTIME\"]\n",
    "    index = steven['INDEX']\n",
    "    dup = steven['DUPLICATE']\n",
    "    L1 = mcxc['L500r1']\n",
    "    L2 = mcxc['L500r2']\n",
    "    L3 = mcxc['L500r3']\n",
    "    L4 = mcxc['L500r4']\n",
    "    oname = mcxc['OName']\n",
    "    aname = mcxc['AName']\n",
    "\n",
    "    LumEup = steven['LUM_CORR_POSERR']  # units of ergs/s\n",
    "    LumEdown = steven['LUM_CORR_NEGERR']  # units of ergs/s\n",
    "    Corr = steven['CORR']\n",
    "\n",
    "    #Establishing the coordinates of the two tables\n",
    "    c1 = SkyCoord(steven[\"RA_detc\"] * u.deg, steven[\"DEC_detc\"] * u.deg)\n",
    "    c2 = SkyCoord(mcxc[\"RAdeg\"], mcxc[\"DEdeg\"])\n",
    "    #Finding the 5 arcminute matches\n",
    "    #Guide: idxN_a indicies of NVSS sources that match to corresponding element\n",
    "    # of idxP1_a which contains the indicies of psz1 sources\n",
    "    #idxP1_a indicies of psz1 sources that match to the corresponding element\n",
    "    # of idxN_a which contains the indicies of nvss sources\n",
    "    #n = [1, 2, 3]\n",
    "    #p = [23, 5, 23]\n",
    "    #The radio source of index 1 and 3 both match the psz source of index 23\n",
    "\n",
    "    idmcxc, idsteven, d2d, d3d = c1.search_around_sky(c2, rad * u.arcmin)\n",
    "    print('MCXC Entries', len(idmcxc), 'Steven Entries', len(idsteven))\n",
    "\n",
    "    #checking if there are any empty elements/ there aren't this only\n",
    "    #flags the 0 indicies\n",
    "    a = [1 for idp in idsteven if not idp]\n",
    "    print('Empty Entries in Steven', sum(a))\n",
    "    b = [1 for idp in idmcxc if not idp]\n",
    "    print('Empty Entries in MCX', sum(b))\n",
    "    stevenunique = np.unique(idsteven)\n",
    "    print('Unique Steven', len(stevenunique))\n",
    "    mcxcunique = np.unique(idmcxc)\n",
    "    print('Unique MCXC', len(mcxcunique))\n",
    "\n",
    "    L1 = L1[idmcxc]\n",
    "    L2 = L2[idmcxc]\n",
    "    L3 = L3[idmcxc]\n",
    "    L4 = L4[idmcxc]\n",
    "    oname = oname[idmcxc]\n",
    "    aname = aname[idmcxc]\n",
    "    expos = expos[idsteven]\n",
    "    dup = dup[idsteven]\n",
    "    index = index[idsteven]\n",
    "    LumEP = LumEup[idsteven]\n",
    "    LumEN = LumEdown[idsteven]\n",
    "    Corr = Corr[idsteven]\n",
    "    return LumEP, LumEN, expos, index, L1, Corr, oname, aname, dup\n",
    "\n",
    "\n",
    "def Chi2RatioError(data, err):\n",
    "    model = np.ones(len(data))\n",
    "    chisq = np.sum((data - model)**2 / (err)**2)\n",
    "    print('Chi Square Statistic:(Error)', chisq)\n",
    "    return chisq\n",
    "\n",
    "\n",
    "def log_prior(theta):\n",
    "    A = theta\n",
    "    if not -10 < A < 10:\n",
    "        return -np.inf\n",
    "    return 0\n",
    "\n",
    "\n",
    "def log_likelihood(theta, LumMCXC, data, err):\n",
    "    A = theta\n",
    "    model = A * (LumMCXC**1.0)\n",
    "    lnchisq = np.sum(-0.5 * (data - model)**2 / err**2)\n",
    "    return lnchisq\n",
    "\n",
    "\n",
    "def log_posterior(theta, LumMCXC, data, err):\n",
    "    lp = log_prior(theta)\n",
    "    if not np.isfinite(lp):\n",
    "        return -np.inf\n",
    "    return log_prior(theta) + log_likelihood(theta, LumMCXC, data, err)\n",
    "\n",
    "\n",
    "def MCMCfitandPlot(data, error, LumMCXC):\n",
    "    ndim = 1  # number of parameters in the model\n",
    "    nwalkers = 100  # number of MCMC walkers\n",
    "    nburn = 100  # \"burn-in\" period to let chains stabilize\n",
    "    nsteps = 500  # number of MCMC steps to take\n",
    "\n",
    "    pos = [\n",
    "        np.array([1.01]) + 5e-2 * np.random.randn(ndim)\n",
    "        for i in range(nwalkers)\n",
    "    ]\n",
    "\n",
    "    sampler = emcee.EnsembleSampler(nwalkers,\n",
    "                                    ndim,\n",
    "                                    log_posterior,\n",
    "                                    args=[LumMCXC, data, error])\n",
    "    mcmcgunk = sampler.run_mcmc(pos, nsteps)\n",
    "#     one = sampler.chain[0, 9999, 0]\n",
    "#     print('A:', sampler.chain[0, 9999, 0])\n",
    "#     mcmcnumbers = (one)  #(one, two, three)\n",
    "\n",
    "    plt.figure(1)\n",
    "    for j in range(ndim):\n",
    "        for i in range(nwalkers):\n",
    "            derp = sampler.chain[i, :, j]\n",
    "            plt.plot(derp, linewidth='0.25')\n",
    "        plt.show()\n",
    "\n",
    "    label = ('A')\n",
    "    samples = sampler.chain[:, nburn:, :].reshape((-1, ndim))\n",
    "    #     fig = corner.corner(samples, labels=label)\n",
    "    #     plt.show()\n",
    "    thechain = sampler.flatchain\n",
    "    print('Mean values:', np.mean(thechain, axis=0))\n",
    "    print('Standard deviation:', np.std(thechain, axis=0))\n",
    "    return sampler\n",
    "\n",
    "\n",
    "def IntScat(param, data, model, error):\n",
    "    #param number of parameters that was fitted for\n",
    "    a = r'\\sigma^2'\n",
    "    N = len(data)\n",
    "    #mean = np.mean(data)\n",
    "    minus = (data - model) / model\n",
    "    minus2 = minus**2\n",
    "    var = np.sum(minus2) / (N - param)\n",
    "    errvar = np.sum((error / model)**2) / N\n",
    "    intscat = var - errvar\n",
    "    print(r\"The instrinsic scatter sigma^2 = \", intscat)\n",
    "    print(r\"The instrinsic scatter sigma = \", np.sqrt(intscat))\n",
    "    return intscat"
   ]
  },
  {
   "cell_type": "code",
   "execution_count": null,
   "metadata": {},
   "outputs": [],
   "source": [
    "ZSteven, LumSteven, ZMCXC, LumMCXC, names, RA, DEC = LumCompare(\n",
    "    './catalogs/results_table_inspected_0.1_2.4.fits', './catalogs/MCXC.fits',\n",
    "    1)\n",
    "LumEP, LumEN, expos, index, L1, Corr, Oname, Aname, Dup = LumCompare2(\n",
    "    './catalogs/results_table_inspected_0.1_2.4.fits', './catalogs/MCXC.fits',\n",
    "    1)"
   ]
  },
  {
   "cell_type": "code",
   "execution_count": null,
   "metadata": {},
   "outputs": [],
   "source": [
    "lumfilt = np.flatnonzero(LumSteven > 0.0)\n",
    "len(lumfilt)"
   ]
  },
  {
   "cell_type": "code",
   "execution_count": null,
   "metadata": {},
   "outputs": [],
   "source": [
    "#Applying luminosity filter\n",
    "ZSteven, LumSteven, ZMCXC, LumMCXC, names, RA, DEC, LumEP, LumEN, expos, index, L1, Corr, Oname, Aname, Dup = ZSteven[\n",
    "    lumfilt], LumSteven[lumfilt], ZMCXC[lumfilt], LumMCXC[lumfilt], names[\n",
    "        lumfilt], RA[lumfilt], DEC[lumfilt], LumEP[lumfilt], LumEN[\n",
    "            lumfilt], expos[lumfilt], index[lumfilt], L1[lumfilt], Corr[\n",
    "                lumfilt], Oname[lumfilt], Aname[lumfilt], Dup[lumfilt]"
   ]
  },
  {
   "cell_type": "code",
   "execution_count": null,
   "metadata": {},
   "outputs": [],
   "source": [
    "dupfilt = np.where(Dup == 'False')\n",
    "len(Dup)"
   ]
  },
  {
   "cell_type": "code",
   "execution_count": null,
   "metadata": {},
   "outputs": [],
   "source": [
    "expfilt = np.flatnonzero(expos >= 1000.0)\n",
    "len(expfilt)"
   ]
  },
  {
   "cell_type": "code",
   "execution_count": null,
   "metadata": {},
   "outputs": [],
   "source": [
    "#Applying exposure filter\n",
    "ZStevenef, LumStevenef, ZMCXCef, LumMCXCef, namesef, RAef, DECef, LumEPef, LumENef, exposef, indexef, L1ef, Corref, Onameef, Anameef = ZSteven[\n",
    "    expfilt], LumSteven[expfilt], ZMCXC[expfilt], LumMCXC[expfilt], names[\n",
    "        expfilt], RA[expfilt], DEC[expfilt], LumEP[expfilt], LumEN[\n",
    "            expfilt], expos[expfilt], index[expfilt], L1[expfilt], Corr[\n",
    "                expfilt], Oname[expfilt], Aname[expfilt]"
   ]
  },
  {
   "cell_type": "code",
   "execution_count": null,
   "metadata": {},
   "outputs": [],
   "source": [
    "zfilt = np.flatnonzero(ZStevenef >= 0.1)\n",
    "len(zfilt)"
   ]
  },
  {
   "cell_type": "code",
   "execution_count": null,
   "metadata": {},
   "outputs": [],
   "source": [
    "#Applying redshift filter\n",
    "ZStevenefzf, LumStevenefzf, ZMCXCefzf, LumMCXCefzf, namesefzf, RAefzf, DECefzf, LumEPefzf, LumENefzf, exposefzf, indexefzf, L1efzf, Correfzf, Onameefzf, Anameefzf = ZStevenef[\n",
    "    zfilt], LumStevenef[zfilt], ZMCXCef[zfilt], LumMCXCef[zfilt], namesef[\n",
    "        zfilt], RAef[zfilt], DECef[zfilt], LumEPef[zfilt], LumENef[\n",
    "            zfilt], exposef[zfilt], indexef[zfilt], L1ef[zfilt], Corref[\n",
    "                zfilt], Onameef[zfilt], Anameef[zfilt]"
   ]
  },
  {
   "cell_type": "code",
   "execution_count": null,
   "metadata": {},
   "outputs": [],
   "source": [
    "lowLfilt = np.flatnonzero(LumMCXCefzf >= 1e44)\n",
    "len(lowLfilt)"
   ]
  },
  {
   "cell_type": "code",
   "execution_count": null,
   "metadata": {},
   "outputs": [],
   "source": [
    "ZStevenefzf, LumStevenefzf, ZMCXCefzf, LumMCXCefzf, namesefzf, RAefzf, DECefzf, LumEPefzf, LumENefzf, exposefzf, indexefzf, L1efzf, Correfzf, Onameefzf, Anameefzf = ZStevenefzf[\n",
    "    lowLfilt], LumStevenefzf[lowLfilt], ZMCXCefzf[lowLfilt], LumMCXCefzf[\n",
    "        lowLfilt], namesefzf[lowLfilt], RAefzf[lowLfilt], DECefzf[\n",
    "            lowLfilt], LumEPefzf[lowLfilt], LumENefzf[lowLfilt], exposefzf[\n",
    "                lowLfilt], indexefzf[lowLfilt], L1efzf[lowLfilt], Correfzf[\n",
    "                    lowLfilt], Onameefzf[lowLfilt], Anameefzf[lowLfilt]"
   ]
  },
  {
   "cell_type": "markdown",
   "metadata": {},
   "source": [
    "Steven as I mentioned last time, I'm not sure if simply taking the outliers out is something that we want to do, but that's how my code is currently set up. It takes the redshift outliers out and the most extreme luminosity outlier from the low end. \n",
    "If you want to include the outliers just remove the steps that do that."
   ]
  },
  {
   "cell_type": "markdown",
   "metadata": {},
   "source": [
    "## Find Redshift Outliers, Track, and Remove"
   ]
  },
  {
   "cell_type": "code",
   "execution_count": null,
   "metadata": {},
   "outputs": [],
   "source": [
    "mean, std, outind = findoutliers(namesefzf, ZStevenefzf, ZMCXCefzf, 0.0009,\n",
    "                                 RAefzf, DECefzf)\n",
    "Routind = outind[::-1]\n",
    "len(Routind)"
   ]
  },
  {
   "cell_type": "code",
   "execution_count": null,
   "metadata": {},
   "outputs": [],
   "source": [
    "#Remove Outliers\n",
    "\n",
    "print(len(namesefzf))\n",
    "zsteven = np.delete(ZStevenefzf, outind)\n",
    "Lsteven = np.delete(LumStevenefzf, outind)\n",
    "zmcxc = np.delete(ZMCXCefzf, outind)\n",
    "Lmcxc = np.delete(LumMCXCefzf, outind)\n",
    "name = np.delete(namesefzf, outind)\n",
    "ra = np.delete(RAefzf, outind)\n",
    "dec = np.delete(DECefzf, outind)\n",
    "LstevenEP = np.delete(LumEPefzf, outind)\n",
    "LstevenEN = np.delete(LumENefzf, outind)\n",
    "exptime = np.delete(exposefzf, outind)\n",
    "idxs = np.delete(indexefzf, outind)\n",
    "L1mcxc = np.delete(L1efzf, outind)\n",
    "corr = np.delete(Correfzf, outind)\n",
    "oname = np.delete(Onameefzf, outind)\n",
    "aname = np.delete(Anameefzf, outind)\n",
    "print(len(name))\n",
    "\n",
    "### In case you want to keep the outliers. Comment out the above and uncomment the code below.\n",
    "\n",
    "#zsteven = ZStevenefzf\n",
    "#Lsteven = LumStevenefzf\n",
    "#zmcxc = ZMCXCefzf\n",
    "#Lmcxc = LumMCXCefzf,\n",
    "#name = namesefzf\n",
    "#ra = RAefzf\n",
    "#dec = DECefzf,\n",
    "#LstevenEP = LumEPefzf\n",
    "#LstevenEN = LumENefzf\n",
    "#exptime = exposefzf\n",
    "#idxs = indexefzf\n",
    "#L1mcxc = L1efzf\n",
    "#corr = Correfzf,\n",
    "#oname = Onameefzf,\n",
    "#aname = Anameefzf,"
   ]
  },
  {
   "cell_type": "code",
   "execution_count": null,
   "metadata": {},
   "outputs": [],
   "source": [
    "#Track Outliers\n",
    "###########################################################\n",
    "zsteveno = ZStevenefzf[outind]\n",
    "Lsteveno = LumStevenefzf[outind]\n",
    "zmcxco = ZMCXCefzf[outind]\n",
    "Lmcxco = LumMCXCefzf[outind]\n",
    "nameo = namesefzf[outind]\n",
    "rao = RAefzf[outind]\n",
    "deco = DECefzf[outind]\n",
    "LstevenEPo = LumEPefzf[outind]\n",
    "LstevenENo = LumENefzf[outind]\n",
    "exptimeo = exposefzf[outind]\n",
    "idxso = indexefzf[outind]\n",
    "L1mcxco = L1efzf[outind]\n",
    "corro = Correfzf[outind]\n",
    "onameo = Onameefzf[outind]\n",
    "anameo = Anameefzf[outind]\n",
    "##############################################################"
   ]
  },
  {
   "cell_type": "markdown",
   "metadata": {},
   "source": [
    "## Luminosity Ratios\n"
   ]
  },
  {
   "cell_type": "code",
   "execution_count": null,
   "metadata": {},
   "outputs": [],
   "source": [
    "#Getting Rid of Big Outlier\n",
    "outthree = np.flatnonzero(Lsteven / Lmcxc == np.min(Lsteven / Lmcxc))\n",
    "print('index', outthree, 'length of array with index', len(Lmcxc))\n",
    "print(name[outthree], idxs[outthree], ra[outthree], dec[outthree],\n",
    "      zsteven[outthree], Lsteven[outthree], LstevenEP[outthree],\n",
    "      LstevenEN[outthree], Lmcxc[outthree], exptime[outthree], corr[outthree])"
   ]
  },
  {
   "cell_type": "code",
   "execution_count": null,
   "metadata": {},
   "outputs": [],
   "source": [
    "zsteven = np.delete(zsteven, outthree)\n",
    "Lsteven = np.delete(Lsteven, outthree)\n",
    "zmcxc = np.delete(zmcxc, outthree)\n",
    "Lmcxc = np.delete(Lmcxc, outthree)\n",
    "name = np.delete(name, outthree)\n",
    "ra = np.delete(ra, outthree)\n",
    "dec = np.delete(dec, outthree)\n",
    "LstevenEP = np.delete(LstevenEP, outthree)\n",
    "LstevenEN = np.delete(LstevenEN, outthree)\n",
    "exptime = np.delete(exptime, outthree)\n",
    "idxs = np.delete(idxs, outthree)\n",
    "L1mcxc = np.delete(L1mcxc, outthree)\n",
    "corr = np.delete(corr, outthree)\n",
    "oname = np.delete(oname, outthree)\n",
    "aname = np.delete(aname, outthree)\n"
   ]
  },
  {
   "cell_type": "code",
   "execution_count": null,
   "metadata": {},
   "outputs": [],
   "source": [
    "#Big Outlier\n",
    "print(6.13709651e+43 / 3.725047e+44)"
   ]
  },
  {
   "cell_type": "code",
   "execution_count": null,
   "metadata": {},
   "outputs": [],
   "source": [
    "Ratio = Lsteven / Lmcxc\n",
    "meanlum, stdlum = standdev(Ratio)\n",
    "Iolow, Iomid, Iohigh = np.percentile(Ratio, [16, 50, 84.0])\n",
    "print(Iomid, '+', Iohigh - Iomid, '-', Iomid - Iolow)"
   ]
  },
  {
   "cell_type": "code",
   "execution_count": null,
   "metadata": {},
   "outputs": [],
   "source": [
    "plt.figure(figsize=(7, 7 * (np.sqrt(5.) - 1.0) / 2.0))\n",
    "plt.hist(Ratio, bins=40, alpha=0.5, label='Lum 0.1-2.4keV')\n",
    "plt.axvline(x=Iomid, c='#A60628', label='Median')\n",
    "plt.axvline(x=Iolow, c='#A60628', linestyle='--')\n",
    "plt.axvline(x=Iohigh, c='#A60628', linestyle='--')\n",
    "plt.axvline(x=meanlum, color='black', label='Mean')\n",
    "plt.axvline(x=meanlum - stdlum, color='black', linestyle='--')\n",
    "plt.axvline(x=meanlum + stdlum, color='black', linestyle='--')\n",
    "plt.xlabel('Luminosity Ratio')\n",
    "plt.ylabel('Number')\n",
    "#plt.title(r'Luminosity Ratio $L_{\\rm{Corr}}/L_{\\rm{MCXC}}$')\n",
    "plt.legend(loc='upper right', frameon=False)\n",
    "plt.show()\n"
   ]
  },
  {
   "cell_type": "code",
   "execution_count": null,
   "metadata": {},
   "outputs": [],
   "source": [
    "plt.tight_layout()\n",
    "plt.savefig('./figures/LumRatioHist.pdf', bbox='tight')"
   ]
  },
  {
   "cell_type": "markdown",
   "metadata": {},
   "source": [
    "## Luminosity Fit"
   ]
  },
  {
   "cell_type": "markdown",
   "metadata": {},
   "source": [
    "### Finding Single Error for the Fit"
   ]
  },
  {
   "cell_type": "code",
   "execution_count": null,
   "metadata": {},
   "outputs": [],
   "source": [
    "#Taking the larger value\n",
    "singleerr = []\n",
    "for (a, b) in zip(LstevenEN, LstevenEP):\n",
    "    if (np.abs(a) > np.abs(b)):\n",
    "        singleerr.append(a)\n",
    "    elif (np.abs(b) > np.abs(a)):\n",
    "        singleerr.append(b)\n",
    "    else:\n",
    "        singleerr.append(a)\n",
    "\n",
    "#The positive and the negative errors are the same.\n",
    "singleerr = np.array(singleerr)"
   ]
  },
  {
   "cell_type": "markdown",
   "metadata": {},
   "source": [
    "## Single Parameter Fit    $Y = Ax$"
   ]
  },
  {
   "cell_type": "code",
   "execution_count": null,
   "metadata": {},
   "outputs": [],
   "source": [
    "sampler = MCMCfitandPlot(Lsteven / 1e44, singleerr / 1e44, Lmcxc / 1e44)"
   ]
  },
  {
   "cell_type": "code",
   "execution_count": null,
   "metadata": {},
   "outputs": [],
   "source": [
    "flat_samples = sampler.get_chain(discard=100, thin=15, flat=True)"
   ]
  },
  {
   "cell_type": "code",
   "execution_count": null,
   "metadata": {},
   "outputs": [],
   "source": [
    "yfit  = flat_samples[:, None] * (Lmcxc / 1e44) ** 1.0\n",
    "mu = yfit.mean(0)\n",
    "sig = yfit.std(0)"
   ]
  },
  {
   "cell_type": "code",
   "execution_count": null,
   "metadata": {},
   "outputs": [],
   "source": [
    "A1s = flat_samples.T[0].mean()\n",
    "y1s = A1s * ((Lmcxc / 1e44)**1.0)\n",
    "\n",
    "res1 = (y1s - (Lsteven / 1e44)) / (singleerr / 1e44)\n",
    "resone = ((Lsteven / 1e44) - y1s) / (y1s)\n",
    "print('double check length of array', len(resone))"
   ]
  },
  {
   "cell_type": "code",
   "execution_count": null,
   "metadata": {},
   "outputs": [],
   "source": [
    "xLCs = Lmcxc / 1e44\n",
    "yLCs = xLCs\n",
    "\n",
    "f = plt.figure(figsize=(7 * (np.sqrt(5.) - 1.0) / 2.0, 7))\n",
    "ax = plt.subplot2grid((3, 1), (0, 0), rowspan=2)\n",
    "axs = plt.subplot2grid((3, 1), (2, 0))\n",
    "\n",
    "#MCXC on x axis becuase it is orderd already\n",
    "ax.errorbar(Lmcxc / 1e44,\n",
    "             Lsteven / 1e44,\n",
    "             yerr=singleerr / 1e44,\n",
    "             fmt='.',\n",
    "             c='#348ABD',\n",
    "             label=\"This Work\")\n",
    "ax.plot([0.1,100], [0.1,100], color='k', lw=1, label='1:1')\n",
    "ax.plot(Lmcxc / 1e44, y1s, color='#A60628', label=\"Fit\")\n",
    "\n",
    "ax.tick_params(labelbottom=False)    #Remove x-tic labels for the first frame\n",
    "\n",
    "ax.set_xlim(1, 25)\n",
    "ax.set_ylim(1, 25)\n",
    "ax.set_ylabel('L$_x$ [$10^{44}~erg~s^{-1}$]')\n",
    "ax.set_yscale('log')\n",
    "ax.set_xscale('log')\n",
    "ax.legend()\n",
    "\n",
    "\n",
    "axs.plot(Lmcxc / 1e44, resone, '.', c='#348ABD')\n",
    "axs.axhline(y=0.0, color='k', zorder=0)\n",
    "\n",
    "axs.set_ylabel('($L_x$ - $L_{fit}$) / $L_{fit}$')\n",
    "axs.set_xlabel('L$_{MCXC}$ [$10^{44}~erg~s^{-1}$]')\n",
    "axs.set_xlim(1, 25)\n",
    "axs.set_xscale('log')\n"
   ]
  },
  {
   "cell_type": "code",
   "execution_count": null,
   "metadata": {},
   "outputs": [],
   "source": [
    "plt.tight_layout()\n",
    "plt.savefig('./figures/LumFit_SingleParam.pdf', bbox='tight')"
   ]
  },
  {
   "cell_type": "code",
   "execution_count": null,
   "metadata": {},
   "outputs": [],
   "source": [
    "chisqresult2 = np.sum( (Lsteven/1e44 - y1s) ** 2 / (singleerr/1e44) ** 2)\n",
    "chisqresult2"
   ]
  },
  {
   "cell_type": "code",
   "execution_count": null,
   "metadata": {},
   "outputs": [],
   "source": [
    "intscat1s = IntScat(1,Lsteven/1e44,y1s,singleerr/1e44)"
   ]
  },
  {
   "cell_type": "code",
   "execution_count": null,
   "metadata": {},
   "outputs": [],
   "source": []
  },
  {
   "cell_type": "code",
   "execution_count": null,
   "metadata": {},
   "outputs": [],
   "source": []
  }
 ],
 "metadata": {
  "kernelspec": {
   "display_name": "Python 3",
   "language": "python",
   "name": "python3"
  },
  "language_info": {
   "codemirror_mode": {
    "name": "ipython",
    "version": 3
   },
   "file_extension": ".py",
   "mimetype": "text/x-python",
   "name": "python",
   "nbconvert_exporter": "python",
   "pygments_lexer": "ipython3",
   "version": "3.7.1"
  },
  "toc": {
   "base_numbering": 1,
   "nav_menu": {},
   "number_sections": true,
   "sideBar": true,
   "skip_h1_title": false,
   "title_cell": "Table of Contents",
   "title_sidebar": "Contents",
   "toc_cell": false,
   "toc_position": {},
   "toc_section_display": true,
   "toc_window_display": false
  },
  "varInspector": {
   "cols": {
    "lenName": 16,
    "lenType": 16,
    "lenVar": 40
   },
   "kernels_config": {
    "python": {
     "delete_cmd_postfix": "",
     "delete_cmd_prefix": "del ",
     "library": "var_list.py",
     "varRefreshCmd": "print(var_dic_list())"
    },
    "r": {
     "delete_cmd_postfix": ") ",
     "delete_cmd_prefix": "rm(",
     "library": "var_list.r",
     "varRefreshCmd": "cat(var_dic_list()) "
    }
   },
   "types_to_exclude": [
    "module",
    "function",
    "builtin_function_or_method",
    "instance",
    "_Feature"
   ],
   "window_display": false
  }
 },
 "nbformat": 4,
 "nbformat_minor": 2
}
