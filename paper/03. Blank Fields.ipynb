{
 "cells": [
  {
   "cell_type": "code",
   "execution_count": null,
   "metadata": {},
   "outputs": [],
   "source": [
    "from astropy.table import Table, Column\n",
    "import numpy as np\n",
    "import os\n",
    "import sys\n",
    "from astropy.io import fits\n",
    "from utilities import get_immediate_subdirectories\n",
    "\n",
    "sys.path.append(f'{os.environ[\"HOME\"]}/Projects/planckClusters/catalogs')\n",
    "from load_catalogs import load_PSZcatalog\n",
    "from utilities import redshifts_from_papers"
   ]
  },
  {
   "cell_type": "code",
   "execution_count": null,
   "metadata": {},
   "outputs": [],
   "source": [
    "results = Table.read('./catalogs/results_table_inspected_0.5_2.0.fits')\n",
    "\n",
    "# filter out duplicates\n",
    "results = results[~results['DUPLICATE']]\n",
    "\n",
    "results_fields = [f.replace(' ', '_') for f in results['NAME']]"
   ]
  },
  {
   "cell_type": "code",
   "execution_count": null,
   "metadata": {},
   "outputs": [],
   "source": [
    "fields = get_immediate_subdirectories('../data/')"
   ]
  },
  {
   "cell_type": "code",
   "execution_count": null,
   "metadata": {},
   "outputs": [],
   "source": [
    "mask = [True for _ in fields]\n",
    "\n",
    "for i, field in enumerate(fields):\n",
    "    field = field.split('/')[-1]\n",
    "    \n",
    "    # there are two non-PSZ directories\n",
    "    if field in results_fields or 'PSZ' not in field:\n",
    "        mask[i] = False\n",
    "    "
   ]
  },
  {
   "cell_type": "code",
   "execution_count": null,
   "metadata": {},
   "outputs": [],
   "source": [
    "blank_fields = np.array(fields)[mask]"
   ]
  },
  {
   "cell_type": "markdown",
   "metadata": {},
   "source": [
    "### get data for the blank fields\n",
    "Things like name, ra, dec, exposure, redshift..."
   ]
  },
  {
   "cell_type": "code",
   "execution_count": null,
   "metadata": {},
   "outputs": [],
   "source": [
    "# get file data\n",
    "data = load_PSZcatalog()\n",
    "data = data.sort_values('NAME')\n",
    "\n",
    "data = redshifts_from_papers(data)"
   ]
  },
  {
   "cell_type": "code",
   "execution_count": null,
   "metadata": {},
   "outputs": [],
   "source": [
    "blank_field_names = [f.split('/')[-1].replace('_', ' ') for f in blank_fields]"
   ]
  },
  {
   "cell_type": "code",
   "execution_count": null,
   "metadata": {},
   "outputs": [],
   "source": [
    "data_mask = [True if f in blank_field_names else False for f in data['NAME']]"
   ]
  },
  {
   "cell_type": "code",
   "execution_count": null,
   "metadata": {},
   "outputs": [],
   "source": [
    "blank_table = Table.from_pandas(data[['NAME', 'RA', 'DEC', 'SNR', 'REDSHIFT']][data_mask])\n",
    "blank_table.add_column(Column(data=0.0, name='XRT_EXP'))"
   ]
  },
  {
   "cell_type": "code",
   "execution_count": null,
   "metadata": {
    "scrolled": true
   },
   "outputs": [],
   "source": [
    "outpath = '../data'\n",
    "\n",
    "for i, name in enumerate(blank_table['NAME']):\n",
    "    n2 = name.replace(' ', '_')\n",
    "    \n",
    "    if os.path.isdir(f'{outpath}/{n2}'):\n",
    "        evnts = f'{outpath}/{n2}/{n2}_events.fits'\n",
    "    else:\n",
    "        continue\n",
    "\n",
    "    try:\n",
    "        exp_time = fits.getheader(evnts)['EXPOSURE']\n",
    "    except FileNotFoundError:\n",
    "        exp_time = -1\n",
    "\n",
    "    blank_table['XRT_EXP'][i] = exp_time"
   ]
  },
  {
   "cell_type": "code",
   "execution_count": null,
   "metadata": {},
   "outputs": [],
   "source": [
    "blank_table[(blank_table['REDSHIFT'] > 0) & (blank_table['XRT_EXP'] > 1000)][:20]"
   ]
  },
  {
   "cell_type": "code",
   "execution_count": null,
   "metadata": {},
   "outputs": [],
   "source": [
    "blank_table.filled(-1.0).write('./catalogs/blank_table.fits', overwrite=True)"
   ]
  },
  {
   "cell_type": "code",
   "execution_count": null,
   "metadata": {},
   "outputs": [],
   "source": []
  }
 ],
 "metadata": {
  "kernelspec": {
   "display_name": "Python 3",
   "language": "python",
   "name": "python3"
  },
  "language_info": {
   "codemirror_mode": {
    "name": "ipython",
    "version": 3
   },
   "file_extension": ".py",
   "mimetype": "text/x-python",
   "name": "python",
   "nbconvert_exporter": "python",
   "pygments_lexer": "ipython3",
   "version": "3.8.1"
  },
  "toc": {
   "base_numbering": 1,
   "nav_menu": {},
   "number_sections": true,
   "sideBar": true,
   "skip_h1_title": false,
   "title_cell": "Table of Contents",
   "title_sidebar": "Contents",
   "toc_cell": false,
   "toc_position": {},
   "toc_section_display": true,
   "toc_window_display": false
  },
  "varInspector": {
   "cols": {
    "lenName": 16,
    "lenType": 16,
    "lenVar": 40
   },
   "kernels_config": {
    "python": {
     "delete_cmd_postfix": "",
     "delete_cmd_prefix": "del ",
     "library": "var_list.py",
     "varRefreshCmd": "print(var_dic_list())"
    },
    "r": {
     "delete_cmd_postfix": ") ",
     "delete_cmd_prefix": "rm(",
     "library": "var_list.r",
     "varRefreshCmd": "cat(var_dic_list()) "
    }
   },
   "types_to_exclude": [
    "module",
    "function",
    "builtin_function_or_method",
    "instance",
    "_Feature"
   ],
   "window_display": false
  }
 },
 "nbformat": 4,
 "nbformat_minor": 4
}
