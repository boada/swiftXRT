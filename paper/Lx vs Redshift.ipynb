{
 "cells": [
  {
   "cell_type": "markdown",
   "metadata": {},
   "source": [
    "#set z    = <   0.05  0.15  0.25  0.35  0.45  0.55  0.75>\n",
    "#set m500 = <  2.402 3.831 5.028 5.577 6.206 6.257 6.473 >\n",
    "\n",
    "set z    = < .01 .025 0.05  0.1 0.15  0.2  0.3  0.4  0.5  0.6  0.7 0.8   0.9   1.0 >\n",
    "set yval = < 4.0 3.30 2.75 2.16 1.78 1.54 1.20 1.00 0.87 0.78 0.73 0.714 0.69 0.684> \n",
    "\n",
    "print {z yval}\n",
    "\n",
    "set m500 = 10*10**(-yval/3.34)\n",
    "\n",
    "set zsp = 0,1.0,0.01\n",
    "\n",
    "spline z m500 zsp msp\n",
    "\n",
    "\n",
    "########## Page 3\n",
    "#print {zsp msp}\n",
    "\n",
    "#\n",
    "#  Now plot L_X\n",
    "#\n",
    "\n",
    "erase\n",
    "expand 1.25\n",
    "\n",
    "location 7500 29000 5000 16000\n",
    "\n",
    "#\n",
    "# Vikhlinin\n",
    "#\n",
    "define h (0.7)                                                                                                                                                       \n",
    "define omegam (0.30)                                                                                                                                                 \n",
    "define omegal (0.70)                                                                                                                                                 \n",
    "set eofz = sqrt ( $omegam * (1+zsp)**3 + $omegal )                                                                                                                   \n",
    "                                                                                                                                                                     \n",
    "#                                                                                                                                                                    \n",
    "#  m5c is M_500 critical and lnx is ln(L_X/1e40 erg/s)                                                                                                               \n",
    "#     ln(1e44) = 92.1034037                                                                                                                                          \n",
    "#                                                                                                                                                                    \n",
    "set m5c = msp * 1e14\n",
    "\n",
    "set lnx = 47.392 + 1.61 * ln(m5c) - 92.1034037 + 1.850*ln(eofz) - 0.39*ln($h/0.72) #-92 is for the single precision\n",
    "set lx = exp(lnx)/1.e4\n",
    "\n",
    "#print {zsp lnx lx m5c}\n",
    "\n",
    "define _xl 0\n",
    "define _xh 1\n",
    "define _yl (lg(0.03))\n",
    "define _yh (lg(10))\n",
    "\n",
    "limits $_xl $_xh $_yl $_yh\n",
    "ticksize 0 0 -1 0\n",
    "box\n",
    "xlabel redshift\n",
    "ylabel L_X [10^{44} erg s^{-1}]\n",
    "\n",
    "#set xp = t\n",
    "#set yp = lg(m500)\n",
    "#\n",
    "#expand 2.5\n",
    "#points xp yp\n",
    "\n",
    "set xp = zsp\n",
    "set yp = lg(lx)\n",
    "connect xp yp\n",
    "\n",
    "expand 1.25\n",
    "location 7500 29000 20000 31000\n",
    "\n",
    "define _xl (lg(0.01))\n",
    "define _xh (lg(1))\n",
    "define _yl (lg(0.03))\n",
    "define _yh (lg(10))\n",
    "\n",
    "limits $_xl $_xh $_yl $_yh\n",
    "ticksize -1 0 -1 0\n",
    "box\n",
    "xlabel redshift\n",
    "ylabel L_X [10^{44} erg s^{-1}]\n",
    "\n",
    "#set xp = lg(z)\n",
    "#set yp = lg(m500)\n",
    "#\n",
    "#expand 2.5\n",
    "#points xp yp\n",
    "\n",
    "set xp = lg(zsp)\n",
    "set yp = lg(lx)\n",
    "connect xp yp\n",
    "\n",
    "location 3500 31000 3500 31000\n",
    "expand 1.0\n"
   ]
  },
  {
   "cell_type": "code",
   "execution_count": 1,
   "metadata": {
    "ExecuteTime": {
     "end_time": "2020-05-07T18:31:43.054114Z",
     "start_time": "2020-05-07T18:31:42.611530Z"
    }
   },
   "outputs": [],
   "source": [
    "import os\n",
    "import sys\n",
    "sys.path.append(f'{os.environ[\"HOME\"]}/Projects/planckClusters/catalogs')\n",
    "import numpy as np\n",
    "from load_catalogs import load_PSZcatalog, load_extraCatalogs\n",
    "from astropy.table import Table"
   ]
  },
  {
   "cell_type": "code",
   "execution_count": 2,
   "metadata": {
    "ExecuteTime": {
     "end_time": "2020-05-07T18:31:43.390232Z",
     "start_time": "2020-05-07T18:31:43.084024Z"
    }
   },
   "outputs": [
    {
     "name": "stderr",
     "output_type": "stream",
     "text": [
      "WARNING: UnitsWarning: 'erg/s/cm2' contains multiple slashes, which is discouraged by the FITS standard [astropy.units.format.generic]\n"
     ]
    }
   ],
   "source": [
    "data = load_PSZcatalog(full=True)"
   ]
  },
  {
   "cell_type": "code",
   "execution_count": 6,
   "metadata": {
    "ExecuteTime": {
     "end_time": "2020-05-07T18:32:50.578850Z",
     "start_time": "2020-05-07T18:32:50.570331Z"
    }
   },
   "outputs": [
    {
     "data": {
      "text/plain": [
       "0       3.962411\n",
       "1       5.297053\n",
       "2       6.333562\n",
       "3            NaN\n",
       "4       2.835297\n",
       "          ...   \n",
       "1938         NaN\n",
       "1939         NaN\n",
       "1940         NaN\n",
       "1941         NaN\n",
       "1942         NaN\n",
       "Name: MSZ_y, Length: 1943, dtype: float64"
      ]
     },
     "execution_count": 6,
     "metadata": {},
     "output_type": "execute_result"
    }
   ],
   "source": [
    "data['MSZ_y']"
   ]
  },
  {
   "cell_type": "code",
   "execution_count": 7,
   "metadata": {
    "ExecuteTime": {
     "end_time": "2020-05-07T18:34:08.085687Z",
     "start_time": "2020-05-07T18:34:07.334849Z"
    }
   },
   "outputs": [
    {
     "name": "stderr",
     "output_type": "stream",
     "text": [
      "/home/boada/.local/lib/python3.7/site-packages/pandas/core/generic.py:6746: SettingWithCopyWarning: \n",
      "A value is trying to be set on a copy of a slice from a DataFrame\n",
      "\n",
      "See the caveats in the documentation: https://pandas.pydata.org/pandas-docs/stable/user_guide/indexing.html#returning-a-view-versus-a-copy\n",
      "  self._update_inplace(new_data)\n"
     ]
    }
   ],
   "source": [
    "h = 0.7                                                                       \n",
    "z1 = 0                                                                        \n",
    "z2 = 1.2                                                                      \n",
    "dz = 0.025                                                                    \n",
    "\n",
    "# build the mass array                                                        \n",
    "zarr = np.arange(z1, z2 + dz, dz)                                          \n",
    "mass = np.ones_like(zarr) * 1e14                                           \n",
    "\n",
    "ps2 = Table.read(f'{os.environ[\"HOME\"]}/Projects/planckClusters/catalogs/PSZ2v1.fits')                                   \n",
    "df2 = ps2.to_pandas()                                                         \n",
    "data = df2[['REDSHIFT', 'MSZ']]                                               \n",
    "data['REDSHIFT'].replace(-1, np.nan, inplace=True)                         \n",
    "\n",
    "# redshift bins                                                               \n",
    "zbins = [0, 0.1, 0.2, 0.3, 0.4, 0.5, 0.6, 0.7, 0.8, 3]                        \n",
    "\n",
    "nMasses = 100                                                                 \n",
    "big_mass = []                                                                 \n",
    "for j in range(nMasses):                                                      \n",
    "    mass = np.ones_like(zarr) * 1e14                                       \n",
    "    for i in range(len(zbins) - 1):                                           \n",
    "        mask = (zbins[i] <= zarr) & (zarr < zbins[i + 1])                     \n",
    "\n",
    "        mass[mask] *= float(data.loc[(zbins[i] <= data['REDSHIFT']) &         \n",
    "                        (data['REDSHIFT'] < zbins[i + 1]),                    \n",
    "                            'MSZ'].sample()) * h                              \n",
    "    big_mass.append(mass)                                                     \n",
    "\n",
    "mass = np.vstack(big_mass)"
   ]
  },
  {
   "cell_type": "code",
   "execution_count": 8,
   "metadata": {
    "ExecuteTime": {
     "end_time": "2020-05-07T18:34:11.902241Z",
     "start_time": "2020-05-07T18:34:11.880603Z"
    }
   },
   "outputs": [
    {
     "data": {
      "text/plain": [
       "array([[1.57667460e+14, 1.57667460e+14, 1.57667460e+14, ...,\n",
       "        7.52751274e+14, 7.52751274e+14, 7.52751274e+14],\n",
       "       [1.42194459e+14, 1.42194459e+14, 1.42194459e+14, ...,\n",
       "        5.36468921e+14, 5.36468921e+14, 5.36468921e+14],\n",
       "       [1.06634241e+14, 1.06634241e+14, 1.06634241e+14, ...,\n",
       "        3.99037838e+14, 3.99037838e+14, 3.99037838e+14],\n",
       "       ...,\n",
       "       [2.56842678e+14, 2.56842678e+14, 2.56842678e+14, ...,\n",
       "        3.99037838e+14, 3.99037838e+14, 3.99037838e+14],\n",
       "       [1.73148472e+14, 1.73148472e+14, 1.73148472e+14, ...,\n",
       "        3.99037838e+14, 3.99037838e+14, 3.99037838e+14],\n",
       "       [1.16695703e+14, 1.16695703e+14, 1.16695703e+14, ...,\n",
       "        5.20200124e+14, 5.20200124e+14, 5.20200124e+14]])"
      ]
     },
     "execution_count": 8,
     "metadata": {},
     "output_type": "execute_result"
    }
   ],
   "source": [
    "mass"
   ]
  },
  {
   "cell_type": "code",
   "execution_count": 9,
   "metadata": {
    "ExecuteTime": {
     "end_time": "2020-05-07T18:42:18.917699Z",
     "start_time": "2020-05-07T18:42:18.556951Z"
    }
   },
   "outputs": [],
   "source": [
    "from matplotlib import pyplot as plt"
   ]
  },
  {
   "cell_type": "code",
   "execution_count": 12,
   "metadata": {
    "ExecuteTime": {
     "end_time": "2020-05-07T18:42:49.384268Z",
     "start_time": "2020-05-07T18:42:49.122742Z"
    }
   },
   "outputs": [
    {
     "data": {
      "image/png": "[encoded data removed]",
      "text/plain": [
       "<Figure size 432x288 with 1 Axes>"
      ]
     },
     "metadata": {
      "needs_background": "light"
     },
     "output_type": "display_data"
    }
   ],
   "source": [
    "lws = [0.5, 1.5, 2.5]                                                      \n",
    "\n",
    "# plot the masses at the bottom                                            \n",
    "for i in range(nMasses):                                                   \n",
    "    plt.plot(zarr, big_mass[i] / 1e14, c='0.7', lw=lws[0], alpha=0.7)         \n"
   ]
  },
  {
   "cell_type": "code",
   "execution_count": 15,
   "metadata": {
    "ExecuteTime": {
     "end_time": "2020-05-07T18:46:31.832400Z",
     "start_time": "2020-05-07T18:46:31.640626Z"
    }
   },
   "outputs": [
    {
     "data": {
      "text/plain": [
       "[<matplotlib.lines.Line2D at 0x7ff315202e48>]"
      ]
     },
     "execution_count": 15,
     "metadata": {},
     "output_type": "execute_result"
    },
    {
     "data": {
      "image/png": "[encoded data removed]",
      "text/plain": [
       "<Figure size 432x288 with 1 Axes>"
      ]
     },
     "metadata": {
      "needs_background": "light"
     },
     "output_type": "display_data"
    }
   ],
   "source": [
    "umasses = [np.unique(np.unique(mass, axis=0)[:, i])                  \n",
    "                        for i in range(zarr.size)]                         \n",
    "\n",
    "bounds = [np.percentile(umasses[i] / 1e14, [50 - 34.1, 50, 50 + 34.1])  \n",
    "          for i in range(zarr.size)]                                       \n",
    "\n",
    "# convert to array                                                         \n",
    "bounds = np.array(bounds)                                               \n",
    "\n",
    "plt.plot(zarr, bounds[:, 0], ls='--', lw=lws[1], color='#e24a33')             \n",
    "plt.plot(zarr, bounds[:, 1], lw=lws[1], color='#e24a33')                                                                                                            \n",
    "plt.plot(zarr, bounds[:, 2], ls='--', lw=lws[1], color='#e24a33')"
   ]
  },
  {
   "cell_type": "code",
   "execution_count": 16,
   "metadata": {
    "ExecuteTime": {
     "end_time": "2020-05-07T18:47:21.514942Z",
     "start_time": "2020-05-07T18:47:21.499141Z"
    }
   },
   "outputs": [
    {
     "data": {
      "text/plain": [
       "array([1.61327082, 1.61327082, 1.61327082, 1.61327082, 2.70460237,\n",
       "       2.70460237, 2.70460237, 2.70460237, 3.47685895, 3.47685895,\n",
       "       3.47685895, 3.47685895, 3.9090651 , 3.9090651 , 3.9090651 ,\n",
       "       3.9090651 , 4.33553214, 4.33553214, 4.33553214, 4.33553214,\n",
       "       4.37105949, 4.37105949, 4.37105949, 4.37105949, 4.52531686,\n",
       "       4.52531686, 4.52531686, 4.52531686, 4.29439635, 4.29439635,\n",
       "       4.29439635, 4.29439635, 5.20200124, 5.20200124, 5.20200124,\n",
       "       5.20200124, 5.20200124, 5.20200124, 5.20200124, 5.20200124,\n",
       "       5.20200124, 5.20200124, 5.20200124, 5.20200124, 5.20200124,\n",
       "       5.20200124, 5.20200124, 5.20200124, 5.20200124])"
      ]
     },
     "execution_count": 16,
     "metadata": {},
     "output_type": "execute_result"
    }
   ],
   "source": [
    "bounds[:,1]"
   ]
  },
  {
   "cell_type": "code",
   "execution_count": 17,
   "metadata": {
    "ExecuteTime": {
     "end_time": "2020-05-07T19:09:20.027646Z",
     "start_time": "2020-05-07T19:09:20.001673Z"
    }
   },
   "outputs": [],
   "source": [
    "from astropy.cosmology import LambdaCDM"
   ]
  },
  {
   "cell_type": "code",
   "execution_count": 18,
   "metadata": {
    "ExecuteTime": {
     "end_time": "2020-05-07T19:10:00.005797Z",
     "start_time": "2020-05-07T19:09:59.995490Z"
    }
   },
   "outputs": [],
   "source": [
    "cosmo = LambdaCDM(H0=70, Om0=0.3, Ode0=0.7, Tcmb0=2.725)\n",
    "h = cosmo.H0.value/100"
   ]
  },
  {
   "cell_type": "code",
   "execution_count": 20,
   "metadata": {
    "ExecuteTime": {
     "end_time": "2020-05-07T19:10:40.657497Z",
     "start_time": "2020-05-07T19:10:40.633405Z"
    }
   },
   "outputs": [
    {
     "data": {
      "text/plain": [
       "array([1.        , 1.01147008, 1.02337536, 1.03571444, 1.04848541,\n",
       "       1.06168597, 1.07531338, 1.08936454, 1.10383605, 1.11872415,\n",
       "       1.13402488, 1.149734  , 1.16584708, 1.18235952, 1.19926656,\n",
       "       1.21656334, 1.23424487, 1.25230611, 1.27074195, 1.28954725,\n",
       "       1.30871684, 1.32824556, 1.34812824, 1.36835976, 1.38893501,\n",
       "       1.40984893, 1.43109653, 1.45267286, 1.47457304, 1.49679227,\n",
       "       1.51932583, 1.54216907, 1.56531745, 1.58876648, 1.6125118 ,\n",
       "       1.63654912, 1.66087424, 1.68548306, 1.71037159, 1.7355359 ,\n",
       "       1.76097218, 1.78667669, 1.81264581, 1.83887599, 1.86536377,\n",
       "       1.89210579, 1.91909875, 1.94633947, 1.97382482])"
      ]
     },
     "execution_count": 20,
     "metadata": {},
     "output_type": "execute_result"
    }
   ],
   "source": [
    "cosmo.efunc(zarr)"
   ]
  },
  {
   "cell_type": "code",
   "execution_count": 31,
   "metadata": {
    "ExecuteTime": {
     "end_time": "2020-05-07T19:21:22.598314Z",
     "start_time": "2020-05-07T19:21:22.582400Z"
    }
   },
   "outputs": [],
   "source": [
    "m5c = bounds[:,1] * 1e14\n",
    "\n",
    "m5c = 5e14\n",
    "lnx = 47.392 + 1.61 * np.log(m5c) + 1.850*np.log(cosmo.efunc(zarr)) - 0.39*np.log(h/0.72)\n",
    "lx = np.exp(lnx)\n"
   ]
  },
  {
   "cell_type": "code",
   "execution_count": 32,
   "metadata": {
    "ExecuteTime": {
     "end_time": "2020-05-07T19:21:23.875826Z",
     "start_time": "2020-05-07T19:21:23.602556Z"
    },
    "scrolled": true
   },
   "outputs": [
    {
     "data": {
      "text/plain": [
       "(0.1, 10)"
      ]
     },
     "execution_count": 32,
     "metadata": {},
     "output_type": "execute_result"
    },
    {
     "data": {
      "image/png": "[encoded data removed]",
      "text/plain": [
       "<Figure size 432x288 with 1 Axes>"
      ]
     },
     "metadata": {
      "needs_background": "light"
     },
     "output_type": "display_data"
    }
   ],
   "source": [
    "plt.plot(zarr, lx/1e44)\n",
    "plt.semilogy()\n",
    "plt.ylim(0.1,10)"
   ]
  },
  {
   "cell_type": "code",
   "execution_count": null,
   "metadata": {},
   "outputs": [],
   "source": []
  }
 ],
 "metadata": {
  "kernelspec": {
   "display_name": "Python 3",
   "language": "python",
   "name": "python3"
  },
  "language_info": {
   "codemirror_mode": {
    "name": "ipython",
    "version": 3
   },
   "file_extension": ".py",
   "mimetype": "text/x-python",
   "name": "python",
   "nbconvert_exporter": "python",
   "pygments_lexer": "ipython3",
   "version": "3.7.1"
  },
  "toc": {
   "base_numbering": 1,
   "nav_menu": {},
   "number_sections": true,
   "sideBar": true,
   "skip_h1_title": false,
   "title_cell": "Table of Contents",
   "title_sidebar": "Contents",
   "toc_cell": false,
   "toc_position": {},
   "toc_section_display": true,
   "toc_window_display": false
  },
  "varInspector": {
   "cols": {
    "lenName": 16,
    "lenType": 16,
    "lenVar": 40
   },
   "kernels_config": {
    "python": {
     "delete_cmd_postfix": "",
     "delete_cmd_prefix": "del ",
     "library": "var_list.py",
     "varRefreshCmd": "print(var_dic_list())"
    },
    "r": {
     "delete_cmd_postfix": ") ",
     "delete_cmd_prefix": "rm(",
     "library": "var_list.r",
     "varRefreshCmd": "cat(var_dic_list()) "
    }
   },
   "types_to_exclude": [
    "module",
    "function",
    "builtin_function_or_method",
    "instance",
    "_Feature"
   ],
   "window_display": false
  }
 },
 "nbformat": 4,
 "nbformat_minor": 4
}
