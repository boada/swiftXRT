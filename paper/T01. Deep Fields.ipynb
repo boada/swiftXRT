{
 "cells": [
  {
   "cell_type": "code",
   "execution_count": 3,
   "metadata": {},
   "outputs": [],
   "source": [
    "import os\n",
    "import sys\n",
    "sys.path.append(f'{os.environ[\"HOME\"]}/Projects/planckClusters/catalogs')\n",
    "from load_catalogs import load_PSZcatalog\n",
    "from utilities import redshifts_from_papers\n",
    "from astropy.io import fits\n",
    "\n",
    "\n",
    "# get file data\n",
    "data = load_PSZcatalog()\n",
    "data = data.sort_values('NAME')\n",
    "\n",
    "data = redshifts_from_papers(data)\n",
    "\n",
    "outpath = '../data_full'"
   ]
  },
  {
   "cell_type": "code",
   "execution_count": 4,
   "metadata": {},
   "outputs": [
    {
     "name": "stdout",
     "output_type": "stream",
     "text": [
      "PSZ2 G006.49+50.56 & 227.728950 & 5.768101 & 0.0766 & 42288.97 \\\\\n",
      "PSZ2 G033.81+77.18 & 207.222052 & 26.594595 & 0.0622 & 20358.36 \\\\\n",
      "PSZ2 G056.77+36.32 & 255.666309 & 34.051072 & 0.0953 & 23936.69 \\\\\n",
      "PSZ2 G057.80+88.00 & 194.911797 & 27.953679 & 0.0231 & 61693.47 \\\\\n",
      "PSZ2 G061.75+88.11 & 194.727000 & 28.023081 & 0.0436 & 11679.82 \\\\\n",
      "PSZ2 G062.94+43.69 & 247.156464 & 39.560224 & 0.0299 & 47309.13 \\\\\n",
      "PSZ2 G126.72-72.82 & 13.997144 & -9.987914 & 0.0535 & 66699.96 \\\\\n",
      "PSZ2 G164.18-38.88 & 44.727819 & 13.566228 & 0.0739 & 41225.16 \\\\\n",
      "PSZ2 G165.95+41.01 & 135.722686 & 52.202052 & 0.0619 & 27527.81 \\\\\n",
      "PSZ2 G234.59+73.01 & 176.075836 & 19.883094 & 0.0214 & 10226.48 \\\\\n",
      "PSZ2 G261.88+62.85 & 175.335633 & 5.709332 & 0.0974 & 13121.07 \\\\\n",
      "PSZ2 G272.88+19.14 & 157.421232 & -35.325808 & 0.0111 & 18754.74 \\\\\n",
      "PSZ2 G293.12-70.85 & 17.467980 & -45.924200 & 0.0238 & 530003.10 \\\\\n",
      "PSZ2 G302.41+21.60 & 192.217025 & -41.265273 & 0.0114 & 32147.77 \\\\\n",
      "PSZ2 G302.49+21.53 & 192.313891 & -41.330349 & 0.0114 & 23122.52 \\\\\n",
      "PSZ2 G306.77+58.61 & 194.867325 & -4.200943 & 0.0845 & 19344.00 \\\\\n",
      "PSZ2 G332.29-23.57 & 281.798395 & -63.289830 & 0.0146 & 15358.30 \\\\\n",
      "PSZ2 G339.47+63.56 & 208.292677 & 5.167323 & 0.0788 & 39824.07 \\\\\n"
     ]
    }
   ],
   "source": [
    "count = 0\n",
    "for n, z, ra, dec in zip(data['NAME'], data['REDSHIFT'], data['RA'], data['DEC']):\n",
    "    n2= n.replace(' ', '_')\n",
    "    if os.path.isdir(f'{outpath}/{n2}'):\n",
    "        evnts = f'{outpath}/{n2}/{n2}_events.fits'\n",
    "        pass\n",
    "    elif os.path.isdir(f'{outpath}/deep_fields/{n2}'):\n",
    "        evnts = f'{outpath}/deep_fields/{n2}/{n2}_events.fits'\n",
    "        pass\n",
    "    else:\n",
    "        continue\n",
    "    if 0 < z and z < 0.1:\n",
    "        try:\n",
    "            exp_time = fits.getheader(evnts)['EXPOSURE']\n",
    "        except FileNotFoundError:\n",
    "            exp_time = -1\n",
    "        count += 1\n",
    "        if exp_time >= 1e4 and z < 0.1:\n",
    "            print(f'{n} & {ra:.6f} & {dec:.6f} & {z:.4f} & {exp_time:0.2f} \\\\\\\\')\n",
    "#             print(n, f'{z:.4f}', f'{exp_time:0.2f}')"
   ]
  },
  {
   "cell_type": "code",
   "execution_count": 6,
   "metadata": {},
   "outputs": [
    {
     "data": {
      "text/plain": [
       "106"
      ]
     },
     "execution_count": 6,
     "metadata": {},
     "output_type": "execute_result"
    }
   ],
   "source": [
    "count"
   ]
  },
  {
   "cell_type": "code",
   "execution_count": null,
   "metadata": {},
   "outputs": [],
   "source": []
  }
 ],
 "metadata": {
  "kernelspec": {
   "display_name": "Python 3",
   "language": "python",
   "name": "python3"
  },
  "language_info": {
   "codemirror_mode": {
    "name": "ipython",
    "version": 3
   },
   "file_extension": ".py",
   "mimetype": "text/x-python",
   "name": "python",
   "nbconvert_exporter": "python",
   "pygments_lexer": "ipython3",
   "version": "3.7.1"
  },
  "toc": {
   "base_numbering": 1,
   "nav_menu": {},
   "number_sections": true,
   "sideBar": true,
   "skip_h1_title": false,
   "title_cell": "Table of Contents",
   "title_sidebar": "Contents",
   "toc_cell": false,
   "toc_position": {},
   "toc_section_display": true,
   "toc_window_display": false
  },
  "varInspector": {
   "cols": {
    "lenName": 16,
    "lenType": 16,
    "lenVar": 40
   },
   "kernels_config": {
    "python": {
     "delete_cmd_postfix": "",
     "delete_cmd_prefix": "del ",
     "library": "var_list.py",
     "varRefreshCmd": "print(var_dic_list())"
    },
    "r": {
     "delete_cmd_postfix": ") ",
     "delete_cmd_prefix": "rm(",
     "library": "var_list.r",
     "varRefreshCmd": "cat(var_dic_list()) "
    }
   },
   "types_to_exclude": [
    "module",
    "function",
    "builtin_function_or_method",
    "instance",
    "_Feature"
   ],
   "window_display": false
  }
 },
 "nbformat": 4,
 "nbformat_minor": 2
}
