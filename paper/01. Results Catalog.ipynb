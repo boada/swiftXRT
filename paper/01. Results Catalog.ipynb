{
 "cells": [
  {
   "cell_type": "code",
   "execution_count": null,
   "metadata": {},
   "outputs": [],
   "source": [
    "%matplotlib notebook\n",
    "from astropy.table import Table, vstack, join\n",
    "import matplotlib.pyplot as plt\n",
    "import numpy as np\n",
    "import os\n",
    "import sys\n",
    "sys.path.append(f'{os.environ[\"HOME\"]}/Projects/planckClusters/catalogs')\n",
    "from load_catalogs import load_PSZcatalog\n",
    "from astropy.io.fits import getheader\n",
    "from utilities import redshifts_from_papers\n",
    "\n",
    "import warnings\n",
    "from astropy.utils.exceptions import AstropyWarning\n",
    "warnings.simplefilter('ignore', category=AstropyWarning)"
   ]
  },
  {
   "cell_type": "code",
   "execution_count": null,
   "metadata": {},
   "outputs": [],
   "source": [
    "def load_detcats(outpath, fields):\n",
    "    for field in fields:\n",
    "        if os.path.exists(f'{outpath}/{field}/{field}_vtp.detect'):\n",
    "            data_part = Table.read(f'{outpath}/{field}/{field}_vtp.detect', format='fits')\n",
    "            if len(data_part) > 0:\n",
    "                data_part['Field'] = field\n",
    "                try:\n",
    "                    hdr = getheader(f'{outpath}/{field}/{field}_vtp_high.detect', ext=1)\n",
    "                except FileNotFoundError:\n",
    "                    continue\n",
    "                data_part['Field_EXP'] = hdr['EXPOSURE']\n",
    "        else:\n",
    "            continue\n",
    "\n",
    "        # handle the first pass when we only have one part\n",
    "        try:\n",
    "            data = vstack([data, data_part])\n",
    "        except NameError:\n",
    "            data = data_part\n",
    "        \n",
    "    return data\n",
    "\n",
    "\n",
    "def load_MCMCfits(outpath, fields):\n",
    "    for field in fields:\n",
    "        if os.path.exists(f'{outpath}/{field}/{field}_mcmcfits.txt'):\n",
    "            try:\n",
    "                fit_part = Table.read(f'{outpath}/{field}/{field}_mcmcfits.txt', format='ascii', header_start=0)\n",
    "            except :\n",
    "                print(field)\n",
    "                raise (FileNotFoundError)\n",
    "            src_part = Table.read(f'{outpath}/{field}/{field}_vtp.detect', format='fits')\n",
    "            \n",
    "            fit_part.rename_column('ID', 'INDEX')\n",
    "            try:\n",
    "                data_part = join(fit_part, src_part, keys='INDEX', join_type='inner')\n",
    "            except ValueError:\n",
    "                continue\n",
    "        else:\n",
    "            continue\n",
    "\n",
    "        # handle the first pass when we only have one part\n",
    "        try:\n",
    "            data = vstack([data, data_part])\n",
    "        except NameError:\n",
    "            data = data_part\n",
    "        \n",
    "    return data\n",
    "\n",
    "def load_spectralfits(outpath, fields):\n",
    "    for field in fields:\n",
    "        if os.path.exists(f'{outpath}/{field}/spec_files/{field}_xspec.results'):\n",
    "            try:\n",
    "                data_part = Table.read(f'{outpath}/{field}/spec_files/{field}_xspec.results', \n",
    "                                       format='ascii', header_start=0)\n",
    "                if len(data_part) < 1:\n",
    "                    continue\n",
    "                \n",
    "            except ValueError:\n",
    "                continue\n",
    "        else:\n",
    "            continue\n",
    "\n",
    "        # handle the first pass when we only have one part\n",
    "        try:\n",
    "            data = vstack([data, data_part])\n",
    "        except NameError:\n",
    "            data = data_part\n",
    "        \n",
    "    return data"
   ]
  },
  {
   "cell_type": "code",
   "execution_count": null,
   "metadata": {},
   "outputs": [],
   "source": [
    "# get file data\n",
    "data = load_PSZcatalog()\n",
    "data = data.sort_values('NAME')\n",
    "data = redshifts_from_papers(data)\n",
    "\n",
    "datapath = '../data'\n",
    "data.replace(-1, np.nan, inplace=True)\n",
    "\n",
    "fields = [n.replace(' ', '_') for n in data['NAME']]\n",
    "\n",
    "fits = load_MCMCfits(datapath, fields) # not currently used, but gives access to beta-model params\n",
    "cats = load_detcats(datapath, fields)\n",
    "specs = load_spectralfits(datapath, fields)\n",
    "\n",
    "# check to see which fields have XRT data\n",
    "field_mask = [True if os.path.isdir(f'{datapath}/{n.replace(\" \", \"_\")}') else False for n in data['NAME']]\n",
    "                                    \n",
    "data['SWIFT'] = False\n",
    "data['SWIFT'] = field_mask"
   ]
  },
  {
   "cell_type": "code",
   "execution_count": null,
   "metadata": {},
   "outputs": [],
   "source": [
    "# add more columns -- don't think I really need these in the end.\n",
    "# data['XRT_exp'] = np.nan\n",
    "# data['N_H'] = np.nan"
   ]
  },
  {
   "cell_type": "code",
   "execution_count": null,
   "metadata": {},
   "outputs": [],
   "source": [
    "cats.remove_column('R')\n",
    "df_cats = cats.to_pandas()\n",
    "df_cats.Field = df_cats.Field.str.replace('_', ' ')\n",
    "\n",
    "df_specs = specs.to_pandas()\n",
    "df_specs.FIELD = df_specs.FIELD.str.replace('_', ' ')\n",
    "\n",
    "fits.remove_column('R')\n",
    "df_fits = fits.to_pandas()"
   ]
  },
  {
   "cell_type": "code",
   "execution_count": null,
   "metadata": {},
   "outputs": [],
   "source": [
    "# df_fits"
   ]
  },
  {
   "cell_type": "code",
   "execution_count": null,
   "metadata": {},
   "outputs": [],
   "source": [
    "# df_cats"
   ]
  },
  {
   "cell_type": "code",
   "execution_count": null,
   "metadata": {},
   "outputs": [],
   "source": [
    "# df_specs"
   ]
  },
  {
   "cell_type": "code",
   "execution_count": null,
   "metadata": {},
   "outputs": [],
   "source": [
    "df_data = data[['NAME', 'INDEX_PSZ2', 'RA', 'DEC', 'REDSHIFT']]"
   ]
  },
  {
   "cell_type": "code",
   "execution_count": null,
   "metadata": {},
   "outputs": [],
   "source": [
    "# df_data"
   ]
  },
  {
   "cell_type": "code",
   "execution_count": null,
   "metadata": {},
   "outputs": [],
   "source": [
    "# merge the catalog information to the main \"data\" frame\n",
    "df_m = df_data.merge(df_cats,                                                      \n",
    "               how='inner',                                              \n",
    "               left_on='NAME',                                          \n",
    "               right_on='Field',                                           \n",
    "               suffixes=('_data', '_detc'))\n",
    "\n",
    "# merge the spectral information to this new merged frame\n",
    "df_m2 = df_m.merge(df_specs,                                                      \n",
    "               how='left',                                              \n",
    "               left_on=['NAME', 'INDEX'],                                          \n",
    "               right_on=['FIELD', 'INDEX'],                                           \n",
    "               suffixes=('_data', '_detc'))"
   ]
  },
  {
   "cell_type": "code",
   "execution_count": null,
   "metadata": {},
   "outputs": [],
   "source": [
    "# df_m"
   ]
  },
  {
   "cell_type": "code",
   "execution_count": null,
   "metadata": {},
   "outputs": [],
   "source": [
    "# df_m2"
   ]
  },
  {
   "cell_type": "code",
   "execution_count": null,
   "metadata": {},
   "outputs": [],
   "source": [
    "# only select extended objects that are within 6' of the PSZ position\n",
    "df_close_ext = df_m2[(df_m2.PSZ_dist < 6) & (df_m2.Extended == 1)]"
   ]
  },
  {
   "cell_type": "code",
   "execution_count": null,
   "metadata": {
    "scrolled": false
   },
   "outputs": [],
   "source": [
    "df_close_ext.columns"
   ]
  },
  {
   "cell_type": "code",
   "execution_count": null,
   "metadata": {},
   "outputs": [],
   "source": [
    "cols = ['NAME', 'RA_detc', 'DEC_detc', 'REDSHIFT', 'INDEX', 'PSZ_dist', 'EXPTIME',\n",
    "        'SN', 'redCHI2', 'DOF', 'NORM', 'NORM_NEG', 'NORM_POS', 'FLUX', 'CNT_RATE_NET', \n",
    "        'CNT_RATE_MODEL', 'ECF', 'LUM', 'FLUX_CORR', 'LUM_CORR', 'CORR']"
   ]
  },
  {
   "cell_type": "code",
   "execution_count": null,
   "metadata": {},
   "outputs": [],
   "source": [
    "df_close_ext[df_close_ext.FLUX_CORR.isnull()][cols]"
   ]
  },
  {
   "cell_type": "code",
   "execution_count": null,
   "metadata": {},
   "outputs": [],
   "source": [
    "# calculate the errors for the flux and Luminosity\n",
    "for c in ['FLUX_CORR_POSERR', 'FLUX_CORR_NEGERR', 'LUM_CORR_POSERR', 'LUM_CORR_NEGERR']:\n",
    "    df_close_ext.loc[:, c] = np.nan\n",
    "\n",
    "df_close_ext['FLUX_CORR_POSERR'] = df_close_ext['FLUX_CORR'] / df_close_ext['NORM'] * df_close_ext['NORM_POS']\n",
    "df_close_ext['FLUX_CORR_NEGERR'] = df_close_ext['FLUX_CORR'] / df_close_ext['NORM'] * df_close_ext['NORM_NEG']\n",
    "df_close_ext['LUM_CORR_POSERR'] = df_close_ext['LUM_CORR'] / df_close_ext['NORM'] * df_close_ext['NORM_POS']\n",
    "df_close_ext['LUM_CORR_NEGERR'] = df_close_ext['LUM_CORR'] / df_close_ext['NORM'] * df_close_ext['NORM_NEG']"
   ]
  },
  {
   "cell_type": "code",
   "execution_count": null,
   "metadata": {},
   "outputs": [],
   "source": [
    "df_close_ext"
   ]
  },
  {
   "cell_type": "code",
   "execution_count": null,
   "metadata": {},
   "outputs": [],
   "source": [
    "cols = ['NAME', 'RA_detc', 'DEC_detc', 'REDSHIFT', 'INDEX', 'PSZ_dist', 'EXPTIME',\n",
    "        'SN', 'redCHI2', 'DOF', 'NORM', 'NORM_NEG', 'NORM_POS', 'FLUX', 'CNT_RATE_NET', \n",
    "        'CNT_RATE_MODEL', 'ECF', 'LUM', 'FLUX_CORR', 'FLUX_CORR_POSERR', 'FLUX_CORR_NEGERR', \n",
    "        'LUM_CORR', 'LUM_CORR_POSERR', 'LUM_CORR_NEGERR', 'CORR']\n",
    "\n",
    "t1 = Table.from_pandas(df_close_ext[cols])"
   ]
  },
  {
   "cell_type": "code",
   "execution_count": null,
   "metadata": {},
   "outputs": [],
   "source": [
    "t1.filled(-1.0)"
   ]
  },
  {
   "cell_type": "code",
   "execution_count": null,
   "metadata": {},
   "outputs": [],
   "source": [
    "t1.filled(-1.0).write('./catalogs/results_table_full_0.5_2.0.fits', overwrite=True)"
   ]
  },
  {
   "cell_type": "code",
   "execution_count": null,
   "metadata": {},
   "outputs": [],
   "source": []
  }
 ],
 "metadata": {
  "kernelspec": {
   "display_name": "Python 3",
   "language": "python",
   "name": "python3"
  },
  "language_info": {
   "codemirror_mode": {
    "name": "ipython",
    "version": 3
   },
   "file_extension": ".py",
   "mimetype": "text/x-python",
   "name": "python",
   "nbconvert_exporter": "python",
   "pygments_lexer": "ipython3",
   "version": "3.7.1"
  },
  "toc": {
   "base_numbering": 1,
   "nav_menu": {},
   "number_sections": true,
   "sideBar": true,
   "skip_h1_title": false,
   "title_cell": "Table of Contents",
   "title_sidebar": "Contents",
   "toc_cell": false,
   "toc_position": {},
   "toc_section_display": true,
   "toc_window_display": false
  },
  "varInspector": {
   "cols": {
    "lenName": 16,
    "lenType": 16,
    "lenVar": 40
   },
   "kernels_config": {
    "python": {
     "delete_cmd_postfix": "",
     "delete_cmd_prefix": "del ",
     "library": "var_list.py",
     "varRefreshCmd": "print(var_dic_list())"
    },
    "r": {
     "delete_cmd_postfix": ") ",
     "delete_cmd_prefix": "rm(",
     "library": "var_list.r",
     "varRefreshCmd": "cat(var_dic_list()) "
    }
   },
   "types_to_exclude": [
    "module",
    "function",
    "builtin_function_or_method",
    "instance",
    "_Feature"
   ],
   "window_display": false
  }
 },
 "nbformat": 4,
 "nbformat_minor": 2
}
