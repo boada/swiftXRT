{
 "cells": [
  {
   "cell_type": "code",
   "execution_count": null,
   "metadata": {},
   "outputs": [],
   "source": [
    "import os\n",
    "import sys\n",
    "sys.path.append(f'{os.environ[\"HOME\"]}/Projects/planckClusters/catalogs')\n",
    "from load_catalogs import load_PSZcatalog\n",
    "from model import beta_model, integ_beta_model, inv_beta_model\n",
    "from utilities import parallel_process\n",
    "from astropy.table import Table, Column\n",
    "import numpy as np"
   ]
  },
  {
   "cell_type": "code",
   "execution_count": null,
   "metadata": {},
   "outputs": [],
   "source": [
    "def correct_fluxes(name, outpath):\n",
    "\n",
    "    # if there aren't detections, don't bother doing anything.\n",
    "    if os.path.isfile(f'{outpath}/{name}/{name}_vtp.detect'):\n",
    "        detects = Table.read(f'{outpath}/{name}/{name}_vtp.detect', hdu=1)\n",
    "    else:\n",
    "        return\n",
    "\n",
    "    # get the MCMC fits:\n",
    "    if os.path.isfile(f'{outpath}/{name}/{name}_mcmcfits.txt'):\n",
    "        mcmcfit = Table.read(f'{outpath}/{name}/{name}_mcmcfits.txt',\n",
    "                             format='ascii',\n",
    "                             header_start=0)\n",
    "        \n",
    "    # get the spectral fluxes\n",
    "    filename = f'{outpath}/{name}/spec_files/{name}_xspec.results'\n",
    "\n",
    "    if os.path.isfile(filename):\n",
    "        try:\n",
    "            spec_info = Table.read(filename, format='ascii', header_start=2)\n",
    "        except ValueError:\n",
    "            spec_info = Table.read(filename, format='ascii', header_start=0)\n",
    "            \n",
    "    # add new columns\n",
    "    cols = ['FLUX_CORR', 'LUM_CORR', 'CORR']\n",
    "    for col in cols:\n",
    "        try:\n",
    "            spec_info.add_column(Column(data=np.zeros(len(spec_info)), name=col, dtype='<f8'))\n",
    "        except ValueError:\n",
    "            pass\n",
    "    try:\n",
    "        spec_info.add_column(Column(data=[name.replace('_', ' ')] * len(spec_info), name='FIELD'))\n",
    "    except ValueError:\n",
    "        pass\n",
    "    spec_info['FIELD'] = name.replace('_', ' ')\n",
    "\n",
    "    if len(spec_info) < 1:\n",
    "        spec_info.write(filename, format='ascii.commented_header', overwrite=True)\n",
    "        return\n",
    "    \n",
    "    \n",
    "    # now we have to loop through the detections\n",
    "    for i, (j, flux, lum) in enumerate(spec_info[['INDEX', 'FLUX', 'LUM']]):\n",
    "\n",
    "        # Break out the values we are gonna need about the beta model\n",
    "        So = mcmcfit['So_50'][mcmcfit['ID'] == j].data[0]\n",
    "        rc = mcmcfit['rc_50'][mcmcfit['ID'] == j].data[0] # arcmin\n",
    "        beta = mcmcfit['beta_50'][mcmcfit['ID'] == j].data[0]\n",
    "        bkg = mcmcfit['bg_50'][mcmcfit['ID'] == j].data[0] # cnts/s/arcmin2\n",
    "        \n",
    "        # get all the different radii that we will need\n",
    "        # background\n",
    "        radius_bkg = inv_beta_model(So, rc, beta, bkg)\n",
    "        \n",
    "        # integrate the beta model 0 -> bkg\n",
    "        zero_bkg = integ_beta_model(radius_bkg, rc=rc, beta=beta)  # cnts\n",
    "            \n",
    "        # integrate the beta model bkg -> 5*rc\n",
    "        bkg_5rc = integ_beta_model(radius_bkg, rc=5*rc, beta=beta)  # cnts\n",
    "        \n",
    "        spec_info[i]['CORR'] = bkg_5rc / zero_bkg\n",
    "        spec_info[i]['FLUX_CORR'] = flux * (1 + bkg_5rc / zero_bkg)\n",
    "        spec_info[i]['LUM_CORR'] = lum * (1 + bkg_5rc / zero_bkg)\n",
    "        \n",
    "        spec_info.write(filename, format='ascii.commented_header', overwrite=True)\n",
    "        \n",
    "#         print(So, rc, beta, bkg)\n",
    "#         print(radius_bkg, rc)\n",
    "#         print(zero_bkg, bkg_5rc)\n",
    "        \n",
    "    return bkg_5rc / zero_bkg\n",
    "        \n",
    "        "
   ]
  },
  {
   "cell_type": "code",
   "execution_count": null,
   "metadata": {},
   "outputs": [],
   "source": [
    "# get file data\n",
    "data = load_PSZcatalog()\n",
    "data = data.sort_values('NAME')\n",
    "\n",
    "outpath = './data'\n",
    "\n",
    "arr = [{'name':n.replace(' ', '_'), 'outpath':outpath} for n in data['NAME']]\n",
    "results = parallel_process(arr, correct_fluxes, use_kwargs=True, n_jobs=1)\n"
   ]
  },
  {
   "cell_type": "code",
   "execution_count": null,
   "metadata": {},
   "outputs": [],
   "source": [
    "outpath ='./data_full_new'\n",
    "name = 'PSZ2_G075.08+19.83'\n",
    "name = 'PSZ2_G283.91+73.87'\n",
    "# name = 'PSZ1_G121.35-42.47'\n",
    "# name = 'PSZ2_G057.80+88.00'\n",
    "\n",
    "correct_fluxes(name, outpath)"
   ]
  },
  {
   "cell_type": "code",
   "execution_count": null,
   "metadata": {},
   "outputs": [],
   "source": [
    "results = [x for x in results if isinstance(x, float)]"
   ]
  },
  {
   "cell_type": "code",
   "execution_count": null,
   "metadata": {},
   "outputs": [],
   "source": [
    "%matplotlib notebook\n",
    "import matplotlib.pyplot as plt"
   ]
  },
  {
   "cell_type": "code",
   "execution_count": null,
   "metadata": {},
   "outputs": [],
   "source": [
    "results = np.array(results)"
   ]
  },
  {
   "cell_type": "code",
   "execution_count": null,
   "metadata": {},
   "outputs": [],
   "source": [
    "plt.hist(results, bins=25)"
   ]
  },
  {
   "cell_type": "code",
   "execution_count": null,
   "metadata": {},
   "outputs": [],
   "source": [
    "np.nanmedian(results)"
   ]
  },
  {
   "cell_type": "code",
   "execution_count": null,
   "metadata": {},
   "outputs": [],
   "source": [
    "np.nanmean(results)"
   ]
  },
  {
   "cell_type": "code",
   "execution_count": null,
   "metadata": {},
   "outputs": [],
   "source": [
    "len(results)"
   ]
  },
  {
   "cell_type": "code",
   "execution_count": null,
   "metadata": {},
   "outputs": [],
   "source": [
    "results"
   ]
  },
  {
   "cell_type": "code",
   "execution_count": null,
   "metadata": {},
   "outputs": [],
   "source": []
  }
 ],
 "metadata": {
  "kernelspec": {
   "display_name": "Python 3",
   "language": "python",
   "name": "python3"
  },
  "language_info": {
   "codemirror_mode": {
    "name": "ipython",
    "version": 3
   },
   "file_extension": ".py",
   "mimetype": "text/x-python",
   "name": "python",
   "nbconvert_exporter": "python",
   "pygments_lexer": "ipython3",
   "version": "3.7.1"
  },
  "toc": {
   "base_numbering": 1,
   "nav_menu": {},
   "number_sections": true,
   "sideBar": true,
   "skip_h1_title": false,
   "title_cell": "Table of Contents",
   "title_sidebar": "Contents",
   "toc_cell": false,
   "toc_position": {},
   "toc_section_display": true,
   "toc_window_display": false
  },
  "varInspector": {
   "cols": {
    "lenName": 16,
    "lenType": 16,
    "lenVar": 40
   },
   "kernels_config": {
    "python": {
     "delete_cmd_postfix": "",
     "delete_cmd_prefix": "del ",
     "library": "var_list.py",
     "varRefreshCmd": "print(var_dic_list())"
    },
    "r": {
     "delete_cmd_postfix": ") ",
     "delete_cmd_prefix": "rm(",
     "library": "var_list.r",
     "varRefreshCmd": "cat(var_dic_list()) "
    }
   },
   "types_to_exclude": [
    "module",
    "function",
    "builtin_function_or_method",
    "instance",
    "_Feature"
   ],
   "window_display": false
  }
 },
 "nbformat": 4,
 "nbformat_minor": 2
}
