{
 "cells": [
  {
   "cell_type": "code",
   "execution_count": null,
   "metadata": {},
   "outputs": [],
   "source": [
    "%matplotlib notebook\n",
    "import matplotlib.pyplot as plt\n",
    "from astropy.table import Table\n",
    "import numpy as np\n",
    "import scipy.optimize as op\n",
    "import os\n",
    "import sys\n",
    "sys.path.append(f'{os.environ[\"HOME\"]}/Projects/planckClusters/catalogs')\n",
    "from load_catalogs import load_PSZcatalog\n",
    "from tqdm import tqdm_notebook\n",
    "                \n",
    "import warnings\n",
    "from astropy.utils.exceptions import AstropyWarning\n",
    "warnings.simplefilter('ignore', category=AstropyWarning)"
   ]
  },
  {
   "cell_type": "code",
   "execution_count": null,
   "metadata": {},
   "outputs": [],
   "source": [
    "from concurrent.futures import ThreadPoolExecutor, as_completed\n",
    "\n",
    "def parallel_process(array, function, n_jobs=None, use_kwargs=False, front_num=0):\n",
    "    \"\"\"\n",
    "        A parallel version of the map function with a progress bar. \n",
    "\n",
    "        Args:\n",
    "            array (array-like): An array to iterate over.\n",
    "            function (function): A python function to apply to the elements of array\n",
    "            n_jobs (int, default=16): The number of cores to use\n",
    "            use_kwargs (boolean, default=False): Whether to consider the elements of array as dictionaries of \n",
    "                keyword arguments to function \n",
    "            front_num (int, default=3): The number of iterations to run serially before kicking off the \n",
    "                parallel job. This can be useful for catching bugs\n",
    "        Returns:\n",
    "            [function(array[0]), function(array[1]), ...]\n",
    "    \"\"\"\n",
    "    #We run the first few iterations serially to catch bugs\n",
    "    if front_num > 0:\n",
    "        front = [function(**a) if use_kwargs else function(a) for a in array[:front_num]]\n",
    "    #If we set n_jobs to 1, just run a list comprehension. This is useful for benchmarking and debugging.\n",
    "    if n_jobs==1:\n",
    "        [function(**a) if use_kwargs else function(a) for a in tqdm_notebook(array[front_num:])]\n",
    "        return \n",
    "    #Assemble the workers\n",
    "    with ThreadPoolExecutor(max_workers=n_jobs) as pool:\n",
    "        #Pass the elements of array into function\n",
    "        if use_kwargs:\n",
    "            futures = [pool.submit(function, **a) for a in array[front_num:]]\n",
    "        else:\n",
    "            futures = [pool.submit(function, a) for a in array[front_num:]]\n",
    "        kwargs = {\n",
    "            'total': len(futures),\n",
    "            'unit': 'it',\n",
    "            'unit_scale': False,\n",
    "            'leave': True\n",
    "        }\n",
    "        #Print out the progress as tasks complete\n",
    "        for f in tqdm_notebook(as_completed(futures), **kwargs):\n",
    "            pass"
   ]
  },
  {
   "cell_type": "code",
   "execution_count": null,
   "metadata": {},
   "outputs": [],
   "source": [
    "def beta_model(So, r, rc, beta):\n",
    "    ''' Beta model with 3 parameters. \n",
    "    So -- normalization\n",
    "    rc -- core radius\n",
    "    beta -- powerlaw slope\n",
    "\n",
    "    '''\n",
    "    \n",
    "    return So * ( 1.0 + (r / rc)**2)**(-3.0 * beta + 0.5)"
   ]
  },
  {
   "cell_type": "code",
   "execution_count": null,
   "metadata": {},
   "outputs": [],
   "source": [
    "def chi2(model, y, y_err):\n",
    "    '''Chi error. We are going to square this to make it the chi2 error.'''\n",
    "    return np.sum(((model - y) / y_err)**2)"
   ]
  },
  {
   "cell_type": "code",
   "execution_count": null,
   "metadata": {},
   "outputs": [],
   "source": [
    "def like(theta, x, y, yerr):\n",
    "    So, rc, beta, bg = theta\n",
    "    model = beta_model(So, x, rc, beta) + bg\n",
    "    return chi2(model, y, yerr)\n",
    "\n",
    "def prior(theta):\n",
    "    So, rc, beta, bg = theta\n",
    "    if So < 0:\n",
    "        return np.inf\n",
    "    elif rc < 0:\n",
    "        return np.inf\n",
    "    elif beta < 0 or beta > 3: \n",
    "        return np.inf\n",
    "    elif bg < 0:\n",
    "        return np.inf\n",
    "    else:\n",
    "        return 0.0\n",
    "\n",
    "def prob(theta, x, y, yerr):\n",
    "    lp = prior(theta)\n",
    "    if not np.isfinite(lp):\n",
    "        return -np.inf\n",
    "    return -lp + -like(theta, x, y, yerr)"
   ]
  },
  {
   "cell_type": "code",
   "execution_count": null,
   "metadata": {},
   "outputs": [],
   "source": [
    "def fit_profile(name, outpath):\n",
    "    \n",
    "    # swift pixelscale in degrees\n",
    "    pixsc =  6.548089E-04 * 3600\n",
    "    \n",
    "    if os.path.isfile(f'{outpath}/{name}/{name}_vtp.detect'):\n",
    "        srcs = f'{outpath}/{name}/{name}_vtp.detect'\n",
    "        # now we need to read the individual detections\n",
    "        detects = Table.read(srcs, hdu=1)\n",
    "    else:\n",
    "        return\n",
    "    \n",
    "    # we are going to fit profiles to the top 3 biggest \n",
    "    detects.sort(['SRC_AREA'], reverse=True)\n",
    "    \n",
    "    # loop over the sources -- only the first 3\n",
    "    for i in detects['COMPONENT'][:3]:\n",
    "        \n",
    "        if os.path.isfile(f'{outpath}/{name}/{name}_vtp_{i-1}.radprof'):\n",
    "            data = Table.read(f'{outpath}/{name}/{name}_vtp_{i-1}.radprof', format='ascii', header_start=2)\n",
    "        else:\n",
    "            continue\n",
    "            \n",
    "        # x-axis, in arcminutes\n",
    "        x = (data['r1'] + data['r2'])/ 2. / 60. * pixsc\n",
    "        \n",
    "        # this is the parameter fitting\n",
    "        nll = lambda *args: prob(*args)\n",
    "        result = op.minimize(nll, [0.001, 1, 1, 0.001], args=(x, data['sb'], data['sb_err']))\n",
    "        \n",
    "        \n",
    "        # plot the result\n",
    "        fig, ax = plt.subplots(ncols=1, nrows=1, figsize=(6.5, 5))\n",
    "        # data\n",
    "        ax.errorbar(x, data['sb'], yerr=data['sb_err'], fmt='o', label='data')\n",
    "        ylims = ax.get_ylim()\n",
    "        \n",
    "        #fit\n",
    "        So, rc, beta, bg = result['x']\n",
    "        ax.plot(x, beta_model(So, x, rc, beta) + bg, label=r'$\\beta$ + bg')\n",
    "        ax.plot(x, beta_model(So, x, rc, beta), label=r'$\\beta$')\n",
    "        \n",
    "        # rc and bg lines\n",
    "        ax.axhline(bg, label='bg', zorder=0, lw=1)\n",
    "        ax.text(rc + 0.1, 2e-5, f\"rc = {rc:.2f}'\", rotation='vertical', ha='left')\n",
    "        ax.axvline(rc, zorder=0, lw=1)\n",
    "        \n",
    "        ax.semilogy()\n",
    "\n",
    "        if ylims[0] < 1e-5:\n",
    "            ax.set_ylim(1e-5, ylims[1])\n",
    "        else:\n",
    "            ax.set_ylim(ylims)\n",
    "        ax.set_xlabel('Radius [arcmin]')\n",
    "        ax.set_ylabel('Flux [cnts/s]')\n",
    "        ax.legend(loc='upper right')\n",
    "        \n",
    "        fig.savefig(f'{outpath}/{name}/{name}_radproffit_{i-1}.png', bbox='tight', dpi=180)\n",
    "        plt.close()\n",
    "        "
   ]
  },
  {
   "cell_type": "code",
   "execution_count": null,
   "metadata": {},
   "outputs": [],
   "source": [
    "# get file data\n",
    "data = load_PSZcatalog()\n",
    "data = data.sort_index(axis=1)\n",
    "\n",
    "outpath = './data_full'\n",
    "\n",
    "arr = [{'name':n.replace(' ', '_'), 'outpath':outpath} for n in data['NAME']]\n",
    "#parallel_process(arr, fit_profile, use_kwargs=True, n_jobs=1)"
   ]
  },
  {
   "cell_type": "code",
   "execution_count": null,
   "metadata": {},
   "outputs": [],
   "source": [
    "d = Table.read('./data_full/PSZ2_G018.92-33.64/PSZ2_G018.92-33.64_vtp_0.radprof', format='ascii', header_start=2)\n",
    "#d = Table.read('./data_full/PSZ1_G083.35+76.41/PSZ1_G083.35+76.41_vtp_7.radprof', format='ascii', header_start=2)\n",
    "d = Table.read('./data_full/PSZ1_G057.42-10.77/PSZ1_G057.42-10.77_vtp_2.radprof', format='ascii', header_start=2)\n",
    "d = Table.read('./data_full/PSZ2_G356.21-43.11/PSZ2_G356.21-43.11_vtp_0.radprof', format='ascii', header_start=2)\n",
    "d = Table.read('./data_full/PSZ2_G003.21-76.04/PSZ2_G003.21-76.04_vtp_1.radprof', format='ascii', header_start=2)\n",
    "d = Table.read('./data_full/PSZ2_G028.08+10.79/PSZ2_G028.08+10.79_vtp_0.radprof', format='ascii', header_start=2)\n",
    "\n",
    "#PSZ2_G028.08+10.79\n"
   ]
  },
  {
   "cell_type": "code",
   "execution_count": null,
   "metadata": {},
   "outputs": [],
   "source": [
    "# swift pixelscale in degrees\n",
    "pixsc =  6.548089E-04 * 3600\n",
    "x = (d['r1'] + d['r2'])/ 2. / 60. * pixsc\n",
    "nll = lambda *args: prob(*args)\n",
    "result = op.minimize(nll, [0.001, 1, 1, 0.001], args=(x, d['sb'], d['sb_err']))"
   ]
  },
  {
   "cell_type": "code",
   "execution_count": null,
   "metadata": {
    "scrolled": true
   },
   "outputs": [],
   "source": [
    "fig, ax = plt.subplots(ncols=1, nrows=1, figsize=(6.5, 5))\n",
    "# data\n",
    "ax.errorbar(x, d['sb'], yerr=d['sb_err'], fmt='o', label='data')\n",
    "\n",
    "ylims = ax.get_ylim()\n",
    "\n",
    "#fit\n",
    "So, rc, beta, bg = result['x']\n",
    "ax.plot(x, beta_model(So, x, rc, beta) + bg, label=r'$\\beta$ + bg')\n",
    "ax.plot(x, beta_model(So, x, rc, beta), label=r'$\\beta$')\n",
    "\n",
    "ax.axhline(bg, label='bg', zorder=0, lw=1)\n",
    "\n",
    "ax.text(rc + 0.1, 2e-5, f\"rc = {rc:.2f}'\", rotation='vertical', ha='left')\n",
    "ax.axvline(rc, zorder=0, lw=1)\n",
    "ax.semilogy()\n",
    "\n",
    "if ylims[0] < 1e-5:\n",
    "    ax.set_ylim(1e-5, ylims[1])\n",
    "else:\n",
    "    ax.set_ylim(ylims)\n",
    "ax.set_xlabel('Radius [arcmin]')\n",
    "ax.set_ylabel('Flux [cnts/s]')\n",
    "ax.legend(loc='upper right')"
   ]
  },
  {
   "cell_type": "code",
   "execution_count": null,
   "metadata": {},
   "outputs": [],
   "source": [
    "result"
   ]
  },
  {
   "cell_type": "code",
   "execution_count": null,
   "metadata": {},
   "outputs": [],
   "source": [
    "ndim, nwalkers = 4, 100\n",
    "pos = [result[\"x\"] + 1e-4*np.random.randn(ndim) for i in range(nwalkers)]"
   ]
  },
  {
   "cell_type": "code",
   "execution_count": null,
   "metadata": {},
   "outputs": [],
   "source": [
    "import emcee\n",
    "sampler = emcee.EnsembleSampler(nwalkers, ndim, prob, args=(x, d['sb'], d['sb_err']))"
   ]
  },
  {
   "cell_type": "code",
   "execution_count": null,
   "metadata": {},
   "outputs": [],
   "source": [
    "sampler.run_mcmc(pos, 500)"
   ]
  },
  {
   "cell_type": "code",
   "execution_count": null,
   "metadata": {},
   "outputs": [],
   "source": [
    "samples = sampler.chain[:, 50:, :].reshape((-1, ndim))"
   ]
  },
  {
   "cell_type": "code",
   "execution_count": null,
   "metadata": {},
   "outputs": [],
   "source": [
    "samples.shape"
   ]
  },
  {
   "cell_type": "code",
   "execution_count": null,
   "metadata": {},
   "outputs": [],
   "source": [
    "So, rc, beta, bg = map(lambda v: (v[1], v[2]-v[1], v[1]-v[0]),\n",
    "                             zip(*np.percentile(samples, [16, 50, 84],\n",
    "                                                axis=0)))"
   ]
  },
  {
   "cell_type": "code",
   "execution_count": null,
   "metadata": {},
   "outputs": [],
   "source": [
    "print(So)\n",
    "print(rc)\n",
    "print(beta)\n",
    "print(bg)"
   ]
  },
  {
   "cell_type": "code",
   "execution_count": null,
   "metadata": {},
   "outputs": [],
   "source": [
    "So, rc, beta, bg = samples[:4]"
   ]
  },
  {
   "cell_type": "code",
   "execution_count": null,
   "metadata": {},
   "outputs": [],
   "source": [
    "np.median(So)"
   ]
  },
  {
   "cell_type": "code",
   "execution_count": null,
   "metadata": {},
   "outputs": [],
   "source": [
    "fig, ax = plt.subplots(ncols=1, nrows=1, figsize=(6.5, 5))\n",
    "# data\n",
    "ax.errorbar(x, d['sb'], yerr=d['sb_err'], fmt='o', label='data')\n",
    "for So, rc, beta, bg in samples[np.random.randint(len(samples), size=100)]:\n",
    "    ax.plot(x, beta_model(So, x, rc, beta) + bg, color='k', alpha=0.1)\n",
    "ylims = ax.get_ylim()\n",
    "\n",
    "#fit\n",
    "# So, rc, beta, bg = result['x']\n",
    "\n",
    "\n",
    "So, rc, beta, bg = map(lambda v: (v[1], v[2]-v[1], v[1]-v[0]),\n",
    "                             zip(*np.percentile(samples, [16, 50, 84],\n",
    "                                                axis=0)))\n",
    "\n",
    "ax.plot(x, beta_model(So[0], x, rc[0], beta[0]) + bg[0], label=r'$\\beta$ + bg')\n",
    "ax.plot(x, beta_model(So[0], x, rc[0], beta[0]), label=r'$\\beta$')\n",
    "\n",
    "\n",
    "ax.axhline(bg[0], label='bg', zorder=0, lw=1)\n",
    "\n",
    "ax.text(rc[0] + 0.1, 2e-5, f\"rc = {rc[0]:.2f}'\", rotation='vertical', ha='left')\n",
    "ax.axvline(rc[0], zorder=0, lw=1)\n",
    "ax.semilogy()\n",
    "\n",
    "if ylims[0] < 1e-5:\n",
    "    ax.set_ylim(1e-5, ylims[1])\n",
    "else:\n",
    "    ax.set_ylim(ylims)\n",
    "ax.set_xlabel('Radius [arcmin]')\n",
    "ax.set_ylabel('Flux [cnts/s]')\n",
    "ax.legend(loc='upper right')\n",
    "#fig.savefig(f'/home/boada/PSZ1_G057.42-10.77_radproffit_2.png', bbox='tight', dpi=180)"
   ]
  },
  {
   "cell_type": "code",
   "execution_count": null,
   "metadata": {},
   "outputs": [],
   "source": []
  }
 ],
 "metadata": {
  "kernelspec": {
   "display_name": "Python 3",
   "language": "python",
   "name": "python3"
  },
  "language_info": {
   "codemirror_mode": {
    "name": "ipython",
    "version": 3
   },
   "file_extension": ".py",
   "mimetype": "text/x-python",
   "name": "python",
   "nbconvert_exporter": "python",
   "pygments_lexer": "ipython3",
   "version": "3.6.8"
  }
 },
 "nbformat": 4,
 "nbformat_minor": 2
}
