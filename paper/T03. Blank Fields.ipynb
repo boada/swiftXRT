{
 "cells": [
  {
   "cell_type": "code",
   "execution_count": 30,
   "metadata": {
    "ExecuteTime": {
     "end_time": "2020-07-02T16:38:22.881522Z",
     "start_time": "2020-07-02T16:38:22.876627Z"
    }
   },
   "outputs": [],
   "source": [
    "from astropy.table import Table\n",
    "import numpy as np\n",
    "import os\n",
    "from astropy.io import fits\n",
    "from utilities import get_immediate_subdirectories"
   ]
  },
  {
   "cell_type": "code",
   "execution_count": 7,
   "metadata": {
    "ExecuteTime": {
     "end_time": "2020-07-02T16:20:56.352197Z",
     "start_time": "2020-07-02T16:20:56.332154Z"
    }
   },
   "outputs": [],
   "source": [
    "results = Table.read('./results_table_inspected_0.5_2.0.fits')\n",
    "results_fields = [f.replace(' ', '_') for f in results['NAME']]"
   ]
  },
  {
   "cell_type": "code",
   "execution_count": 5,
   "metadata": {
    "ExecuteTime": {
     "end_time": "2020-07-02T16:19:37.388373Z",
     "start_time": "2020-07-02T16:19:37.380395Z"
    }
   },
   "outputs": [],
   "source": [
    "fields = get_immediate_subdirectories('../data_full_new/')"
   ]
  },
  {
   "cell_type": "code",
   "execution_count": 8,
   "metadata": {
    "ExecuteTime": {
     "end_time": "2020-07-02T16:23:13.970592Z",
     "start_time": "2020-07-02T16:23:13.959707Z"
    }
   },
   "outputs": [],
   "source": [
    "mask = [True for f in fields]\n",
    "\n",
    "for i, field in enumerate(fields):\n",
    "    field = field.split('/')[-1]\n",
    "    \n",
    "    if field in results_fields:\n",
    "        mask[i] = False\n",
    "    "
   ]
  },
  {
   "cell_type": "code",
   "execution_count": 28,
   "metadata": {
    "ExecuteTime": {
     "end_time": "2020-07-02T16:35:34.499615Z",
     "start_time": "2020-07-02T16:35:34.492768Z"
    }
   },
   "outputs": [],
   "source": [
    "blank_fields = np.array(fields)[mask]"
   ]
  },
  {
   "cell_type": "code",
   "execution_count": 34,
   "metadata": {
    "ExecuteTime": {
     "end_time": "2020-07-02T16:42:10.758388Z",
     "start_time": "2020-07-02T16:42:10.516177Z"
    }
   },
   "outputs": [
    {
     "name": "stdout",
     "output_type": "stream",
     "text": [
      "PSZ1_G031.41+28.75 & 229989.27 \\\\\n",
      "PSZ1_G259.04-83.24 & 1780.62 \\\\\n",
      "PSZ2_G035.89-61.39 & 3106.66 \\\\\n",
      "PSZ2_G127.71-69.55 & 15129.34 \\\\\n",
      "PSZ1_G263.75+53.85 & 54.95 \\\\\n",
      "PSZ2_G297.16-44.90 & 2324.99 \\\\\n",
      "PSZ2_G243.02+42.87 & 42.46 \\\\\n",
      "PSZ2_G076.81-32.57 & 4257.90 \\\\\n",
      "PSZ2_G309.39+13.26 & 64.94 \\\\\n",
      "PSZ2_G305.76+44.79 & 794.15 \\\\\n",
      "PSZ2_G073.31+67.52 & 254.73 \\\\\n",
      "PSZ2_G286.68+23.18 & 59.94 \\\\\n",
      "PSZ2_G003.21-76.04 & 2462.34 \\\\\n",
      "PSZ2_G006.82-34.71 & 419.55 \\\\\n",
      "PSZ2_G325.70+17.34 & 82.42 \\\\\n",
      "PSZ1_G135.39-61.98 & 337.14 \\\\\n",
      "PSZ1_G081.56+31.03 & 3900.81 \\\\\n",
      "PSZ2_G231.79+31.48 & 297.20 \\\\\n",
      "PSZ2_G007.76-36.83 & 387.09 \\\\\n",
      "PSZ2_G153.68+36.96 & 2729.53 \\\\\n",
      "PSZ2_G092.34+14.22 & 958.96 \\\\\n",
      "PSZ2_G326.01+17.21 & 139.87 \\\\\n",
      "PSZ2_G096.10+12.46 & 81143.40 \\\\\n",
      "PSZ1_G121.69+24.47 & 157.35 \\\\\n",
      "PSZ2_G116.32-36.33 & 1116.30 \\\\\n",
      "PSZ2_G085.72+10.66 & 1338.78 \\\\\n",
      "PSZ2_G003.93-59.41 & 77.43 \\\\\n",
      "PSZ2_G173.90-51.89 & 1236.62 \\\\\n",
      "PSZ2_G304.44+32.48 & 72.43 \\\\\n",
      "PSZ2_G160.94+44.85 & 1890.45 \\\\\n",
      "PSZ2_G025.07-78.64 & 889.05 \\\\\n",
      "PSZ2_G117.38-52.47 & 1228.67 \\\\\n",
      "PSZ1_G267.16-60.72 & 59.94 \\\\\n",
      "PSZ2_G294.31-14.18 & 719.22 \\\\\n",
      "PSZ2_G233.12-26.25 & 77.42 \\\\\n",
      "PSZ2_G022.03+17.75 & 5564.14 \\\\\n",
      "PSZ1_G306.96+50.58 & 1276.17 \\\\\n",
      "PSZ2_G089.52+62.34 & -1.00 \\\\\n",
      "PSZ2_G125.68-64.12 & 4739.85 \\\\\n",
      "PSZ2_G207.88+81.31 & 519.44 \\\\\n",
      "PSZ2_G078.10-83.83 & 1021.39 \\\\\n",
      "PSZ2_G025.13-75.88 & 72.43 \\\\\n",
      "PSZ2_G031.41-19.16 & 769.25 \\\\\n",
      "PSZ2_G076.44+23.53 & 242.24 \\\\\n",
      "PSZ2_G172.98-53.55 & 586.93 \\\\\n",
      "PSZ2_G027.99-69.85 & 4375.41 \\\\\n",
      "PSZ2_G189.79-37.25 & 851.71 \\\\\n",
      "PSZ2_G339.74-51.08 & 3288.92 \\\\\n",
      "PSZ2_G337.95+22.70 & 3219.04 \\\\\n",
      "PSZ2_G331.12+62.31 & 79.92 \\\\\n",
      "PSZ2_G319.16+26.63 & 109.89 \\\\\n",
      "PSZ2_G047.53+08.55 & 2806.98 \\\\\n",
      "PSZ2_G280.78-52.22 & -1.00 \\\\\n",
      "PSZ2_G230.29-47.13 & 4512.60 \\\\\n",
      "PSZ2_G253.04+36.83 & 92.41 \\\\\n",
      "PSZ2_G170.98+39.45 & 49.96 \\\\\n",
      "PSZ1_G100.46-61.45 & 4962.18 \\\\\n",
      "PSZ2_G002.04-22.15 & 4263.04 \\\\\n",
      "PSZ2_G148.60-48.61 & 7264.60 \\\\\n",
      "PSZ2_G303.75+33.70 & 64.94 \\\\\n",
      "PSZ1_G150.33-20.04 & 1610.77 \\\\\n",
      "PSZ2_G315.71-83.81 & 3141.68 \\\\\n",
      "PSZ2_G079.36+38.06 & 3301.42 \\\\\n",
      "PSZ1_G078.39+46.13 & 3366.40 \\\\\n",
      "PSZ2_G254.52+62.52 & 1875.59 \\\\\n",
      "PSZ2_G325.19+49.12 & 9.60 \\\\\n",
      "PSZ2_G068.36+81.81 & 259.73 \\\\\n",
      "PSZ2_G295.36+24.29 & 641.81 \\\\\n",
      "PSZ2_G183.92+16.36 & 3251.48 \\\\\n",
      "PSZ2_G236.92-26.65 & 157.35 \\\\\n",
      "PSZ2_G272.85+48.79 & 79.92 \\\\\n",
      "PSZ2_G103.40-32.99 & 7794.53 \\\\\n",
      "PSZ1_G045.18-36.47 & 5381.71 \\\\\n",
      "PSZ1_G262.45+49.34 & 859.08 \\\\\n",
      "PSZ2_G058.31+41.96 & 2749.54 \\\\\n",
      "PSZ2_G235.74-67.98 & 154.85 \\\\\n",
      "PSZ2_G276.14-07.68 & 1063.84 \\\\\n",
      "PSZ2_G167.44-38.06 & 4115.77 \\\\\n",
      "PSZ2_G057.78+52.32 & 164.84 \\\\\n",
      "PSZ2_G297.91+31.43 & 1253.64 \\\\\n",
      "PSZ2_G324.04+48.79 & 7933.84 \\\\\n",
      "PSZ1_G018.09+26.07 & 464.50 \\\\\n",
      "PSZ2_G339.63-69.34 & 9542.95 \\\\\n",
      "PSZ2_G225.18-33.61 & 4530.13 \\\\\n",
      "PSZ2_G110.69-46.25 & 3194.04 \\\\\n",
      "PSZ2_G235.96+38.21 & 57.45 \\\\\n",
      "PSZ2_G185.50-33.94 & 1838.05 \\\\\n",
      "PSZ2_G199.73+36.98 & 9460.18 \\\\\n",
      "PSZ2_G153.80+33.79 & 15116.04 \\\\\n",
      "PSZ2_G246.50-26.09 & 162.34 \\\\\n",
      "PSZ2_G332.11-23.63 & 6438.00 \\\\\n",
      "PSZ2_G137.51-09.98 & 6358.26 \\\\\n",
      "PSZ2_G239.27-26.01 & 162.34 \\\\\n",
      "PSZ1_G109.09-52.45 & 10389.97 \\\\\n",
      "PSZ1_G300.23+47.30 & 72.43 \\\\\n",
      "PSZ2_G027.92+15.54 & 5057.23 \\\\\n",
      "PSZ2_G340.46-52.20 & 591.88 \\\\\n",
      "PSZ1_G357.43+30.60 & 2692.18 \\\\\n",
      "PSZ1_G212.63+07.45 & 3021.86 \\\\\n",
      "PSZ2_G321.30+50.63 & 1318.70 \\\\\n",
      "PSZ1_G135.68+45.61 & 4237.98 \\\\\n",
      "PSZ2_G125.11+28.14 & 67.49 \\\\\n",
      "PSZ2_G099.62+14.86 & 139.99 \\\\\n",
      "PSZ2_G278.58+39.16 & 142.59 \\\\\n",
      "PSZ2_G265.21-24.83 & 9257.47 \\\\\n",
      "PSZ2_G303.56+47.54 & 119.88 \\\\\n",
      "PSZ2_G287.46+81.12 & 62.44 \\\\\n",
      "PSZ1_G203.14+67.55 & 8008.83 \\\\\n",
      "PSZ2_G260.85-62.19 & 57.45 \\\\\n",
      "PSZ2_G163.89+11.55 & 928.99 \\\\\n",
      "PSZ1_G059.99+11.06 & 951.47 \\\\\n",
      "PSZ2_G112.54+59.53 & 529.43 \\\\\n",
      "PSZ2_G355.22-70.03 & 59.94 \\\\\n",
      "PSZ2_G280.76-52.30 & -1.00 \\\\\n",
      "PSZ2_G110.28-87.48 & 851.67 \\\\\n",
      "PSZ2_G160.83+81.66 & 968.95 \\\\\n",
      "PSZ1_G345.81+42.38 & 2010.35 \\\\\n",
      "PSZ1_G044.82-31.66 & -1.00 \\\\\n",
      "PSZ1_G226.65+28.43 & 142.35 \\\\\n",
      "PSZ2_G029.87-17.81 & 159.84 \\\\\n",
      "PSZ2_G105.00+39.68 & 2732.06 \\\\\n",
      "PSZ2_G276.75-59.82 & 1388.52 \\\\\n",
      "PSZ1_G058.77-26.14 & 4227.92 \\\\\n",
      "PSZ2_G081.31-68.56 & 219.79 \\\\\n",
      "PSZ2_G018.73+23.56 & 394.64 \\\\\n",
      "PSZ1_G162.16-63.58 & 864.06 \\\\\n",
      "PSZ2_G340.09+22.89 & 5826.21 \\\\\n",
      "PSZ2_G241.41-65.88 & 5067.01 \\\\\n",
      "PSZ2_G056.62+88.42 & 7014.91 \\\\\n",
      "PSZ2_G195.65-17.67 & 72.43 \\\\\n",
      "PSZ1_G291.18+21.78 & 824.12 \\\\\n",
      "PSZ2_G080.65-46.81 & 714.26 \\\\\n",
      "PSZ2_G278.87+16.70 & 5286.77 \\\\\n",
      "PSZ2_G316.51-33.21 & 57.45 \\\\\n",
      "PSZ1_G279.45-24.07 & 79.93 \\\\\n",
      "PSZ2_G144.81-49.86 & 2142.67 \\\\\n",
      "PSZ2_G270.07-20.02 & 3263.97 \\\\\n",
      "PSZ2_G253.21+34.25 & 52.45 \\\\\n",
      "PSZ2_G323.39+81.61 & 82.42 \\\\\n",
      "PSZ2_G068.61-46.60 & 157.34 \\\\\n",
      "PSZ2_G161.39+26.27 & 52.45 \\\\\n",
      "PSZ1_G194.70-58.93 & 2684.59 \\\\\n",
      "PSZ1_G148.20+23.49 & 2794.49 \\\\\n",
      "PSZ1_G180.00+51.58 & 1368.52 \\\\\n",
      "PSZ2_G257.51+57.54 & 624.33 \\\\\n",
      "PSZ2_G066.34+26.14 & 1236.16 \\\\\n",
      "PSZ2_G228.35-66.31 & 329.66 \\\\\n",
      "PSZ2_G208.61-74.39 & 1243.66 \\\\\n",
      "PSZ2_G094.46-69.65 & 1348.56 \\\\\n",
      "PSZ2_G034.38+51.57 & 57.45 \\\\\n",
      "PSZ2_G304.91+45.43 & 119.88 \\\\\n",
      "PSZ2_G326.73+54.80 & 69.93 \\\\\n",
      "PSZ2_G343.68+24.10 & 2884.47 \\\\\n",
      "PSZ2_G250.43-09.02 & 4550.24 \\\\\n"
     ]
    }
   ],
   "source": [
    "outpath = '../data_full_new'\n",
    "\n",
    "count = 0\n",
    "for name in blank_fields:\n",
    "    n2 = name.split('/')[-1]\n",
    "    \n",
    "    # two extra directories\n",
    "    if not 'PSZ' in n2:\n",
    "        continue\n",
    "    \n",
    "    if os.path.isdir(f'{outpath}/{n2}'):\n",
    "        evnts = f'{outpath}/{n2}/{n2}_events.fits'\n",
    "        pass\n",
    "    elif os.path.isdir(f'{outpath}/deep_fields/{n2}'):\n",
    "        evnts = f'{outpath}/deep_fields/{n2}/{n2}_events.fits'\n",
    "        pass\n",
    "    else:\n",
    "        continue\n",
    "\n",
    "    try:\n",
    "        exp_time = fits.getheader(evnts)['EXPOSURE']\n",
    "    except FileNotFoundError:\n",
    "        exp_time = -1\n",
    "    count += 1\n",
    "\n",
    "    print(f'{n2} & {exp_time:0.2f} \\\\\\\\')\n",
    "#             print(n, f'{z:.4f}', f'{exp_time:0.2f}')"
   ]
  },
  {
   "cell_type": "code",
   "execution_count": 35,
   "metadata": {
    "ExecuteTime": {
     "end_time": "2020-07-02T16:44:29.886838Z",
     "start_time": "2020-07-02T16:44:29.880324Z"
    }
   },
   "outputs": [
    {
     "data": {
      "text/plain": [
       "154"
      ]
     },
     "execution_count": 35,
     "metadata": {},
     "output_type": "execute_result"
    }
   ],
   "source": [
    "count"
   ]
  },
  {
   "cell_type": "code",
   "execution_count": null,
   "metadata": {},
   "outputs": [],
   "source": []
  }
 ],
 "metadata": {
  "kernelspec": {
   "display_name": "Python 3",
   "language": "python",
   "name": "python3"
  },
  "language_info": {
   "codemirror_mode": {
    "name": "ipython",
    "version": 3
   },
   "file_extension": ".py",
   "mimetype": "text/x-python",
   "name": "python",
   "nbconvert_exporter": "python",
   "pygments_lexer": "ipython3",
   "version": "3.7.1"
  },
  "toc": {
   "base_numbering": 1,
   "nav_menu": {},
   "number_sections": true,
   "sideBar": true,
   "skip_h1_title": false,
   "title_cell": "Table of Contents",
   "title_sidebar": "Contents",
   "toc_cell": false,
   "toc_position": {},
   "toc_section_display": true,
   "toc_window_display": false
  },
  "varInspector": {
   "cols": {
    "lenName": 16,
    "lenType": 16,
    "lenVar": 40
   },
   "kernels_config": {
    "python": {
     "delete_cmd_postfix": "",
     "delete_cmd_prefix": "del ",
     "library": "var_list.py",
     "varRefreshCmd": "print(var_dic_list())"
    },
    "r": {
     "delete_cmd_postfix": ") ",
     "delete_cmd_prefix": "rm(",
     "library": "var_list.r",
     "varRefreshCmd": "cat(var_dic_list()) "
    }
   },
   "types_to_exclude": [
    "module",
    "function",
    "builtin_function_or_method",
    "instance",
    "_Feature"
   ],
   "window_display": false
  }
 },
 "nbformat": 4,
 "nbformat_minor": 4
}
