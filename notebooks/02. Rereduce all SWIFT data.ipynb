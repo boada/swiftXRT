{
 "cells": [
  {
   "cell_type": "code",
   "execution_count": null,
   "metadata": {},
   "outputs": [],
   "source": [
    "import subprocess\n",
    "import tempfile\n",
    "\n",
    "import os\n",
    "import sys\n",
    "sys.path.append(f'{os.environ[\"HOME\"]}/Projects/planckClusters/catalogs')\n",
    "from load_catalogs import load_PSZcatalog\n",
    "                \n",
    "# parallel processor\n",
    "from utilities import parallel_process, check_exe\n",
    "from utilities import get_immediate_subdirectories, get_immediate_files"
   ]
  },
  {
   "cell_type": "code",
   "execution_count": null,
   "metadata": {},
   "outputs": [],
   "source": [
    "# this allows us to run the pipeline not interactively. \n",
    "os.environ['HEADASNOQUERY'] = ''\n",
    "os.environ['HEADASPROMPT'] = '/dev/null'"
   ]
  },
  {
   "cell_type": "code",
   "execution_count": null,
   "metadata": {},
   "outputs": [],
   "source": [
    "def run_pipeline(name, outpath, overwrite=False):\n",
    "\n",
    "    if not os.path.isdir(f'{outpath}/{name}'):\n",
    "        return\n",
    "    \n",
    "    if not check_exe('xrtpipeline', verb=False):\n",
    "        return\n",
    "    \n",
    "    # set up enviroment\n",
    "    if not os.path.isdir(f'/tmp/{os.getpid()}.tmp/pfiles'):\n",
    "        os.makedirs(f'/tmp/{os.getpid()}.tmp/pfiles')\n",
    "    \n",
    "    # get a list of the XRT obs. \n",
    "    obs = get_immediate_subdirectories(f'{outpath}/{name}')\n",
    "        \n",
    "    # if there aren't any observations, keep going\n",
    "    if not len(obs):\n",
    "        return\n",
    "    \n",
    "    if not os.path.isdir(f'{outpath}/{name}/reduced'):\n",
    "        os.makedirs(f'{outpath}/{name}/reduced')\n",
    "    \n",
    "    # get a list of the reduced obs.\n",
    "    reduc = get_immediate_subdirectories(f'{outpath}/{name}/reduced')\n",
    "    \n",
    "    for ob_dir in obs:\n",
    "        ob_id = ob_dir.split('/')[-1]\n",
    "        reduc_ids = [r.split('/')[-1] for r in reduc]\n",
    "        if ob_id == 'reduced':\n",
    "            continue\n",
    "        elif ob_id == 'spec_files':\n",
    "            continue\n",
    "        if ob_id in reduc_ids and not overwrite:\n",
    "            continue\n",
    "        env_cmd = f'export PFILES=\"/tmp/{os.getpid()}.tmp/pfiles;{os.environ[\"HEADAS\"]}/syspfiles\" \\n'\n",
    "        pipe_cmd = (f'xrtpipeline indir={ob_dir} outdir={outpath}/{name}/reduced/{ob_id} steminputs=sw{ob_id} '\n",
    "                    'srcra=OBJECT srcdec=OBJECT datamode=PC cleanup=yes vigflag=yes clobber=yes '\n",
    "                    f' > {outpath}/{name}/reduced/{ob_id}_reduce.log \\n')\n",
    "        \n",
    "        fd, path = tempfile.mkstemp()\n",
    "        try:\n",
    "            with os.fdopen(fd, 'w') as tmp:\n",
    "                # do stuff with temp file\n",
    "                tmp.write(env_cmd)\n",
    "                tmp.write(pipe_cmd)\n",
    "            subproc = subprocess.Popen(f'sh {path}', shell=True)\n",
    "            subproc.wait()\n",
    "        finally:\n",
    "            os.remove(path)\n",
    "    return"
   ]
  },
  {
   "cell_type": "code",
   "execution_count": null,
   "metadata": {},
   "outputs": [],
   "source": [
    "def validate():\n",
    "    PSZs = get_immediate_subdirectories('./data_full')\n",
    "    for psz in tqdm_notebook(PSZs):\n",
    "        # get a list of the XRT obs. \n",
    "            for ob_dir in get_immediate_subdirectories(psz):\n",
    "                # check for events and exposure map\n",
    "                evts = False\n",
    "                expm = False\n",
    "                if ob_id == 'reduced':\n",
    "                    continue\n",
    "                else:\n",
    "                    for f in get_immediate_subfiles(f'{psz}/reduced/{ob_id}'):\n",
    "                        if 'xpcw3po_cl.evt' in f:\n",
    "                            evts = True\n",
    "                        elif 'xpcw3po_ex.img' in f:\n",
    "                            expm = True\n",
    "                        else:\n",
    "                            continue\n",
    "                \n",
    "                    if not evts and expm:\n",
    "                        print(f'{psz}/reduced/{ob_id} NOT VALID')"
   ]
  },
  {
   "cell_type": "code",
   "execution_count": null,
   "metadata": {},
   "outputs": [],
   "source": [
    "# get file data\n",
    "data = load_PSZcatalog()\n",
    "data = data.sort_index(axis=1)\n",
    "\n",
    "outpath = './data_full'\n",
    "\n",
    "arr = [{'name':n.replace(' ', '_'), 'outpath':outpath, 'overwrite':True} for n in data['NAME']]\n",
    "parallel_process(arr, run_pipeline, use_kwargs=True, n_jobs=6)\n"
   ]
  },
  {
   "cell_type": "code",
   "execution_count": null,
   "metadata": {
    "scrolled": true
   },
   "outputs": [],
   "source": [
    "outpath = '../data_full'\n",
    "name = 'PSZ2_G110.28-87.48'\n",
    "run_pipeline(name, outpath, True)"
   ]
  },
  {
   "cell_type": "code",
   "execution_count": null,
   "metadata": {},
   "outputs": [],
   "source": []
  }
 ],
 "metadata": {
  "kernelspec": {
   "display_name": "Python 3",
   "language": "python",
   "name": "python3"
  },
  "language_info": {
   "codemirror_mode": {
    "name": "ipython",
    "version": 3
   },
   "file_extension": ".py",
   "mimetype": "text/x-python",
   "name": "python",
   "nbconvert_exporter": "python",
   "pygments_lexer": "ipython3",
   "version": "3.6.9"
  }
 },
 "nbformat": 4,
 "nbformat_minor": 2
}
