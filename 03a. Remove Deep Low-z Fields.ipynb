{
 "cells": [
  {
   "cell_type": "code",
   "execution_count": null,
   "metadata": {},
   "outputs": [],
   "source": [
    "import os\n",
    "import sys\n",
    "import shutil\n",
    "from astropy.io import fits\n",
    "   \n",
    "# parallel processor et al.\n",
    "from utilities import parallel_process\n",
    "sys.path.append(f'{os.environ[\"HOME\"]}/Projects/planckClusters/catalogs')\n",
    "from load_catalogs import load_PSZcatalog"
   ]
  },
  {
   "cell_type": "code",
   "execution_count": null,
   "metadata": {},
   "outputs": [],
   "source": [
    "# get file data\n",
    "data = load_PSZcatalog()\n",
    "data = data.sort_index(axis=1)\n",
    "\n",
    "outpath = '../data_full'\n",
    "\n",
    "if not os.path.isdir(f'{outpath}/deep_fields'):\n",
    "    os.makedirs(f'{outpath}/deep_fields')\n",
    "\n",
    "for n, z in zip(data['NAME'], data['REDSHIFT']):\n",
    "    n= n.replace(' ', '_')\n",
    "    if not os.path.isdir(f'{outpath}/{n}'):\n",
    "        continue\n",
    "    if 0 < z and z < 0.1:\n",
    "        evnts = f'{outpath}/{n}/{n}_events.fits'\n",
    "        try:\n",
    "            exp_time = fits.getheader(evnts)['EXPOSURE']\n",
    "        except FileNotFoundError:\n",
    "            exp_time = -1\n",
    "        if exp_time >= 1e4:\n",
    "            shutil.move(f'{outpath}/{n}', f'{outpath}/deep_fields')\n",
    "#             print(n, f'{z:.4f}', f'{exp_time:0.2f}')"
   ]
  },
  {
   "cell_type": "code",
   "execution_count": null,
   "metadata": {},
   "outputs": [],
   "source": []
  }
 ],
 "metadata": {
  "kernelspec": {
   "display_name": "Python 3",
   "language": "python",
   "name": "python3"
  },
  "language_info": {
   "codemirror_mode": {
    "name": "ipython",
    "version": 3
   },
   "file_extension": ".py",
   "mimetype": "text/x-python",
   "name": "python",
   "nbconvert_exporter": "python",
   "pygments_lexer": "ipython3",
   "version": "3.6.9"
  }
 },
 "nbformat": 4,
 "nbformat_minor": 2
}
