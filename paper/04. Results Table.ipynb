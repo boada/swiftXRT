{
 "cells": [
  {
   "cell_type": "code",
   "execution_count": 1,
   "metadata": {
    "ExecuteTime": {
     "end_time": "2020-06-22T16:06:22.239922Z",
     "start_time": "2020-06-22T16:06:21.516392Z"
    }
   },
   "outputs": [
    {
     "name": "stderr",
     "output_type": "stream",
     "text": [
      "/home/boada/Projects/swiftXRT/paper/utilities.py:2: TqdmExperimentalWarning: Using `tqdm.autonotebook.tqdm` in notebook mode. Use `tqdm.tqdm` instead to force console mode (e.g. in jupyter console)\n",
      "  from tqdm.autonotebook import tqdm\n"
     ]
    }
   ],
   "source": [
    "%matplotlib notebook\n",
    "from astropy.table import Table, vstack, join\n",
    "import matplotlib.pyplot as plt\n",
    "import numpy as np\n",
    "import os\n",
    "import sys\n",
    "sys.path.append(f'{os.environ[\"HOME\"]}/Projects/planckClusters/catalogs')\n",
    "from load_catalogs import load_PSZcatalog\n",
    "from astropy.io.fits import getheader\n",
    "from utilities import redshifts_from_papers\n",
    "\n",
    "import warnings\n",
    "from astropy.utils.exceptions import AstropyWarning\n",
    "warnings.simplefilter('ignore', category=AstropyWarning)"
   ]
  },
  {
   "cell_type": "code",
   "execution_count": 2,
   "metadata": {
    "ExecuteTime": {
     "end_time": "2020-06-22T16:06:22.267990Z",
     "start_time": "2020-06-22T16:06:22.253623Z"
    }
   },
   "outputs": [],
   "source": [
    "def load_detcats(outpath, fields):\n",
    "    for field in fields:\n",
    "        if os.path.exists(f'{outpath}/{field}/{field}_vtp.detect'):\n",
    "            data_part = Table.read(f'{outpath}/{field}/{field}_vtp.detect', format='fits')\n",
    "            if len(data_part) > 0:\n",
    "                data_part['Field'] = field\n",
    "                try:\n",
    "                    hdr = getheader(f'{outpath}/{field}/{field}_vtp_high.detect', ext=1)\n",
    "                except FileNotFoundError:\n",
    "                    continue\n",
    "                data_part['Field_EXP'] = hdr['EXPOSURE']\n",
    "        else:\n",
    "            continue\n",
    "\n",
    "        # handle the first pass when we only have one part\n",
    "        try:\n",
    "            data = vstack([data, data_part])\n",
    "        except NameError:\n",
    "            data = data_part\n",
    "        \n",
    "    return data\n",
    "\n",
    "\n",
    "def load_MCMCfits(outpath, fields):\n",
    "    for field in fields:\n",
    "        if os.path.exists(f'{outpath}/{field}/{field}_mcmcfits.txt'):\n",
    "            try:\n",
    "                fit_part = Table.read(f'{outpath}/{field}/{field}_mcmcfits.txt', format='ascii', header_start=0)\n",
    "            except :\n",
    "                print(field)\n",
    "                raise (FileNotFoundError)\n",
    "            src_part = Table.read(f'{outpath}/{field}/{field}_vtp.detect', format='fits')\n",
    "            \n",
    "            fit_part.rename_column('ID', 'INDEX')\n",
    "            try:\n",
    "                data_part = join(fit_part, src_part, keys='INDEX', join_type='inner')\n",
    "            except ValueError:\n",
    "                continue\n",
    "        else:\n",
    "            continue\n",
    "\n",
    "        # handle the first pass when we only have one part\n",
    "        try:\n",
    "            data = vstack([data, data_part])\n",
    "        except NameError:\n",
    "            data = data_part\n",
    "        \n",
    "    return data\n",
    "\n",
    "def load_spectralfits(outpath, fields):\n",
    "    for field in fields:\n",
    "        if os.path.exists(f'{outpath}/{field}/spec_files/{field}_xspec.results'):\n",
    "            try:\n",
    "                data_part = Table.read(f'{outpath}/{field}/spec_files/{field}_xspec.results', \n",
    "                                       format='ascii', header_start=0)\n",
    "                if len(data_part) < 1:\n",
    "                    continue\n",
    "                \n",
    "            except ValueError:\n",
    "                continue\n",
    "        else:\n",
    "            continue\n",
    "\n",
    "        # handle the first pass when we only have one part\n",
    "        try:\n",
    "            data = vstack([data, data_part])\n",
    "        except NameError:\n",
    "            data = data_part\n",
    "        \n",
    "    return data"
   ]
  },
  {
   "cell_type": "code",
   "execution_count": 3,
   "metadata": {
    "ExecuteTime": {
     "end_time": "2020-06-22T16:07:04.314112Z",
     "start_time": "2020-06-22T16:06:22.278861Z"
    }
   },
   "outputs": [
    {
     "name": "stderr",
     "output_type": "stream",
     "text": [
      "/home/boada/Projects/swiftXRT/paper/utilities.py:215: TableReplaceWarning: converted column 'Nspec' from integer to float\n",
      "  data_barrena = load_extraCatalogs('barrena2018', merge=True)\n",
      "/home/boada/Projects/swiftXRT/paper/utilities.py:215: TableReplaceWarning: converted column 'R' from integer to float\n",
      "  data_barrena = load_extraCatalogs('barrena2018', merge=True)\n",
      "/home/boada/Projects/swiftXRT/paper/utilities.py:216: TableReplaceWarning: converted column 'N' from integer to float\n",
      "  data_aguado = load_extraCatalogs('aguado-barahona2019', merge=True)\n",
      "/home/boada/Projects/swiftXRT/paper/utilities.py:218: TableReplaceWarning: converted column 'ID' from integer to float\n",
      "  data_zohren = load_extraCatalogs('zohren2019', merge=True)\n"
     ]
    }
   ],
   "source": [
    "# get file data\n",
    "data = load_PSZcatalog()\n",
    "data = data.sort_values('NAME')\n",
    "data = redshifts_from_papers(data)\n",
    "\n",
    "datapath = '../data_full_new'\n",
    "data.replace(-1, np.nan, inplace=True)\n",
    "\n",
    "fields = [n.replace(' ', '_') for n in data['NAME']]\n",
    "\n",
    "fits = load_MCMCfits(datapath, fields) # not currently used, but gives access to beta-model params\n",
    "cats = load_detcats(datapath, fields)\n",
    "specs = load_spectralfits(datapath, fields)\n",
    "\n",
    "# check to see which fields have XRT data\n",
    "field_mask = [True if os.path.isdir(f'{datapath}/{n.replace(\" \", \"_\")}') else False for n in data['NAME']]\n",
    "                                    \n",
    "data['SWIFT'] = False\n",
    "data['SWIFT'] = field_mask"
   ]
  },
  {
   "cell_type": "code",
   "execution_count": 4,
   "metadata": {
    "ExecuteTime": {
     "end_time": "2020-06-22T16:07:04.357886Z",
     "start_time": "2020-06-22T16:07:04.355519Z"
    }
   },
   "outputs": [],
   "source": [
    "# add more columns -- don't think I really need these in the end.\n",
    "# data['XRT_exp'] = np.nan\n",
    "# data['N_H'] = np.nan"
   ]
  },
  {
   "cell_type": "code",
   "execution_count": 5,
   "metadata": {
    "ExecuteTime": {
     "end_time": "2020-06-22T16:07:04.422160Z",
     "start_time": "2020-06-22T16:07:04.398235Z"
    }
   },
   "outputs": [],
   "source": [
    "cats.remove_column('R')\n",
    "df_cats = cats.to_pandas()\n",
    "df_cats.Field = df_cats.Field.str.replace('_', ' ')\n",
    "\n",
    "df_specs = specs.to_pandas()\n",
    "df_specs.FIELD = df_specs.FIELD.str.replace('_', ' ')\n",
    "\n",
    "fits.remove_column('R')\n",
    "df_fits = fits.to_pandas()"
   ]
  },
  {
   "cell_type": "code",
   "execution_count": 6,
   "metadata": {
    "ExecuteTime": {
     "end_time": "2020-06-22T16:07:04.523989Z",
     "start_time": "2020-06-22T16:07:04.521758Z"
    }
   },
   "outputs": [],
   "source": [
    "# df_fits"
   ]
  },
  {
   "cell_type": "code",
   "execution_count": 7,
   "metadata": {
    "ExecuteTime": {
     "end_time": "2020-06-22T16:07:04.593547Z",
     "start_time": "2020-06-22T16:07:04.589290Z"
    }
   },
   "outputs": [],
   "source": [
    "# df_cats"
   ]
  },
  {
   "cell_type": "code",
   "execution_count": 8,
   "metadata": {
    "ExecuteTime": {
     "end_time": "2020-06-22T16:07:04.680682Z",
     "start_time": "2020-06-22T16:07:04.678645Z"
    }
   },
   "outputs": [],
   "source": [
    "# df_specs"
   ]
  },
  {
   "cell_type": "code",
   "execution_count": 9,
   "metadata": {
    "ExecuteTime": {
     "end_time": "2020-06-22T16:07:04.750196Z",
     "start_time": "2020-06-22T16:07:04.743027Z"
    }
   },
   "outputs": [],
   "source": [
    "df_data = data[['NAME', 'INDEX_PSZ2', 'RA', 'DEC', 'REDSHIFT']]"
   ]
  },
  {
   "cell_type": "code",
   "execution_count": 10,
   "metadata": {
    "ExecuteTime": {
     "end_time": "2020-06-22T16:07:04.819870Z",
     "start_time": "2020-06-22T16:07:04.815949Z"
    }
   },
   "outputs": [],
   "source": [
    "# df_data"
   ]
  },
  {
   "cell_type": "code",
   "execution_count": 11,
   "metadata": {
    "ExecuteTime": {
     "end_time": "2020-06-22T16:07:04.901308Z",
     "start_time": "2020-06-22T16:07:04.885026Z"
    }
   },
   "outputs": [],
   "source": [
    "# merge the catalog information to the main \"data\" frame\n",
    "df_m = df_data.merge(df_cats,                                                      \n",
    "               how='inner',                                              \n",
    "               left_on='NAME',                                          \n",
    "               right_on='Field',                                           \n",
    "               suffixes=('_data', '_detc'))\n",
    "\n",
    "# merge the spectral information to this new merged frame\n",
    "df_m2 = df_m.merge(df_specs,                                                      \n",
    "               how='left',                                              \n",
    "               left_on=['NAME', 'INDEX'],                                          \n",
    "               right_on=['FIELD', 'INDEX'],                                           \n",
    "               suffixes=('_data', '_detc'))"
   ]
  },
  {
   "cell_type": "code",
   "execution_count": 12,
   "metadata": {
    "ExecuteTime": {
     "end_time": "2020-06-22T16:07:04.998575Z",
     "start_time": "2020-06-22T16:07:04.994031Z"
    }
   },
   "outputs": [],
   "source": [
    "# df_m"
   ]
  },
  {
   "cell_type": "code",
   "execution_count": 13,
   "metadata": {
    "ExecuteTime": {
     "end_time": "2020-06-22T16:07:05.100621Z",
     "start_time": "2020-06-22T16:07:05.094325Z"
    }
   },
   "outputs": [],
   "source": [
    "# df_m2"
   ]
  },
  {
   "cell_type": "code",
   "execution_count": 14,
   "metadata": {
    "ExecuteTime": {
     "end_time": "2020-06-22T16:07:05.241004Z",
     "start_time": "2020-06-22T16:07:05.232385Z"
    }
   },
   "outputs": [],
   "source": [
    "# only select extended objects that are within 6' of the PSZ position\n",
    "df_close_ext = df_m2[(df_m2.PSZ_dist < 6) & (df_m2.Extended == 1)]"
   ]
  },
  {
   "cell_type": "code",
   "execution_count": 15,
   "metadata": {
    "ExecuteTime": {
     "end_time": "2020-06-22T16:07:05.423978Z",
     "start_time": "2020-06-22T16:07:05.414285Z"
    },
    "scrolled": false
   },
   "outputs": [
    {
     "data": {
      "text/plain": [
       "Index(['NAME', 'INDEX_PSZ2', 'RA_data', 'DEC_data', 'REDSHIFT', 'INDEX',\n",
       "       'RA_VTP', 'RA_ERR_VTP', 'DEC_VTP', 'DEC_ERR_VTP', 'X_VTP', 'Y_VTP',\n",
       "       'X_ERR_VTP', 'Y_ERR_VTP', 'SRC_AREA', 'NET_COUNTS', 'NET_COUNTS_ERR',\n",
       "       'BKG_COUNTS', 'BKG_COUNTS_ERR', 'NET_RATE', 'NET_RATE_ERR', 'BKG_RATE',\n",
       "       'BKG_RATE_ERR', 'EXPTIME', 'SRC_CUTOFF', 'FSP', 'EDGE_OF_FIELD',\n",
       "       'SHAPE', 'ROTANG', 'COMPONENT', 'HIGH', 'X', 'Y', 'X_ERR', 'Y_ERR',\n",
       "       'RA_detc', 'DEC_detc', 'RA_ERR', 'DEC_ERR', 'PSZ_dist', 'Extended',\n",
       "       'Field', 'Field_EXP', 'SN', 'redCHI2', 'DOF', 'NORM', 'NORM_NEG',\n",
       "       'NORM_POS', 'FLUX', 'CNT_RATE_NET', 'CNT_RATE_NET_ERR',\n",
       "       'CNT_RATE_MODEL', 'ECF', 'LUM', 'FLUX_CORR', 'LUM_CORR', 'CORR',\n",
       "       'FIELD'],\n",
       "      dtype='object')"
      ]
     },
     "execution_count": 15,
     "metadata": {},
     "output_type": "execute_result"
    }
   ],
   "source": [
    "df_close_ext.columns"
   ]
  },
  {
   "cell_type": "code",
   "execution_count": 16,
   "metadata": {
    "ExecuteTime": {
     "end_time": "2020-06-22T16:07:05.532064Z",
     "start_time": "2020-06-22T16:07:05.529100Z"
    }
   },
   "outputs": [],
   "source": [
    "cols = ['NAME', 'RA_detc', 'DEC_detc', 'REDSHIFT', 'INDEX', 'PSZ_dist', 'EXPTIME',\n",
    "        'SN', 'redCHI2', 'DOF', 'NORM', 'NORM_NEG', 'NORM_POS', 'FLUX', 'CNT_RATE_NET', \n",
    "        'CNT_RATE_MODEL', 'ECF', 'LUM', 'FLUX_CORR', 'LUM_CORR', 'CORR']"
   ]
  },
  {
   "cell_type": "code",
   "execution_count": 17,
   "metadata": {
    "ExecuteTime": {
     "end_time": "2020-06-22T16:07:05.660722Z",
     "start_time": "2020-06-22T16:07:05.635538Z"
    }
   },
   "outputs": [
    {
     "data": {
      "text/html": [
       "<div>\n",
       "<style scoped>\n",
       "    .dataframe tbody tr th:only-of-type {\n",
       "        vertical-align: middle;\n",
       "    }\n",
       "\n",
       "    .dataframe tbody tr th {\n",
       "        vertical-align: top;\n",
       "    }\n",
       "\n",
       "    .dataframe thead th {\n",
       "        text-align: right;\n",
       "    }\n",
       "</style>\n",
       "<table border=\"1\" class=\"dataframe\">\n",
       "  <thead>\n",
       "    <tr style=\"text-align: right;\">\n",
       "      <th></th>\n",
       "      <th>NAME</th>\n",
       "      <th>RA_detc</th>\n",
       "      <th>DEC_detc</th>\n",
       "      <th>REDSHIFT</th>\n",
       "      <th>INDEX</th>\n",
       "      <th>PSZ_dist</th>\n",
       "      <th>EXPTIME</th>\n",
       "      <th>SN</th>\n",
       "      <th>redCHI2</th>\n",
       "      <th>DOF</th>\n",
       "      <th>...</th>\n",
       "      <th>NORM_NEG</th>\n",
       "      <th>NORM_POS</th>\n",
       "      <th>FLUX</th>\n",
       "      <th>CNT_RATE_NET</th>\n",
       "      <th>CNT_RATE_MODEL</th>\n",
       "      <th>ECF</th>\n",
       "      <th>LUM</th>\n",
       "      <th>FLUX_CORR</th>\n",
       "      <th>LUM_CORR</th>\n",
       "      <th>CORR</th>\n",
       "    </tr>\n",
       "  </thead>\n",
       "  <tbody>\n",
       "    <tr>\n",
       "      <th>111</th>\n",
       "      <td>PSZ1 G292.00-43.64</td>\n",
       "      <td>38.184324</td>\n",
       "      <td>-71.219107</td>\n",
       "      <td>NaN</td>\n",
       "      <td>9</td>\n",
       "      <td>3.472973</td>\n",
       "      <td>327940.125000</td>\n",
       "      <td>-1.0</td>\n",
       "      <td>11.6202</td>\n",
       "      <td>821.0</td>\n",
       "      <td>...</td>\n",
       "      <td>-1.0</td>\n",
       "      <td>-1.0</td>\n",
       "      <td>1.736700e-12</td>\n",
       "      <td>0.06475</td>\n",
       "      <td>0.072833</td>\n",
       "      <td>2.384500e-11</td>\n",
       "      <td>4.206300e+43</td>\n",
       "      <td>NaN</td>\n",
       "      <td>NaN</td>\n",
       "      <td>NaN</td>\n",
       "    </tr>\n",
       "    <tr>\n",
       "      <th>114</th>\n",
       "      <td>PSZ1 G292.00-43.64</td>\n",
       "      <td>38.157531</td>\n",
       "      <td>-71.263793</td>\n",
       "      <td>NaN</td>\n",
       "      <td>12</td>\n",
       "      <td>0.766725</td>\n",
       "      <td>322966.812500</td>\n",
       "      <td>-1.0</td>\n",
       "      <td>11.6006</td>\n",
       "      <td>821.0</td>\n",
       "      <td>...</td>\n",
       "      <td>-1.0</td>\n",
       "      <td>-1.0</td>\n",
       "      <td>1.743000e-12</td>\n",
       "      <td>0.06490</td>\n",
       "      <td>0.073110</td>\n",
       "      <td>2.384100e-11</td>\n",
       "      <td>4.221400e+43</td>\n",
       "      <td>NaN</td>\n",
       "      <td>NaN</td>\n",
       "      <td>NaN</td>\n",
       "    </tr>\n",
       "    <tr>\n",
       "      <th>128</th>\n",
       "      <td>PSZ1 G292.00-43.64</td>\n",
       "      <td>37.905434</td>\n",
       "      <td>-71.333463</td>\n",
       "      <td>NaN</td>\n",
       "      <td>26</td>\n",
       "      <td>5.990574</td>\n",
       "      <td>314961.250000</td>\n",
       "      <td>-1.0</td>\n",
       "      <td>11.6219</td>\n",
       "      <td>821.0</td>\n",
       "      <td>...</td>\n",
       "      <td>-1.0</td>\n",
       "      <td>-1.0</td>\n",
       "      <td>1.751100e-12</td>\n",
       "      <td>0.06512</td>\n",
       "      <td>0.073457</td>\n",
       "      <td>2.383800e-11</td>\n",
       "      <td>4.241000e+43</td>\n",
       "      <td>NaN</td>\n",
       "      <td>NaN</td>\n",
       "      <td>NaN</td>\n",
       "    </tr>\n",
       "    <tr>\n",
       "      <th>131</th>\n",
       "      <td>PSZ1 G292.00-43.64</td>\n",
       "      <td>37.872597</td>\n",
       "      <td>-71.293228</td>\n",
       "      <td>NaN</td>\n",
       "      <td>29</td>\n",
       "      <td>5.647563</td>\n",
       "      <td>344272.687500</td>\n",
       "      <td>-1.0</td>\n",
       "      <td>11.6324</td>\n",
       "      <td>821.0</td>\n",
       "      <td>...</td>\n",
       "      <td>-1.0</td>\n",
       "      <td>-1.0</td>\n",
       "      <td>1.745000e-12</td>\n",
       "      <td>0.06502</td>\n",
       "      <td>0.073209</td>\n",
       "      <td>2.383600e-11</td>\n",
       "      <td>4.226200e+43</td>\n",
       "      <td>NaN</td>\n",
       "      <td>NaN</td>\n",
       "      <td>NaN</td>\n",
       "    </tr>\n",
       "    <tr>\n",
       "      <th>750</th>\n",
       "      <td>PSZ2 G283.91+73.87</td>\n",
       "      <td>187.478366</td>\n",
       "      <td>11.768358</td>\n",
       "      <td>0.0852</td>\n",
       "      <td>4</td>\n",
       "      <td>4.800089</td>\n",
       "      <td>9156.241211</td>\n",
       "      <td>-1.0</td>\n",
       "      <td>2.0489</td>\n",
       "      <td>368.0</td>\n",
       "      <td>...</td>\n",
       "      <td>-1.0</td>\n",
       "      <td>-1.0</td>\n",
       "      <td>1.764900e-11</td>\n",
       "      <td>0.75180</td>\n",
       "      <td>0.738245</td>\n",
       "      <td>2.390700e-11</td>\n",
       "      <td>3.059400e+44</td>\n",
       "      <td>NaN</td>\n",
       "      <td>NaN</td>\n",
       "      <td>NaN</td>\n",
       "    </tr>\n",
       "  </tbody>\n",
       "</table>\n",
       "<p>5 rows × 21 columns</p>\n",
       "</div>"
      ],
      "text/plain": [
       "                   NAME     RA_detc   DEC_detc  REDSHIFT  INDEX  PSZ_dist  \\\n",
       "111  PSZ1 G292.00-43.64   38.184324 -71.219107       NaN      9  3.472973   \n",
       "114  PSZ1 G292.00-43.64   38.157531 -71.263793       NaN     12  0.766725   \n",
       "128  PSZ1 G292.00-43.64   37.905434 -71.333463       NaN     26  5.990574   \n",
       "131  PSZ1 G292.00-43.64   37.872597 -71.293228       NaN     29  5.647563   \n",
       "750  PSZ2 G283.91+73.87  187.478366  11.768358    0.0852      4  4.800089   \n",
       "\n",
       "           EXPTIME   SN  redCHI2    DOF  ...  NORM_NEG  NORM_POS  \\\n",
       "111  327940.125000 -1.0  11.6202  821.0  ...      -1.0      -1.0   \n",
       "114  322966.812500 -1.0  11.6006  821.0  ...      -1.0      -1.0   \n",
       "128  314961.250000 -1.0  11.6219  821.0  ...      -1.0      -1.0   \n",
       "131  344272.687500 -1.0  11.6324  821.0  ...      -1.0      -1.0   \n",
       "750    9156.241211 -1.0   2.0489  368.0  ...      -1.0      -1.0   \n",
       "\n",
       "             FLUX  CNT_RATE_NET  CNT_RATE_MODEL           ECF           LUM  \\\n",
       "111  1.736700e-12       0.06475        0.072833  2.384500e-11  4.206300e+43   \n",
       "114  1.743000e-12       0.06490        0.073110  2.384100e-11  4.221400e+43   \n",
       "128  1.751100e-12       0.06512        0.073457  2.383800e-11  4.241000e+43   \n",
       "131  1.745000e-12       0.06502        0.073209  2.383600e-11  4.226200e+43   \n",
       "750  1.764900e-11       0.75180        0.738245  2.390700e-11  3.059400e+44   \n",
       "\n",
       "     FLUX_CORR  LUM_CORR  CORR  \n",
       "111        NaN       NaN   NaN  \n",
       "114        NaN       NaN   NaN  \n",
       "128        NaN       NaN   NaN  \n",
       "131        NaN       NaN   NaN  \n",
       "750        NaN       NaN   NaN  \n",
       "\n",
       "[5 rows x 21 columns]"
      ]
     },
     "execution_count": 17,
     "metadata": {},
     "output_type": "execute_result"
    }
   ],
   "source": [
    "df_close_ext[df_close_ext.FLUX_CORR.isnull()][cols]"
   ]
  },
  {
   "cell_type": "code",
   "execution_count": 18,
   "metadata": {
    "ExecuteTime": {
     "end_time": "2020-06-22T16:07:05.803680Z",
     "start_time": "2020-06-22T16:07:05.786550Z"
    }
   },
   "outputs": [
    {
     "name": "stderr",
     "output_type": "stream",
     "text": [
      "/home/boada/.local/lib/python3.7/site-packages/pandas/core/indexing.py:845: SettingWithCopyWarning: \n",
      "A value is trying to be set on a copy of a slice from a DataFrame.\n",
      "Try using .loc[row_indexer,col_indexer] = value instead\n",
      "\n",
      "See the caveats in the documentation: https://pandas.pydata.org/pandas-docs/stable/user_guide/indexing.html#returning-a-view-versus-a-copy\n",
      "  self.obj[key] = _infer_fill_value(value)\n",
      "/home/boada/.local/lib/python3.7/site-packages/pandas/core/indexing.py:966: SettingWithCopyWarning: \n",
      "A value is trying to be set on a copy of a slice from a DataFrame.\n",
      "Try using .loc[row_indexer,col_indexer] = value instead\n",
      "\n",
      "See the caveats in the documentation: https://pandas.pydata.org/pandas-docs/stable/user_guide/indexing.html#returning-a-view-versus-a-copy\n",
      "  self.obj[item] = s\n",
      "/home/boada/.local/lib/python3.7/site-packages/ipykernel_launcher.py:5: SettingWithCopyWarning: \n",
      "A value is trying to be set on a copy of a slice from a DataFrame.\n",
      "Try using .loc[row_indexer,col_indexer] = value instead\n",
      "\n",
      "See the caveats in the documentation: https://pandas.pydata.org/pandas-docs/stable/user_guide/indexing.html#returning-a-view-versus-a-copy\n",
      "  \"\"\"\n",
      "/home/boada/.local/lib/python3.7/site-packages/ipykernel_launcher.py:6: SettingWithCopyWarning: \n",
      "A value is trying to be set on a copy of a slice from a DataFrame.\n",
      "Try using .loc[row_indexer,col_indexer] = value instead\n",
      "\n",
      "See the caveats in the documentation: https://pandas.pydata.org/pandas-docs/stable/user_guide/indexing.html#returning-a-view-versus-a-copy\n",
      "  \n",
      "/home/boada/.local/lib/python3.7/site-packages/ipykernel_launcher.py:7: SettingWithCopyWarning: \n",
      "A value is trying to be set on a copy of a slice from a DataFrame.\n",
      "Try using .loc[row_indexer,col_indexer] = value instead\n",
      "\n",
      "See the caveats in the documentation: https://pandas.pydata.org/pandas-docs/stable/user_guide/indexing.html#returning-a-view-versus-a-copy\n",
      "  import sys\n",
      "/home/boada/.local/lib/python3.7/site-packages/ipykernel_launcher.py:8: SettingWithCopyWarning: \n",
      "A value is trying to be set on a copy of a slice from a DataFrame.\n",
      "Try using .loc[row_indexer,col_indexer] = value instead\n",
      "\n",
      "See the caveats in the documentation: https://pandas.pydata.org/pandas-docs/stable/user_guide/indexing.html#returning-a-view-versus-a-copy\n",
      "  \n"
     ]
    }
   ],
   "source": [
    "# calculate the errors for the flux and Luminosity\n",
    "for c in ['FLUX_CORR_POSERR', 'FLUX_CORR_NEGERR', 'LUM_CORR_POSERR', 'LUM_CORR_NEGERR']:\n",
    "    df_close_ext.loc[:, c] = np.nan\n",
    "\n",
    "df_close_ext['FLUX_CORR_POSERR'] = df_close_ext['FLUX_CORR'] / df_close_ext['NORM'] * df_close_ext['NORM_POS']\n",
    "df_close_ext['FLUX_CORR_NEGERR'] = df_close_ext['FLUX_CORR'] / df_close_ext['NORM'] * df_close_ext['NORM_NEG']\n",
    "df_close_ext['LUM_CORR_POSERR'] = df_close_ext['LUM_CORR'] / df_close_ext['NORM'] * df_close_ext['NORM_POS']\n",
    "df_close_ext['LUM_CORR_NEGERR'] = df_close_ext['LUM_CORR'] / df_close_ext['NORM'] * df_close_ext['NORM_NEG']"
   ]
  },
  {
   "cell_type": "code",
   "execution_count": 19,
   "metadata": {
    "ExecuteTime": {
     "end_time": "2020-06-22T16:07:05.989058Z",
     "start_time": "2020-06-22T16:07:05.954238Z"
    }
   },
   "outputs": [
    {
     "data": {
      "text/html": [
       "<div>\n",
       "<style scoped>\n",
       "    .dataframe tbody tr th:only-of-type {\n",
       "        vertical-align: middle;\n",
       "    }\n",
       "\n",
       "    .dataframe tbody tr th {\n",
       "        vertical-align: top;\n",
       "    }\n",
       "\n",
       "    .dataframe thead th {\n",
       "        text-align: right;\n",
       "    }\n",
       "</style>\n",
       "<table border=\"1\" class=\"dataframe\">\n",
       "  <thead>\n",
       "    <tr style=\"text-align: right;\">\n",
       "      <th></th>\n",
       "      <th>NAME</th>\n",
       "      <th>INDEX_PSZ2</th>\n",
       "      <th>RA_data</th>\n",
       "      <th>DEC_data</th>\n",
       "      <th>REDSHIFT</th>\n",
       "      <th>INDEX</th>\n",
       "      <th>RA_VTP</th>\n",
       "      <th>RA_ERR_VTP</th>\n",
       "      <th>DEC_VTP</th>\n",
       "      <th>DEC_ERR_VTP</th>\n",
       "      <th>...</th>\n",
       "      <th>ECF</th>\n",
       "      <th>LUM</th>\n",
       "      <th>FLUX_CORR</th>\n",
       "      <th>LUM_CORR</th>\n",
       "      <th>CORR</th>\n",
       "      <th>FIELD</th>\n",
       "      <th>FLUX_CORR_POSERR</th>\n",
       "      <th>FLUX_CORR_NEGERR</th>\n",
       "      <th>LUM_CORR_POSERR</th>\n",
       "      <th>LUM_CORR_NEGERR</th>\n",
       "    </tr>\n",
       "  </thead>\n",
       "  <tbody>\n",
       "    <tr>\n",
       "      <th>0</th>\n",
       "      <td>PSZ1 G023.53-36.53</td>\n",
       "      <td>NaN</td>\n",
       "      <td>313.528542</td>\n",
       "      <td>-22.841100</td>\n",
       "      <td>0.2840</td>\n",
       "      <td>1</td>\n",
       "      <td>313.521441</td>\n",
       "      <td>0.001330</td>\n",
       "      <td>-22.811574</td>\n",
       "      <td>0.001614</td>\n",
       "      <td>...</td>\n",
       "      <td>2.166100e-11</td>\n",
       "      <td>1.341500e+44</td>\n",
       "      <td>6.396498e-13</td>\n",
       "      <td>1.453750e+44</td>\n",
       "      <td>0.083675</td>\n",
       "      <td>PSZ1 G023.53-36.53</td>\n",
       "      <td>7.672155e-14</td>\n",
       "      <td>7.672155e-14</td>\n",
       "      <td>1.743672e+43</td>\n",
       "      <td>1.743672e+43</td>\n",
       "    </tr>\n",
       "    <tr>\n",
       "      <th>22</th>\n",
       "      <td>PSZ1 G031.41+28.75</td>\n",
       "      <td>NaN</td>\n",
       "      <td>256.263153</td>\n",
       "      <td>11.460448</td>\n",
       "      <td>0.2300</td>\n",
       "      <td>22</td>\n",
       "      <td>256.352326</td>\n",
       "      <td>0.000212</td>\n",
       "      <td>11.435420</td>\n",
       "      <td>0.000468</td>\n",
       "      <td>...</td>\n",
       "      <td>1.994100e-11</td>\n",
       "      <td>2.483300e+41</td>\n",
       "      <td>3.191675e-15</td>\n",
       "      <td>4.568762e+41</td>\n",
       "      <td>0.839794</td>\n",
       "      <td>PSZ1 G031.41+28.75</td>\n",
       "      <td>3.191675e-15</td>\n",
       "      <td>3.191675e-15</td>\n",
       "      <td>4.568762e+41</td>\n",
       "      <td>4.568762e+41</td>\n",
       "    </tr>\n",
       "    <tr>\n",
       "      <th>33</th>\n",
       "      <td>PSZ1 G031.41+28.75</td>\n",
       "      <td>NaN</td>\n",
       "      <td>256.263153</td>\n",
       "      <td>11.460448</td>\n",
       "      <td>0.2300</td>\n",
       "      <td>33</td>\n",
       "      <td>256.284234</td>\n",
       "      <td>0.000194</td>\n",
       "      <td>11.378536</td>\n",
       "      <td>0.000146</td>\n",
       "      <td>...</td>\n",
       "      <td>2.253900e-11</td>\n",
       "      <td>6.724300e+41</td>\n",
       "      <td>6.417292e-15</td>\n",
       "      <td>9.186120e+41</td>\n",
       "      <td>0.366108</td>\n",
       "      <td>PSZ1 G031.41+28.75</td>\n",
       "      <td>1.233011e-15</td>\n",
       "      <td>1.233011e-15</td>\n",
       "      <td>1.765011e+41</td>\n",
       "      <td>1.765011e+41</td>\n",
       "    </tr>\n",
       "    <tr>\n",
       "      <th>39</th>\n",
       "      <td>PSZ1 G055.72+17.58</td>\n",
       "      <td>NaN</td>\n",
       "      <td>276.342547</td>\n",
       "      <td>27.804647</td>\n",
       "      <td>0.1940</td>\n",
       "      <td>1</td>\n",
       "      <td>276.379384</td>\n",
       "      <td>0.001091</td>\n",
       "      <td>27.741733</td>\n",
       "      <td>0.000991</td>\n",
       "      <td>...</td>\n",
       "      <td>2.077600e-11</td>\n",
       "      <td>1.336600e+44</td>\n",
       "      <td>1.451761e-12</td>\n",
       "      <td>1.436287e+44</td>\n",
       "      <td>0.074582</td>\n",
       "      <td>PSZ1 G055.72+17.58</td>\n",
       "      <td>9.712849e-14</td>\n",
       "      <td>9.712849e-14</td>\n",
       "      <td>9.609322e+42</td>\n",
       "      <td>9.609322e+42</td>\n",
       "    </tr>\n",
       "    <tr>\n",
       "      <th>40</th>\n",
       "      <td>PSZ1 G057.42-10.77</td>\n",
       "      <td>NaN</td>\n",
       "      <td>304.356094</td>\n",
       "      <td>16.092529</td>\n",
       "      <td>0.1360</td>\n",
       "      <td>1</td>\n",
       "      <td>304.366947</td>\n",
       "      <td>0.000883</td>\n",
       "      <td>16.062207</td>\n",
       "      <td>0.000763</td>\n",
       "      <td>...</td>\n",
       "      <td>2.102400e-11</td>\n",
       "      <td>8.614700e+43</td>\n",
       "      <td>1.959528e-12</td>\n",
       "      <td>9.071281e+43</td>\n",
       "      <td>0.053000</td>\n",
       "      <td>PSZ1 G057.42-10.77</td>\n",
       "      <td>1.279963e-13</td>\n",
       "      <td>1.279963e-13</td>\n",
       "      <td>5.925356e+42</td>\n",
       "      <td>5.925356e+42</td>\n",
       "    </tr>\n",
       "    <tr>\n",
       "      <th>...</th>\n",
       "      <td>...</td>\n",
       "      <td>...</td>\n",
       "      <td>...</td>\n",
       "      <td>...</td>\n",
       "      <td>...</td>\n",
       "      <td>...</td>\n",
       "      <td>...</td>\n",
       "      <td>...</td>\n",
       "      <td>...</td>\n",
       "      <td>...</td>\n",
       "      <td>...</td>\n",
       "      <td>...</td>\n",
       "      <td>...</td>\n",
       "      <td>...</td>\n",
       "      <td>...</td>\n",
       "      <td>...</td>\n",
       "      <td>...</td>\n",
       "      <td>...</td>\n",
       "      <td>...</td>\n",
       "      <td>...</td>\n",
       "      <td>...</td>\n",
       "    </tr>\n",
       "    <tr>\n",
       "      <th>912</th>\n",
       "      <td>PSZ2 G358.34-47.31</td>\n",
       "      <td>1647.0</td>\n",
       "      <td>323.485677</td>\n",
       "      <td>-42.666426</td>\n",
       "      <td>0.2000</td>\n",
       "      <td>3</td>\n",
       "      <td>323.500210</td>\n",
       "      <td>0.000547</td>\n",
       "      <td>-42.646546</td>\n",
       "      <td>0.000361</td>\n",
       "      <td>...</td>\n",
       "      <td>2.103200e-11</td>\n",
       "      <td>8.794300e+43</td>\n",
       "      <td>8.985793e-13</td>\n",
       "      <td>9.498962e+43</td>\n",
       "      <td>0.080127</td>\n",
       "      <td>PSZ2 G358.34-47.31</td>\n",
       "      <td>4.039392e-14</td>\n",
       "      <td>4.039392e-14</td>\n",
       "      <td>4.270077e+42</td>\n",
       "      <td>4.270077e+42</td>\n",
       "    </tr>\n",
       "    <tr>\n",
       "      <th>913</th>\n",
       "      <td>PSZ2 G358.34-47.31</td>\n",
       "      <td>1647.0</td>\n",
       "      <td>323.485677</td>\n",
       "      <td>-42.666426</td>\n",
       "      <td>0.2000</td>\n",
       "      <td>4</td>\n",
       "      <td>323.423754</td>\n",
       "      <td>0.001739</td>\n",
       "      <td>-42.727664</td>\n",
       "      <td>0.000935</td>\n",
       "      <td>...</td>\n",
       "      <td>2.236000e-11</td>\n",
       "      <td>5.171300e+42</td>\n",
       "      <td>7.320834e-14</td>\n",
       "      <td>7.738962e+42</td>\n",
       "      <td>0.496522</td>\n",
       "      <td>PSZ2 G358.34-47.31</td>\n",
       "      <td>1.659103e-14</td>\n",
       "      <td>1.659103e-14</td>\n",
       "      <td>1.753863e+42</td>\n",
       "      <td>1.753863e+42</td>\n",
       "    </tr>\n",
       "    <tr>\n",
       "      <th>915</th>\n",
       "      <td>PSZ2 G358.98-67.26</td>\n",
       "      <td>1650.0</td>\n",
       "      <td>348.926557</td>\n",
       "      <td>-37.779104</td>\n",
       "      <td>0.1786</td>\n",
       "      <td>1</td>\n",
       "      <td>348.934928</td>\n",
       "      <td>0.002054</td>\n",
       "      <td>-37.793994</td>\n",
       "      <td>0.001341</td>\n",
       "      <td>...</td>\n",
       "      <td>2.088400e-11</td>\n",
       "      <td>1.408900e+44</td>\n",
       "      <td>1.806741e-12</td>\n",
       "      <td>1.497099e+44</td>\n",
       "      <td>0.062601</td>\n",
       "      <td>PSZ2 G358.98-67.26</td>\n",
       "      <td>1.865201e-13</td>\n",
       "      <td>1.865201e-13</td>\n",
       "      <td>1.545540e+43</td>\n",
       "      <td>1.545540e+43</td>\n",
       "    </tr>\n",
       "    <tr>\n",
       "      <th>916</th>\n",
       "      <td>PSZ2 G359.07-32.12</td>\n",
       "      <td>1651.0</td>\n",
       "      <td>303.018900</td>\n",
       "      <td>-41.486882</td>\n",
       "      <td>0.1496</td>\n",
       "      <td>1</td>\n",
       "      <td>303.146133</td>\n",
       "      <td>0.000335</td>\n",
       "      <td>-41.480888</td>\n",
       "      <td>0.000363</td>\n",
       "      <td>...</td>\n",
       "      <td>2.079800e-11</td>\n",
       "      <td>2.028600e+42</td>\n",
       "      <td>3.911258e-14</td>\n",
       "      <td>2.217298e+42</td>\n",
       "      <td>0.093019</td>\n",
       "      <td>PSZ2 G359.07-32.12</td>\n",
       "      <td>7.126681e-15</td>\n",
       "      <td>7.126681e-15</td>\n",
       "      <td>4.040126e+41</td>\n",
       "      <td>4.040126e+41</td>\n",
       "    </tr>\n",
       "    <tr>\n",
       "      <th>919</th>\n",
       "      <td>PSZ2 G359.07-32.12</td>\n",
       "      <td>1651.0</td>\n",
       "      <td>303.018900</td>\n",
       "      <td>-41.486882</td>\n",
       "      <td>0.1496</td>\n",
       "      <td>4</td>\n",
       "      <td>302.991241</td>\n",
       "      <td>0.000640</td>\n",
       "      <td>-41.494833</td>\n",
       "      <td>0.000441</td>\n",
       "      <td>...</td>\n",
       "      <td>2.103000e-11</td>\n",
       "      <td>1.078100e+44</td>\n",
       "      <td>2.106372e-12</td>\n",
       "      <td>1.194132e+44</td>\n",
       "      <td>0.107626</td>\n",
       "      <td>PSZ2 G359.07-32.12</td>\n",
       "      <td>5.640283e-14</td>\n",
       "      <td>5.640283e-14</td>\n",
       "      <td>3.197554e+42</td>\n",
       "      <td>3.197554e+42</td>\n",
       "    </tr>\n",
       "  </tbody>\n",
       "</table>\n",
       "<p>482 rows × 63 columns</p>\n",
       "</div>"
      ],
      "text/plain": [
       "                   NAME  INDEX_PSZ2     RA_data   DEC_data  REDSHIFT  INDEX  \\\n",
       "0    PSZ1 G023.53-36.53         NaN  313.528542 -22.841100    0.2840      1   \n",
       "22   PSZ1 G031.41+28.75         NaN  256.263153  11.460448    0.2300     22   \n",
       "33   PSZ1 G031.41+28.75         NaN  256.263153  11.460448    0.2300     33   \n",
       "39   PSZ1 G055.72+17.58         NaN  276.342547  27.804647    0.1940      1   \n",
       "40   PSZ1 G057.42-10.77         NaN  304.356094  16.092529    0.1360      1   \n",
       "..                  ...         ...         ...        ...       ...    ...   \n",
       "912  PSZ2 G358.34-47.31      1647.0  323.485677 -42.666426    0.2000      3   \n",
       "913  PSZ2 G358.34-47.31      1647.0  323.485677 -42.666426    0.2000      4   \n",
       "915  PSZ2 G358.98-67.26      1650.0  348.926557 -37.779104    0.1786      1   \n",
       "916  PSZ2 G359.07-32.12      1651.0  303.018900 -41.486882    0.1496      1   \n",
       "919  PSZ2 G359.07-32.12      1651.0  303.018900 -41.486882    0.1496      4   \n",
       "\n",
       "         RA_VTP  RA_ERR_VTP    DEC_VTP  DEC_ERR_VTP  ...           ECF  \\\n",
       "0    313.521441    0.001330 -22.811574     0.001614  ...  2.166100e-11   \n",
       "22   256.352326    0.000212  11.435420     0.000468  ...  1.994100e-11   \n",
       "33   256.284234    0.000194  11.378536     0.000146  ...  2.253900e-11   \n",
       "39   276.379384    0.001091  27.741733     0.000991  ...  2.077600e-11   \n",
       "40   304.366947    0.000883  16.062207     0.000763  ...  2.102400e-11   \n",
       "..          ...         ...        ...          ...  ...           ...   \n",
       "912  323.500210    0.000547 -42.646546     0.000361  ...  2.103200e-11   \n",
       "913  323.423754    0.001739 -42.727664     0.000935  ...  2.236000e-11   \n",
       "915  348.934928    0.002054 -37.793994     0.001341  ...  2.088400e-11   \n",
       "916  303.146133    0.000335 -41.480888     0.000363  ...  2.079800e-11   \n",
       "919  302.991241    0.000640 -41.494833     0.000441  ...  2.103000e-11   \n",
       "\n",
       "              LUM     FLUX_CORR      LUM_CORR      CORR               FIELD  \\\n",
       "0    1.341500e+44  6.396498e-13  1.453750e+44  0.083675  PSZ1 G023.53-36.53   \n",
       "22   2.483300e+41  3.191675e-15  4.568762e+41  0.839794  PSZ1 G031.41+28.75   \n",
       "33   6.724300e+41  6.417292e-15  9.186120e+41  0.366108  PSZ1 G031.41+28.75   \n",
       "39   1.336600e+44  1.451761e-12  1.436287e+44  0.074582  PSZ1 G055.72+17.58   \n",
       "40   8.614700e+43  1.959528e-12  9.071281e+43  0.053000  PSZ1 G057.42-10.77   \n",
       "..            ...           ...           ...       ...                 ...   \n",
       "912  8.794300e+43  8.985793e-13  9.498962e+43  0.080127  PSZ2 G358.34-47.31   \n",
       "913  5.171300e+42  7.320834e-14  7.738962e+42  0.496522  PSZ2 G358.34-47.31   \n",
       "915  1.408900e+44  1.806741e-12  1.497099e+44  0.062601  PSZ2 G358.98-67.26   \n",
       "916  2.028600e+42  3.911258e-14  2.217298e+42  0.093019  PSZ2 G359.07-32.12   \n",
       "919  1.078100e+44  2.106372e-12  1.194132e+44  0.107626  PSZ2 G359.07-32.12   \n",
       "\n",
       "     FLUX_CORR_POSERR  FLUX_CORR_NEGERR  LUM_CORR_POSERR  LUM_CORR_NEGERR  \n",
       "0        7.672155e-14      7.672155e-14     1.743672e+43     1.743672e+43  \n",
       "22       3.191675e-15      3.191675e-15     4.568762e+41     4.568762e+41  \n",
       "33       1.233011e-15      1.233011e-15     1.765011e+41     1.765011e+41  \n",
       "39       9.712849e-14      9.712849e-14     9.609322e+42     9.609322e+42  \n",
       "40       1.279963e-13      1.279963e-13     5.925356e+42     5.925356e+42  \n",
       "..                ...               ...              ...              ...  \n",
       "912      4.039392e-14      4.039392e-14     4.270077e+42     4.270077e+42  \n",
       "913      1.659103e-14      1.659103e-14     1.753863e+42     1.753863e+42  \n",
       "915      1.865201e-13      1.865201e-13     1.545540e+43     1.545540e+43  \n",
       "916      7.126681e-15      7.126681e-15     4.040126e+41     4.040126e+41  \n",
       "919      5.640283e-14      5.640283e-14     3.197554e+42     3.197554e+42  \n",
       "\n",
       "[482 rows x 63 columns]"
      ]
     },
     "execution_count": 19,
     "metadata": {},
     "output_type": "execute_result"
    }
   ],
   "source": [
    "df_close_ext"
   ]
  },
  {
   "cell_type": "code",
   "execution_count": 20,
   "metadata": {
    "ExecuteTime": {
     "end_time": "2020-06-22T16:07:06.123932Z",
     "start_time": "2020-06-22T16:07:06.107255Z"
    }
   },
   "outputs": [],
   "source": [
    "cols = ['NAME', 'RA_detc', 'DEC_detc', 'REDSHIFT', 'INDEX', 'PSZ_dist', 'EXPTIME',\n",
    "        'SN', 'redCHI2', 'DOF', 'NORM', 'NORM_NEG', 'NORM_POS', 'FLUX', 'CNT_RATE_NET', \n",
    "        'CNT_RATE_MODEL', 'ECF', 'LUM', 'FLUX_CORR', 'FLUX_CORR_POSERR', 'FLUX_CORR_NEGERR', \n",
    "        'LUM_CORR', 'LUM_CORR_POSERR', 'LUM_CORR_NEGERR', 'CORR']\n",
    "\n",
    "t1 = Table.from_pandas(df_close_ext[cols])"
   ]
  },
  {
   "cell_type": "code",
   "execution_count": 21,
   "metadata": {
    "ExecuteTime": {
     "end_time": "2020-06-22T16:07:06.275987Z",
     "start_time": "2020-06-22T16:07:06.262479Z"
    }
   },
   "outputs": [
    {
     "data": {
      "text/html": [
       "<i>Table length=482</i>\n",
       "<table id=\"table139851535071384\" class=\"table-striped table-bordered table-condensed\">\n",
       "<thead><tr><th>NAME</th><th>RA_detc</th><th>DEC_detc</th><th>REDSHIFT</th><th>INDEX</th><th>PSZ_dist</th><th>EXPTIME</th><th>SN</th><th>redCHI2</th><th>DOF</th><th>NORM</th><th>NORM_NEG</th><th>NORM_POS</th><th>FLUX</th><th>CNT_RATE_NET</th><th>CNT_RATE_MODEL</th><th>ECF</th><th>LUM</th><th>FLUX_CORR</th><th>FLUX_CORR_POSERR</th><th>FLUX_CORR_NEGERR</th><th>LUM_CORR</th><th>LUM_CORR_POSERR</th><th>LUM_CORR_NEGERR</th><th>CORR</th></tr></thead>\n",
       "<thead><tr><th>str18</th><th>float64</th><th>float64</th><th>float64</th><th>int64</th><th>float64</th><th>float32</th><th>float64</th><th>float64</th><th>float64</th><th>float64</th><th>float64</th><th>float64</th><th>float64</th><th>float64</th><th>float64</th><th>float64</th><th>float64</th><th>float64</th><th>float64</th><th>float64</th><th>float64</th><th>float64</th><th>float64</th><th>float64</th></tr></thead>\n",
       "<tr><td>PSZ1 G023.53-36.53</td><td>313.5192459279641</td><td>-22.811192599451434</td><td>0.2840000092983246</td><td>1</td><td>1.8666280661228891</td><td>2716.9482</td><td>8.3373</td><td>0.9582</td><td>14.0</td><td>0.00150664</td><td>0.000180711</td><td>0.000180711</td><td>5.9026e-13</td><td>0.02589</td><td>0.0272495</td><td>2.1661e-11</td><td>1.3415e+44</td><td>6.396498125489376e-13</td><td>7.672155078554338e-14</td><td>7.672155078554338e-14</td><td>1.4537495739748584e+44</td><td>1.7436716087623494e+43</td><td>1.7436716087623494e+43</td><td>0.08367467310835514</td></tr>\n",
       "<tr><td>PSZ1 G031.41+28.75</td><td>256.3524228060791</td><td>11.435045572929392</td><td>0.23</td><td>22</td><td>5.466414508179784</td><td>216357.27</td><td>-1.0</td><td>2153.555</td><td>1023.0</td><td>-1.0</td><td>-1.0</td><td>-1.0</td><td>1.7348e-15</td><td>5.274e-05</td><td>8.69947e-05</td><td>1.9941e-11</td><td>2.4833e+41</td><td>3.191675408206082e-15</td><td>3.191675408206082e-15</td><td>3.191675408206082e-15</td><td>4.568761552454556e+41</td><td>4.568761552454556e+41</td><td>4.568761552454556e+41</td><td>0.8397944478937526</td></tr>\n",
       "<tr><td>PSZ1 G031.41+28.75</td><td>256.2842552229166</td><td>11.378437505810556</td><td>0.23</td><td>33</td><td>5.074730659124593</td><td>197958.08</td><td>5.2046</td><td>0.497</td><td>3.0</td><td>1.12045e-05</td><td>2.15282e-06</td><td>2.15282e-06</td><td>4.6975e-15</td><td>0.0001765</td><td>0.000208414</td><td>2.2539e-11</td><td>6.7243e+41</td><td>6.4172921808681235e-15</td><td>1.2330112858955345e-15</td><td>1.2330112858955345e-15</td><td>9.186119810923155e+41</td><td>1.7650107056407324e+41</td><td>1.7650107056407324e+41</td><td>0.3661079682529266</td></tr>\n",
       "<tr><td>PSZ1 G055.72+17.58</td><td>276.3803066233068</td><td>27.741361425895942</td><td>0.1940000057220459</td><td>1</td><td>4.293797561529516</td><td>3424.389</td><td>14.9468</td><td>1.115</td><td>33.0</td><td>0.00307553</td><td>0.000205765</td><td>0.000205765</td><td>1.351e-12</td><td>0.05757</td><td>0.0650264</td><td>2.0776e-11</td><td>1.3366e+44</td><td>1.4517609216606323e-12</td><td>9.712849038881103e-14</td><td>9.712849038881103e-14</td><td>1.436286934042636e+44</td><td>9.609322002493325e+42</td><td>9.609322002493325e+42</td><td>0.07458247347197065</td></tr>\n",
       "<tr><td>PSZ1 G057.42-10.77</td><td>304.36687269578346</td><td>16.062365346049575</td><td>0.136</td><td>1</td><td>1.9135608557965353</td><td>2917.1406</td><td>15.3093</td><td>0.6737</td><td>37.0</td><td>0.00392015</td><td>0.000256064</td><td>0.000256064</td><td>1.8609e-12</td><td>0.06928</td><td>0.0885129</td><td>2.1024e-11</td><td>8.6147e+43</td><td>1.9595281908831966e-12</td><td>1.279962824561088e-13</td><td>1.279962824561088e-13</td><td>9.071281372454982e+43</td><td>5.925356410740181e+42</td><td>5.925356410740181e+42</td><td>0.053000263788057785</td></tr>\n",
       "<tr><td>PSZ1 G083.35+76.41</td><td>203.70014715336345</td><td>37.18210039979622</td><td>-1.0</td><td>1</td><td>0.9253717082144188</td><td>46343.074</td><td>-1.0</td><td>6.03</td><td>303.0</td><td>-1.0</td><td>-1.0</td><td>-1.0</td><td>3.726e-12</td><td>0.2165</td><td>0.157516</td><td>2.3655e-11</td><td>9.0241e+43</td><td>3.777180184516625e-12</td><td>3.777180184516625e-12</td><td>3.777180184516625e-12</td><td>9.148054670718324e+43</td><td>9.148054670718324e+43</td><td>9.148054670718324e+43</td><td>0.01373595934423665</td></tr>\n",
       "<tr><td>PSZ1 G083.35+76.41</td><td>203.6204264527387</td><td>37.209131244254884</td><td>-1.0</td><td>2</td><td>3.3910404629742787</td><td>52051.797</td><td>5.767</td><td>0.3149</td><td>347.0</td><td>0.00041452</td><td>7.18776e-05</td><td>7.18776e-05</td><td>2.0688e-13</td><td>0.01279</td><td>0.00903249</td><td>2.2904e-11</td><td>5.0106e+42</td><td>3.0052808361136133e-13</td><td>5.211144789777088e-14</td><td>5.211144789777088e-14</td><td>7.27874137540162e+42</td><td>1.2621308045077861e+42</td><td>1.2621308045077861e+42</td><td>0.4526686176109887</td></tr>\n",
       "<tr><td>PSZ1 G103.50+31.36</td><td>264.23998368261863</td><td>72.56058825187006</td><td>-1.0</td><td>1</td><td>0.982848402974421</td><td>2846.7449</td><td>-1.0</td><td>2.21</td><td>4.0</td><td>-1.0</td><td>-1.0</td><td>-1.0</td><td>1.3071e-13</td><td>0.009879</td><td>0.00613505</td><td>2.1305e-11</td><td>3.1658e+42</td><td>1.7648910526387558e-13</td><td>1.7648910526387558e-13</td><td>1.7648910526387558e-13</td><td>4.274571260380822e+42</td><td>4.274571260380822e+42</td><td>4.274571260380822e+42</td><td>0.3502341463076701</td></tr>\n",
       "<tr><td>PSZ1 G103.94+25.81</td><td>283.03587113474066</td><td>72.98968469360932</td><td>0.0989999994635582</td><td>1</td><td>1.7836576822735373</td><td>2893.2185</td><td>8.5298</td><td>0.8227</td><td>15.0</td><td>0.00124087</td><td>0.000145475</td><td>0.000145475</td><td>6.2018e-13</td><td>0.02952</td><td>0.0293218</td><td>2.1151e-11</td><td>1.4703e+43</td><td>6.994488080873298e-13</td><td>8.200078602633983e-14</td><td>8.200078602633983e-14</td><td>1.6582275831706943e+43</td><td>1.9440445627806035e+42</td><td>1.9440445627806035e+42</td><td>0.1278158084545291</td></tr>\n",
       "<tr><td>PSZ1 G117.29+13.44</td><td>350.6339159982131</td><td>75.33825680155762</td><td>-1.0</td><td>1</td><td>0.8543560974865988</td><td>2091.005</td><td>5.3675</td><td>0.13</td><td>4.0</td><td>0.000783345</td><td>0.000145943</td><td>0.000145943</td><td>3.9096e-13</td><td>0.01205</td><td>0.0180549</td><td>2.1654e-11</td><td>9.4688e+42</td><td>4.5432280733389143e-13</td><td>8.464371824768157e-14</td><td>8.464371824768157e-14</td><td>1.1003406481694168e+43</td><td>2.0500164705945553e+42</td><td>2.0500164705945553e+42</td><td>0.1620697957179544</td></tr>\n",
       "<tr><td>...</td><td>...</td><td>...</td><td>...</td><td>...</td><td>...</td><td>...</td><td>...</td><td>...</td><td>...</td><td>...</td><td>...</td><td>...</td><td>...</td><td>...</td><td>...</td><td>...</td><td>...</td><td>...</td><td>...</td><td>...</td><td>...</td><td>...</td><td>...</td><td>...</td></tr>\n",
       "<tr><td>PSZ2 G353.36-26.49</td><td>294.04381199586163</td><td>-45.31527801204454</td><td>-1.0</td><td>1</td><td>2.735522055722938</td><td>3251.5425</td><td>13.42</td><td>0.6557</td><td>25.0</td><td>0.00207865</td><td>0.000154892</td><td>0.000154892</td><td>1.0374e-12</td><td>0.04673</td><td>0.0503462</td><td>2.0605e-11</td><td>2.5126e+43</td><td>1.0728517164656905e-12</td><td>7.99442657815427e-14</td><td>7.99442657815427e-14</td><td>2.5984646450662177e+43</td><td>1.9362633719173338e+42</td><td>1.9362633719173338e+42</td><td>0.03417362296673471</td></tr>\n",
       "<tr><td>PSZ2 G355.07+55.32</td><td>219.59496576670026</td><td>3.66460150733347</td><td>0.2193918228149414</td><td>1</td><td>1.5023772819105083</td><td>4587.2056</td><td>11.5557</td><td>1.25</td><td>26.0</td><td>0.001384</td><td>0.000119768</td><td>0.000119768</td><td>5.882e-13</td><td>0.02815</td><td>0.0276601</td><td>2.1265e-11</td><td>7.5967e+43</td><td>6.439980209025777e-13</td><td>5.573002526550572e-14</td><td>5.573002526550572e-14</td><td>8.317340641602537e+43</td><td>7.197624667365986e+42</td><td>7.197624667365986e+42</td><td>0.09486232727401865</td></tr>\n",
       "<tr><td>PSZ2 G356.04-49.50</td><td>326.743987548914</td><td>-43.896792563185215</td><td>0.06199999898672104</td><td>1</td><td>2.129502983309972</td><td>922.8718</td><td>11.0123</td><td>0.845</td><td>18.0</td><td>0.00492104</td><td>0.000446868</td><td>0.000446868</td><td>2.5933e-12</td><td>0.1161</td><td>0.118045</td><td>2.1969e-11</td><td>2.3268e+43</td><td>2.88729192033424e-12</td><td>2.62188148410889e-13</td><td>2.62188148410889e-13</td><td>2.5905798944332356e+43</td><td>2.3524443131240372e+42</td><td>2.3524443131240372e+42</td><td>0.11336595084804699</td></tr>\n",
       "<tr><td>PSZ2 G356.21-43.11</td><td>317.8137540678102</td><td>-44.413085951679676</td><td>-1.0</td><td>1</td><td>1.5466256503157285</td><td>2913.1035</td><td>6.5352</td><td>1.784</td><td>11.0</td><td>0.000726358</td><td>0.000111145</td><td>0.000111145</td><td>3.6252e-13</td><td>0.02015</td><td>0.0169773</td><td>2.1353e-11</td><td>8.78e+42</td><td>4.5368456507280747e-13</td><td>6.942137483860188e-14</td><td>6.942137483860188e-14</td><td>1.098794682042163e+43</td><td>1.6813408117701765e+42</td><td>1.6813408117701765e+42</td><td>0.25147458091362535</td></tr>\n",
       "<tr><td>PSZ2 G356.88-11.33</td><td>276.4455314496356</td><td>-37.1047803735986</td><td>-1.0</td><td>1</td><td>3.1439163723634262</td><td>2052.8188</td><td>-1.0</td><td>6.3856</td><td>510.0</td><td>-1.0</td><td>-1.0</td><td>-1.0</td><td>3.4362e-11</td><td>1.099</td><td>1.62262</td><td>2.1177e-11</td><td>8.3222e+44</td><td>3.4584129027268594e-11</td><td>3.4584129027268594e-11</td><td>3.4584129027268594e-11</td><td>8.375997863649808e+44</td><td>8.375997863649808e+44</td><td>8.375997863649808e+44</td><td>0.006464380049723273</td></tr>\n",
       "<tr><td>PSZ2 G358.34-47.31</td><td>323.50012171157005</td><td>-42.64647013961583</td><td>0.20000000298023224</td><td>3</td><td>1.3564458411617764</td><td>23221.947</td><td>22.2454</td><td>0.957</td><td>82.0</td><td>0.00190887</td><td>8.58096e-05</td><td>8.58096e-05</td><td>8.3192e-13</td><td>0.039</td><td>0.0395556</td><td>2.1032e-11</td><td>8.7943e+43</td><td>8.985793372040447e-13</td><td>4.03939155069461e-14</td><td>4.03939155069461e-14</td><td>9.4989617573487e+43</td><td>4.270076583598616e+42</td><td>4.270076583598616e+42</td><td>0.08012710020680444</td></tr>\n",
       "<tr><td>PSZ2 G358.34-47.31</td><td>323.420141523661</td><td>-42.72648292143563</td><td>0.20000000298023224</td><td>4</td><td>4.6191214325996715</td><td>21486.553</td><td>4.4125</td><td>0.562</td><td>5.0</td><td>0.000112248</td><td>2.54385e-05</td><td>2.54385e-05</td><td>4.8919e-14</td><td>0.001935</td><td>0.00218779</td><td>2.236e-11</td><td>5.1713e+42</td><td>7.320833682596904e-14</td><td>1.6591033037091204e-14</td><td>1.6591033037091204e-14</td><td>7.738961798649477e+42</td><td>1.7538626943459547e+42</td><td>1.7538626943459547e+42</td><td>0.4965215320421319</td></tr>\n",
       "<tr><td>PSZ2 G358.98-67.26</td><td>348.9368615332558</td><td>-37.79502793480231</td><td>0.1785999983549118</td><td>1</td><td>1.073132774727284</td><td>1117.1287</td><td>9.6866</td><td>1.549</td><td>17.0</td><td>0.00379427</td><td>0.000391704</td><td>0.000391704</td><td>1.7003e-12</td><td>0.08752</td><td>0.0814166</td><td>2.0884e-11</td><td>1.4089e+44</td><td>1.8067406031677295e-12</td><td>1.8652007401244832e-13</td><td>1.8652007401244832e-13</td><td>1.4970986507104714e+44</td><td>1.545539800483082e+43</td><td>1.545539800483082e+43</td><td>0.06260107226238285</td></tr>\n",
       "<tr><td>PSZ2 G359.07-32.12</td><td>303.14629276877025</td><td>-41.481313036193924</td><td>0.14959999918937683</td><td>1</td><td>5.735847738573033</td><td>16276.012</td><td>5.4882</td><td>0.95</td><td>3.0</td><td>7.67957e-05</td><td>1.39929e-05</td><td>1.39929e-05</td><td>3.5784e-14</td><td>0.001634</td><td>0.00172054</td><td>2.0798e-11</td><td>2.0286e+42</td><td>3.911258404528825e-14</td><td>7.126681276260441e-15</td><td>7.126681276260441e-15</td><td>2.217297898342045e+42</td><td>4.0401256530913064e+41</td><td>4.0401256530913064e+41</td><td>0.09301878060832366</td></tr>\n",
       "<tr><td>PSZ2 G359.07-32.12</td><td>302.992103819915</td><td>-41.494742361845546</td><td>0.14959999918937683</td><td>4</td><td>1.2933572215607112</td><td>16184.823</td><td>37.3452</td><td>0.9061</td><td>212.0</td><td>0.00408134</td><td>0.000109287</td><td>0.000109287</td><td>1.9017e-12</td><td>0.08294</td><td>0.090429</td><td>2.103e-11</td><td>1.0781e+44</td><td>2.1063722749380517e-12</td><td>5.640282525130345e-14</td><td>5.640282525130345e-14</td><td>1.1941315399961686e+44</td><td>3.197554078110652e+42</td><td>3.197554078110652e+42</td><td>0.10762595306202441</td></tr>\n",
       "</table>"
      ],
      "text/plain": [
       "<Table length=482>\n",
       "       NAME             RA_detc       ...         CORR        \n",
       "      str18             float64       ...       float64       \n",
       "------------------ ------------------ ... --------------------\n",
       "PSZ1 G023.53-36.53  313.5192459279641 ...  0.08367467310835514\n",
       "PSZ1 G031.41+28.75  256.3524228060791 ...   0.8397944478937526\n",
       "PSZ1 G031.41+28.75  256.2842552229166 ...   0.3661079682529266\n",
       "PSZ1 G055.72+17.58  276.3803066233068 ...  0.07458247347197065\n",
       "PSZ1 G057.42-10.77 304.36687269578346 ... 0.053000263788057785\n",
       "PSZ1 G083.35+76.41 203.70014715336345 ...  0.01373595934423665\n",
       "PSZ1 G083.35+76.41  203.6204264527387 ...   0.4526686176109887\n",
       "PSZ1 G103.50+31.36 264.23998368261863 ...   0.3502341463076701\n",
       "PSZ1 G103.94+25.81 283.03587113474066 ...   0.1278158084545291\n",
       "PSZ1 G117.29+13.44  350.6339159982131 ...   0.1620697957179544\n",
       "               ...                ... ...                  ...\n",
       "PSZ2 G353.36-26.49 294.04381199586163 ...  0.03417362296673471\n",
       "PSZ2 G355.07+55.32 219.59496576670026 ...  0.09486232727401865\n",
       "PSZ2 G356.04-49.50   326.743987548914 ...  0.11336595084804699\n",
       "PSZ2 G356.21-43.11  317.8137540678102 ...  0.25147458091362535\n",
       "PSZ2 G356.88-11.33  276.4455314496356 ... 0.006464380049723273\n",
       "PSZ2 G358.34-47.31 323.50012171157005 ...  0.08012710020680444\n",
       "PSZ2 G358.34-47.31   323.420141523661 ...   0.4965215320421319\n",
       "PSZ2 G358.98-67.26  348.9368615332558 ...  0.06260107226238285\n",
       "PSZ2 G359.07-32.12 303.14629276877025 ...  0.09301878060832366\n",
       "PSZ2 G359.07-32.12   302.992103819915 ...  0.10762595306202441"
      ]
     },
     "execution_count": 21,
     "metadata": {},
     "output_type": "execute_result"
    }
   ],
   "source": [
    "t1.filled(-1.0)"
   ]
  },
  {
   "cell_type": "code",
   "execution_count": 22,
   "metadata": {
    "ExecuteTime": {
     "end_time": "2020-06-22T16:07:06.389993Z",
     "start_time": "2020-06-22T16:07:06.387230Z"
    }
   },
   "outputs": [],
   "source": [
    "# t1.filled(-1.0).write('results_table_full_0.5_2.0.fits', overwrite=True)"
   ]
  }
 ],
 "metadata": {
  "kernelspec": {
   "display_name": "Python 3",
   "language": "python",
   "name": "python3"
  },
  "language_info": {
   "codemirror_mode": {
    "name": "ipython",
    "version": 3
   },
   "file_extension": ".py",
   "mimetype": "text/x-python",
   "name": "python",
   "nbconvert_exporter": "python",
   "pygments_lexer": "ipython3",
   "version": "3.7.1"
  },
  "toc": {
   "base_numbering": 1,
   "nav_menu": {},
   "number_sections": true,
   "sideBar": true,
   "skip_h1_title": false,
   "title_cell": "Table of Contents",
   "title_sidebar": "Contents",
   "toc_cell": false,
   "toc_position": {},
   "toc_section_display": true,
   "toc_window_display": false
  },
  "varInspector": {
   "cols": {
    "lenName": 16,
    "lenType": 16,
    "lenVar": 40
   },
   "kernels_config": {
    "python": {
     "delete_cmd_postfix": "",
     "delete_cmd_prefix": "del ",
     "library": "var_list.py",
     "varRefreshCmd": "print(var_dic_list())"
    },
    "r": {
     "delete_cmd_postfix": ") ",
     "delete_cmd_prefix": "rm(",
     "library": "var_list.r",
     "varRefreshCmd": "cat(var_dic_list()) "
    }
   },
   "types_to_exclude": [
    "module",
    "function",
    "builtin_function_or_method",
    "instance",
    "_Feature"
   ],
   "window_display": false
  }
 },
 "nbformat": 4,
 "nbformat_minor": 2
}
