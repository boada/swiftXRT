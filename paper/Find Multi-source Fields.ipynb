{
 "cells": [
  {
   "cell_type": "code",
   "execution_count": null,
   "metadata": {
    "ExecuteTime": {
     "end_time": "2020-07-02T15:39:58.194963Z",
     "start_time": "2020-07-02T15:39:58.190298Z"
    }
   },
   "outputs": [],
   "source": [
    "%matplotlib inline\n",
    "from astropy.table import Table\n",
    "from matplotlib import pyplot as plt\n",
    "from skimage import io\n",
    "import numpy as np\n",
    "from IPython import display"
   ]
  },
  {
   "cell_type": "code",
   "execution_count": null,
   "metadata": {
    "ExecuteTime": {
     "end_time": "2020-07-02T15:39:58.349956Z",
     "start_time": "2020-07-02T15:39:58.318566Z"
    }
   },
   "outputs": [],
   "source": [
    "results = Table.read('./results_table_full_0.5_2.0.fits')"
   ]
  },
  {
   "cell_type": "code",
   "execution_count": null,
   "metadata": {
    "ExecuteTime": {
     "end_time": "2020-07-02T15:39:58.726137Z",
     "start_time": "2020-07-02T15:39:58.539926Z"
    }
   },
   "outputs": [],
   "source": [
    "results_df = results.to_pandas()"
   ]
  },
  {
   "cell_type": "code",
   "execution_count": null,
   "metadata": {
    "ExecuteTime": {
     "end_time": "2020-07-02T15:39:59.253988Z",
     "start_time": "2020-07-02T15:39:59.249354Z"
    }
   },
   "outputs": [],
   "source": [
    "dup_mask = results_df[['NAME', 'RA_detc']].duplicated('NAME', keep=False)"
   ]
  },
  {
   "cell_type": "code",
   "execution_count": null,
   "metadata": {
    "ExecuteTime": {
     "end_time": "2020-07-02T15:39:59.820043Z",
     "start_time": "2020-07-02T15:39:59.814000Z"
    }
   },
   "outputs": [],
   "source": [
    "dup_cat = results_df[dup_mask]"
   ]
  },
  {
   "cell_type": "code",
   "execution_count": null,
   "metadata": {
    "ExecuteTime": {
     "end_time": "2020-07-02T15:40:00.731238Z",
     "start_time": "2020-07-02T15:40:00.696535Z"
    }
   },
   "outputs": [],
   "source": [
    "dup_cat"
   ]
  },
  {
   "cell_type": "code",
   "execution_count": null,
   "metadata": {},
   "outputs": [],
   "source": [
    "dup_cat = Table.from_pandas(dup_cat)\n",
    "dup_cat.filled(-1.0).write('results_table_dups_0.5_2.0.fits', overwrite=True)"
   ]
  },
  {
   "cell_type": "code",
   "execution_count": null,
   "metadata": {
    "ExecuteTime": {
     "end_time": "2020-07-02T15:40:03.417351Z",
     "start_time": "2020-07-02T15:40:03.410424Z"
    }
   },
   "outputs": [],
   "source": [
    "dup_mask.values"
   ]
  },
  {
   "cell_type": "markdown",
   "metadata": {},
   "source": [
    "# Now we are gonna visually inspect the duplicate fields\n",
    "\n",
    "This is gonna let us identify which is the \"primary\" source"
   ]
  },
  {
   "cell_type": "code",
   "execution_count": null,
   "metadata": {
    "ExecuteTime": {
     "end_time": "2020-07-02T15:40:25.052381Z",
     "start_time": "2020-07-02T15:40:04.945651Z"
    },
    "scrolled": false
   },
   "outputs": [],
   "source": [
    "# make a catalog mask\n",
    "\n",
    "fig = plt.figure(1, figsize=(10, 10))\n",
    "ax = fig.add_subplot()\n",
    "\n",
    "plt.ion()\n",
    "\n",
    "i = 0\n",
    "name_old= ''\n",
    "for name, index, dup in zip(results['NAME'], results['INDEX'], dup_mask):\n",
    "    if not dup:\n",
    "        i += 1\n",
    "        continue\n",
    "\n",
    "    try:\n",
    "        name = name.replace(' ', '_')\n",
    "\n",
    "        if name == name_old:\n",
    "            pass\n",
    "        else:\n",
    "            display.clear_output(wait=True)\n",
    "            jpgfile = f'../data_full_new/{name}/{name}_XRT_vtp_zoom.png'\n",
    "            jpg_array = io.imread(jpgfile)\n",
    "            name_old = name\n",
    "            \n",
    "            ax.imshow(jpg_array, origin='upper', interpolation='bicubic')\n",
    "            ax.set_title(f'{name}')\n",
    "\n",
    "            ax.spines['right'].set_visible(False)\n",
    "            ax.spines['left'].set_visible(False)\n",
    "            ax.spines['top'].set_visible(False)\n",
    "            ax.spines['bottom'].set_visible(False)\n",
    "            ax.yaxis.set_ticks([])\n",
    "            ax.xaxis.set_ticks([])\n",
    "\n",
    "            plt.show()\n",
    "            display.display(fig)\n",
    "            \n",
    "    except NameError:\n",
    "        display.clear_output(wait=True)\n",
    "        jpgfile = f'../data_full_new/{name}/{name}_XRT_vtp_zoom.png'\n",
    "        jpg_array = io.imread(jpgfile)\n",
    "        name_old = name\n",
    "        \n",
    "        ax.imshow(jpg_array, origin='upper', interpolation='bicubic')\n",
    "        ax.set_title(f'{name}')\n",
    "\n",
    "        ax.spines['right'].set_visible(False)\n",
    "        ax.spines['left'].set_visible(False)\n",
    "        ax.spines['top'].set_visible(False)\n",
    "        ax.spines['bottom'].set_visible(False)\n",
    "        ax.yaxis.set_ticks([])\n",
    "        ax.xaxis.set_ticks([])\n",
    "\n",
    "        plt.show()\n",
    "        display.display(fig)\n",
    "\n",
    "    x = input(f\"Is {index} the main source? [n]y.\")\n",
    "    \n",
    "    if x == 'y':\n",
    "        print('updated')\n",
    "        dup_mask[i] = False\n",
    "    \n",
    "    i += 1"
   ]
  },
  {
   "cell_type": "markdown",
   "metadata": {},
   "source": [
    "# Save the results!\n",
    "\n",
    "So we don't have to look at all of them again. \n",
    "\n",
    "Uncomment the next cell if you are gonna redo the inspections!"
   ]
  },
  {
   "cell_type": "code",
   "execution_count": null,
   "metadata": {
    "ExecuteTime": {
     "end_time": "2020-07-02T15:26:30.968012Z",
     "start_time": "2020-07-02T15:26:30.964375Z"
    }
   },
   "outputs": [],
   "source": [
    "# np.save('vis_inspects_mask', dup_mask)"
   ]
  },
  {
   "cell_type": "code",
   "execution_count": null,
   "metadata": {
    "ExecuteTime": {
     "end_time": "2020-07-02T15:22:25.401544Z",
     "start_time": "2020-07-02T15:22:25.397305Z"
    }
   },
   "outputs": [],
   "source": [
    "inspect_cat = results[~dup_mask.values]"
   ]
  },
  {
   "cell_type": "code",
   "execution_count": null,
   "metadata": {
    "ExecuteTime": {
     "end_time": "2020-07-02T15:24:12.147709Z",
     "start_time": "2020-07-02T15:24:12.104047Z"
    }
   },
   "outputs": [],
   "source": [
    "inspect_cat.filled(-1.0).write('results_table_inspected_0.5_2.0.fits', overwrite=True)"
   ]
  }
 ],
 "metadata": {
  "kernelspec": {
   "display_name": "Python 3",
   "language": "python",
   "name": "python3"
  },
  "language_info": {
   "codemirror_mode": {
    "name": "ipython",
    "version": 3
   },
   "file_extension": ".py",
   "mimetype": "text/x-python",
   "name": "python",
   "nbconvert_exporter": "python",
   "pygments_lexer": "ipython3",
   "version": "3.7.1"
  },
  "toc": {
   "base_numbering": 1,
   "nav_menu": {},
   "number_sections": true,
   "sideBar": true,
   "skip_h1_title": false,
   "title_cell": "Table of Contents",
   "title_sidebar": "Contents",
   "toc_cell": false,
   "toc_position": {},
   "toc_section_display": true,
   "toc_window_display": false
  },
  "varInspector": {
   "cols": {
    "lenName": 16,
    "lenType": 16,
    "lenVar": 40
   },
   "kernels_config": {
    "python": {
     "delete_cmd_postfix": "",
     "delete_cmd_prefix": "del ",
     "library": "var_list.py",
     "varRefreshCmd": "print(var_dic_list())"
    },
    "r": {
     "delete_cmd_postfix": ") ",
     "delete_cmd_prefix": "rm(",
     "library": "var_list.r",
     "varRefreshCmd": "cat(var_dic_list()) "
    }
   },
   "types_to_exclude": [
    "module",
    "function",
    "builtin_function_or_method",
    "instance",
    "_Feature"
   ],
   "window_display": false
  }
 },
 "nbformat": 4,
 "nbformat_minor": 4
}
