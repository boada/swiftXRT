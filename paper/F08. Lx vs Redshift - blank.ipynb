{
 "cells": [
  {
   "cell_type": "code",
   "execution_count": null,
   "metadata": {},
   "outputs": [],
   "source": [
    "%matplotlib notebook\n",
    "from matplotlib import pyplot as plt\n",
    "from matplotlib.lines import Line2D\n",
    "from scipy.interpolate import interp1d\n",
    "import numpy as np\n",
    "from astropy.cosmology import LambdaCDM\n",
    "from astropy.table import Table\n",
    "from math import atan2, degrees"
   ]
  },
  {
   "cell_type": "code",
   "execution_count": null,
   "metadata": {},
   "outputs": [],
   "source": [
    "#Label line with line2D label data\n",
    "def labelLine(line,x,label=None,align=True,**kwargs):\n",
    "\n",
    "    ax = line.axes\n",
    "    xdata = line.get_xdata()\n",
    "    ydata = line.get_ydata()\n",
    "\n",
    "    if (x < xdata[0]) or (x > xdata[-1]):\n",
    "        print('x label location is outside data range!')\n",
    "        return\n",
    "\n",
    "    #Find corresponding y co-ordinate and angle of the line\n",
    "    ip = 1\n",
    "    for i in range(len(xdata)):\n",
    "        if x < xdata[i]:\n",
    "            ip = i\n",
    "            break\n",
    "\n",
    "    y = ydata[ip-1] + (ydata[ip]-ydata[ip-1])*(x-xdata[ip-1])/(xdata[ip]-xdata[ip-1])\n",
    "\n",
    "    if not label:\n",
    "        label = line.get_label()\n",
    "\n",
    "    if align:\n",
    "        #Compute the slope\n",
    "        dx = xdata[ip] - xdata[ip-1]\n",
    "        dy = ydata[ip] - ydata[ip-1]\n",
    "        ang = degrees(atan2(dy,dx))\n",
    "\n",
    "        #Transform to screen co-ordinates\n",
    "        pt = np.array([x,y]).reshape((1,2))\n",
    "        trans_angle = ax.transData.transform_angles(np.array((ang,)),pt)[0]\n",
    "\n",
    "    else:\n",
    "        trans_angle = 0\n",
    "\n",
    "    #Set a bunch of keyword arguments\n",
    "    if 'color' not in kwargs:\n",
    "        kwargs['color'] = line.get_color()\n",
    "\n",
    "    if ('horizontalalignment' not in kwargs) and ('ha' not in kwargs):\n",
    "        kwargs['ha'] = 'center'\n",
    "\n",
    "    if ('verticalalignment' not in kwargs) and ('va' not in kwargs):\n",
    "        kwargs['va'] = 'center'\n",
    "\n",
    "    if 'backgroundcolor' not in kwargs:\n",
    "        kwargs['backgroundcolor'] = ax.get_facecolor()\n",
    "\n",
    "    if 'clip_on' not in kwargs:\n",
    "        kwargs['clip_on'] = True\n",
    "\n",
    "    if 'zorder' not in kwargs:\n",
    "        kwargs['zorder'] = 2.5\n",
    "\n",
    "    ax.text(x,y,label,rotation=trans_angle,**kwargs)\n",
    "\n",
    "def labelLines(lines,align=True,xvals=None,**kwargs):\n",
    "\n",
    "    ax = lines[0].axes\n",
    "    labLines = []\n",
    "    labels = []\n",
    "\n",
    "    #Take only the lines which have labels other than the default ones\n",
    "    for line in lines:\n",
    "        label = line.get_label()\n",
    "        if \"_line\" not in label:\n",
    "            labLines.append(line)\n",
    "            labels.append(label)\n",
    "\n",
    "    if xvals is None:\n",
    "        xmin,xmax = ax.get_xlim()\n",
    "        xvals = np.linspace(xmin,xmax,len(labLines)+2)[1:-1]\n",
    "\n",
    "    for line,x,label in zip(labLines,xvals,labels):\n",
    "        labelLine(line,x,label,align,**kwargs)"
   ]
  },
  {
   "cell_type": "code",
   "execution_count": null,
   "metadata": {},
   "outputs": [],
   "source": [
    "def Lx_calc(mass, z, h):\n",
    "    '''Compute the Lx for a cluster of a specific mass and at a specific redshift.\n",
    "    \n",
    "    This is using the Vikhlininet al. (2009) relationship (see Eq. 22).\n",
    "    \n",
    "    Little h comes from the cosmology\n",
    "    \n",
    "    '''\n",
    "    lnLx = 47.392 + 1.61 * np.log(mass * 1e14) + 1.850 * np.log(cosmo.efunc(z)) - 0.39 * np.log(h / 0.72)\n",
    "    Lx = np.exp(lnLx)\n",
    "    return Lx"
   ]
  },
  {
   "cell_type": "code",
   "execution_count": null,
   "metadata": {},
   "outputs": [],
   "source": [
    "# read in the catalog\n",
    "xray_data = Table.read('./external_data/blank_table_nh_fluxc_lumc_uplims.txt', format='ascii')\n",
    "\n",
    "# only use non-duplicates\n",
    "# xray_data = xray_data[~xray_data['DUPLICATE']]\n",
    "\n",
    "# read psz data\n",
    "psz_data = Table.read('./external_data/psz_xxvii_fig26.csv')\n",
    "\n",
    "zarr = psz_data['z']\n",
    "y = psz_data['m500']"
   ]
  },
  {
   "cell_type": "code",
   "execution_count": null,
   "metadata": {},
   "outputs": [],
   "source": [
    "# convert PSZ masses to Lx\n",
    "\n",
    "# Define the cosmology\n",
    "cosmo = LambdaCDM(H0=70, Om0=0.3, Ode0=0.7, Tcmb0=2.725)\n",
    "h = cosmo.H0.value/100\n",
    "\n",
    "Lx = Lx_calc(y, zarr, h)\n",
    "\n",
    "fig, ax = plt.subplots(figsize=(7, 7 * (np.sqrt(5.) - 1.0) / 2.0))\n",
    "ax.set_xlim(0.02,0.8)\n",
    "ax.set_ylim(0.001, 100)\n",
    "ax.tick_params(zorder=10)\n",
    "ax.semilogy()\n",
    "\n",
    "# planck limits\n",
    "ax.plot(zarr, Lx/1e44, color='#A60628', label='PSZ 20% Completeness Limit', zorder=1)\n",
    "\n",
    "# add planck errors\n",
    "ax.fill_between(zarr, 0.673 * Lx / 1e44, 1.486 * Lx / 1e44, color='#A60628', alpha=0.3, zorder=1)\n",
    "\n",
    "\n",
    "maxsize = xray_data['XRT_EXP'].max()/2\n",
    "\n",
    "# our cluster points\n",
    "line = ax.scatter(xray_data['REDSHIFT'], xray_data['lumUpLim']/1e44, c='#348ABD', marker='v', \n",
    "                  s=(xray_data['XRT_EXP']/maxsize * 500 + 5), label='This Work', zorder=2)\n",
    "\n",
    "# for fixed mass\n",
    "for i in range(1,20,2):\n",
    "    Lx = Lx_calc(i, zarr, h)\n",
    "    ax.plot(zarr, Lx/1e44, lw=1, c='0.6', zorder=-i)\n",
    "\n",
    "ax.set_xlabel('Redshift')\n",
    "ax.set_ylabel('L$_x$ [$10^{44}~erg~s^{-1}$]')\n",
    "\n",
    "# label the fixed mass lines\n",
    "lines = ax.get_lines()\n",
    "\n",
    "for i, j in enumerate(range(1,20,2)):\n",
    "    if not i % 2:\n",
    "        labelLine(lines[1+i], 0.4 + 0.05 * i/1.5, f'{j}e14', zorder=-i)\n",
    "\n",
    "# Custom Legend\n",
    "legend_elements = [Line2D([0], [0], linewidth=0, marker='v', color='#348ABD', label='This Work'),\n",
    "                   Line2D([0], [0], linewidth=2, color='#A60628', label='PSZ 20% Completeness Limit'), \n",
    "                   Line2D([0], [0], lw=1, color='0.6', label='$L_x$ for Fixed Mass') \n",
    "                  ]\n",
    "ax.legend(handles=legend_elements, loc='lower right')"
   ]
  },
  {
   "cell_type": "code",
   "execution_count": null,
   "metadata": {},
   "outputs": [],
   "source": [
    "plt.tight_layout()"
   ]
  },
  {
   "cell_type": "code",
   "execution_count": null,
   "metadata": {},
   "outputs": [],
   "source": [
    "plt.savefig('./figures/Lx_z_upper.pdf', bbox='tight')"
   ]
  },
  {
   "cell_type": "code",
   "execution_count": null,
   "metadata": {},
   "outputs": [],
   "source": [
    "plt.savefig('./figures/Lx_z_upper.png', bbox='tight')"
   ]
  },
  {
   "cell_type": "code",
   "execution_count": null,
   "metadata": {},
   "outputs": [],
   "source": []
  }
 ],
 "metadata": {
  "kernelspec": {
   "display_name": "Python 3",
   "language": "python",
   "name": "python3"
  },
  "language_info": {
   "codemirror_mode": {
    "name": "ipython",
    "version": 3
   },
   "file_extension": ".py",
   "mimetype": "text/x-python",
   "name": "python",
   "nbconvert_exporter": "python",
   "pygments_lexer": "ipython3",
   "version": "3.7.1"
  },
  "toc": {
   "base_numbering": 1,
   "nav_menu": {},
   "number_sections": true,
   "sideBar": true,
   "skip_h1_title": false,
   "title_cell": "Table of Contents",
   "title_sidebar": "Contents",
   "toc_cell": false,
   "toc_position": {},
   "toc_section_display": true,
   "toc_window_display": false
  },
  "varInspector": {
   "cols": {
    "lenName": 16,
    "lenType": 16,
    "lenVar": 40
   },
   "kernels_config": {
    "python": {
     "delete_cmd_postfix": "",
     "delete_cmd_prefix": "del ",
     "library": "var_list.py",
     "varRefreshCmd": "print(var_dic_list())"
    },
    "r": {
     "delete_cmd_postfix": ") ",
     "delete_cmd_prefix": "rm(",
     "library": "var_list.r",
     "varRefreshCmd": "cat(var_dic_list()) "
    }
   },
   "types_to_exclude": [
    "module",
    "function",
    "builtin_function_or_method",
    "instance",
    "_Feature"
   ],
   "window_display": false
  }
 },
 "nbformat": 4,
 "nbformat_minor": 4
}
