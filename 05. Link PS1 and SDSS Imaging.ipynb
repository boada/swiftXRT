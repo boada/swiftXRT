{
 "cells": [
  {
   "cell_type": "code",
   "execution_count": 1,
   "metadata": {},
   "outputs": [],
   "source": [
    "import os\n",
    "import sys\n",
    "sys.path.append(f'{os.environ[\"HOME\"]}/Projects/planckClusters/catalogs')\n",
    "from load_catalogs import load_PSZcatalog\n",
    "from tqdm import tqdm_notebook"
   ]
  },
  {
   "cell_type": "code",
   "execution_count": 4,
   "metadata": {},
   "outputs": [
    {
     "data": {
      "application/vnd.jupyter.widget-view+json": {
       "model_id": "3bf139dd5df04fce8a4edad17b25c9e1",
       "version_major": 2,
       "version_minor": 0
      },
      "text/plain": [
       "HBox(children=(IntProgress(value=0, max=1943), HTML(value='')))"
      ]
     },
     "metadata": {},
     "output_type": "display_data"
    },
    {
     "name": "stdout",
     "output_type": "stream",
     "text": [
      "\n"
     ]
    }
   ],
   "source": [
    "data = load_PSZcatalog()\n",
    "\n",
    "PS1_dir = f'{os.environ[\"HOME\"]}/Projects/planckClusters/data/extern/PS1'\n",
    "SDSS_dir = f'{os.environ[\"HOME\"]}/Projects/planckClusters/data/extern/SDSS'\n",
    "DECaLS_dir = f'{os.environ[\"HOME\"]}/Projects/planckClusters/data/extern/DECaLS'\n",
    "outpath = './data_full'\n",
    "\n",
    "for name in tqdm_notebook(data['NAME'], total=len(data['NAME'])):\n",
    "    name = name.replace(' ', '_')\n",
    "\n",
    "    if os.path.isdir(f'{PS1_dir}/{name}'):\n",
    "        relpath = os.path.relpath(f'{PS1_dir}/{name}', f'{outpath}/{name}')\n",
    "\n",
    "        target_files = ['_PS1stack_g.fits', '_PS1stack_r.fits', '_PS1stack_i.fits',\n",
    "                        '_PS1stack_z.fits', '_PS1stack_y.fits', '_PS1stack_irg.tiff']\n",
    "\n",
    "        for file in target_files:\n",
    "            try:\n",
    "                os.symlink(f'{PS1_dir}/{name}/{name}{file}',\n",
    "                           f'{outpath}/{name}/{name}{file}')\n",
    "            except FileExistsError:\n",
    "                pass\n",
    "\n",
    "    if os.path.isdir(f'{SDSS_dir}/{name}'):\n",
    "        relpath = os.path.relpath(f'{SDSS_dir}/{name}', f'{outpath}/{name}')\n",
    "\n",
    "        target_files = ['_SDSSstack_g.fits', '_SDSSstack_r.fits', '_SDSSstack_i.fits',\n",
    "                        '_SDSSstack_z.fits', '_SDSSstack_irg.tiff']\n",
    "\n",
    "        for file in target_files:\n",
    "            try:\n",
    "                os.symlink(f'{SDSS_dir}/{name}/{name}{file}',\n",
    "                           f'{outpath}/{name}/{name}{file}')\n",
    "            except FileExistsError:\n",
    "                pass\n",
    "            \n",
    "            \n",
    "    if os.path.isdir(f'{DECaLS_dir}/{name}'):\n",
    "        relpath = os.path.relpath(f'{DECaLS_dir}/{name}', f'{outpath}/{name}')\n",
    "\n",
    "        target_files = ['_DECaLSstack_r.fits', '_DECaLSstack.jpg']\n",
    "\n",
    "        for file in target_files:\n",
    "            try:\n",
    "                os.symlink(f'{DECaLS_dir}/{name}/{name}{file}',\n",
    "                           f'{outpath}/{name}/{name}{file}')\n",
    "            except FileExistsError:\n",
    "                pass"
   ]
  },
  {
   "cell_type": "code",
   "execution_count": null,
   "metadata": {},
   "outputs": [],
   "source": []
  }
 ],
 "metadata": {
  "kernelspec": {
   "display_name": "Python 3",
   "language": "python",
   "name": "python3"
  },
  "language_info": {
   "codemirror_mode": {
    "name": "ipython",
    "version": 3
   },
   "file_extension": ".py",
   "mimetype": "text/x-python",
   "name": "python",
   "nbconvert_exporter": "python",
   "pygments_lexer": "ipython3",
   "version": "3.6.8"
  }
 },
 "nbformat": 4,
 "nbformat_minor": 2
}
