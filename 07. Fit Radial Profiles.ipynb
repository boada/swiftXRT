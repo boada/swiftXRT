{
 "cells": [
  {
   "cell_type": "code",
   "execution_count": 1,
   "metadata": {},
   "outputs": [],
   "source": [
    "%matplotlib inline\n",
    "import matplotlib.pyplot as plt\n",
    "from astropy.table import Table\n",
    "import numpy as np\n",
    "import scipy.optimize as op\n",
    "import os\n",
    "import sys\n",
    "sys.path.append(f'{os.environ[\"HOME\"]}/Projects/planckClusters/catalogs')\n",
    "from load_catalogs import load_PSZcatalog\n",
    "from tqdm import tqdm_notebook\n",
    "                \n",
    "import warnings\n",
    "from astropy.utils.exceptions import AstropyWarning\n",
    "warnings.simplefilter('ignore', category=AstropyWarning)"
   ]
  },
  {
   "cell_type": "code",
   "execution_count": 2,
   "metadata": {},
   "outputs": [],
   "source": [
    "from concurrent.futures import ThreadPoolExecutor, as_completed\n",
    "\n",
    "def parallel_process(array, function, n_jobs=None, use_kwargs=False, front_num=0):\n",
    "    \"\"\"\n",
    "        A parallel version of the map function with a progress bar. \n",
    "\n",
    "        Args:\n",
    "            array (array-like): An array to iterate over.\n",
    "            function (function): A python function to apply to the elements of array\n",
    "            n_jobs (int, default=16): The number of cores to use\n",
    "            use_kwargs (boolean, default=False): Whether to consider the elements of array as dictionaries of \n",
    "                keyword arguments to function \n",
    "            front_num (int, default=3): The number of iterations to run serially before kicking off the \n",
    "                parallel job. This can be useful for catching bugs\n",
    "        Returns:\n",
    "            [function(array[0]), function(array[1]), ...]\n",
    "    \"\"\"\n",
    "    #We run the first few iterations serially to catch bugs\n",
    "    if front_num > 0:\n",
    "        front = [function(**a) if use_kwargs else function(a) for a in array[:front_num]]\n",
    "    #If we set n_jobs to 1, just run a list comprehension. This is useful for benchmarking and debugging.\n",
    "    if n_jobs==1:\n",
    "        [function(**a) if use_kwargs else function(a) for a in tqdm_notebook(array[front_num:])]\n",
    "        return \n",
    "    #Assemble the workers\n",
    "    with ThreadPoolExecutor(max_workers=n_jobs) as pool:\n",
    "        #Pass the elements of array into function\n",
    "        if use_kwargs:\n",
    "            futures = [pool.submit(function, **a) for a in array[front_num:]]\n",
    "        else:\n",
    "            futures = [pool.submit(function, a) for a in array[front_num:]]\n",
    "        kwargs = {\n",
    "            'total': len(futures),\n",
    "            'unit': 'it',\n",
    "            'unit_scale': False,\n",
    "            'leave': True\n",
    "        }\n",
    "        #Print out the progress as tasks complete\n",
    "        for f in tqdm_notebook(as_completed(futures), **kwargs):\n",
    "            pass"
   ]
  },
  {
   "cell_type": "code",
   "execution_count": 3,
   "metadata": {},
   "outputs": [],
   "source": [
    "def beta_model(So, r, rc, beta):\n",
    "    ''' Beta model with 3 parameters. \n",
    "    So -- normalization\n",
    "    rc -- core radius\n",
    "    beta -- powerlaw slope\n",
    "\n",
    "    '''\n",
    "    \n",
    "    return So * ( 1.0 + (r / rc)**2)**(-3.0 * beta + 0.5)"
   ]
  },
  {
   "cell_type": "code",
   "execution_count": 4,
   "metadata": {},
   "outputs": [],
   "source": [
    "def chi2(model, y, y_err):\n",
    "    '''Chi error. We are going to square this to make it the chi2 error.'''\n",
    "    return np.sum(((model - y) / y_err)**2)"
   ]
  },
  {
   "cell_type": "code",
   "execution_count": 14,
   "metadata": {},
   "outputs": [],
   "source": [
    "def like(theta, x, y, yerr):\n",
    "    So, rc, beta, bg = theta\n",
    "    model = beta_model(So, x, rc, beta) + bg\n",
    "    return chi2(model, y, yerr)\n",
    "\n",
    "def prior(theta):\n",
    "    So, rc, beta, bg = theta\n",
    "    if So < 0:\n",
    "        return np.inf\n",
    "    elif rc < 0:\n",
    "        return np.inf\n",
    "    elif beta < 0 or beta > 3: \n",
    "        return np.inf\n",
    "    elif bg < 0:\n",
    "        return np.inf\n",
    "    else:\n",
    "        return 0.0\n",
    "\n",
    "def prob(theta, x, y, yerr):\n",
    "    lp = prior(theta)\n",
    "    if not np.isfinite(lp):\n",
    "        return -np.inf\n",
    "    return -lp - like(theta, x, y, yerr)"
   ]
  },
  {
   "cell_type": "code",
   "execution_count": 6,
   "metadata": {},
   "outputs": [],
   "source": [
    "def fit_profile(name, outpath):\n",
    "    \n",
    "    # swift pixelscale in degrees\n",
    "    pixsc =  6.548089E-04 * 3600\n",
    "    \n",
    "    if os.path.isfile(f'{outpath}/{name}/{name}_vtp.detect'):\n",
    "        srcs = f'{outpath}/{name}/{name}_vtp.detect'\n",
    "        # now we need to read the individual detections\n",
    "        detects = Table.read(srcs, hdu=1)\n",
    "    else:\n",
    "        return\n",
    "    \n",
    "    # we are going to fit profiles to the top 3 biggest \n",
    "    detects.sort(['SRC_AREA'], reverse=True)\n",
    "    \n",
    "    # loop over the sources -- only the first 3\n",
    "    for i in detects['COMPONENT'][:3]:\n",
    "        \n",
    "        if os.path.isfile(f'{outpath}/{name}/{name}_vtp_{i-1}.radprof'):\n",
    "            data = Table.read(f'{outpath}/{name}/{name}_vtp_{i-1}.radprof', format='ascii', header_start=2)\n",
    "        else:\n",
    "            continue\n",
    "            \n",
    "        # x-axis, in arcminutes\n",
    "        x = (data['r1'] + data['r2'])/ 2. / 60. * pixsc\n",
    "        \n",
    "        # this is the parameter fitting\n",
    "        nll = lambda *args: prob(*args)\n",
    "        result = op.minimize(nll, [0.001, 1, 1, 0.001], args=(x, data['sb'], data['sb_err']))\n",
    "        \n",
    "        \n",
    "        # plot the result\n",
    "        fig, ax = plt.subplots(ncols=1, nrows=1, figsize=(6.5, 5))\n",
    "        # data\n",
    "        ax.errorbar(x, data['sb'], yerr=data['sb_err'], fmt='o', label='data')\n",
    "        ylims = ax.get_ylim()\n",
    "        \n",
    "        #fit\n",
    "        So, rc, beta, bg = result['x']\n",
    "        ax.plot(x, beta_model(So, x, rc, beta) + bg, label=r'$\\beta$ + bg')\n",
    "        ax.plot(x, beta_model(So, x, rc, beta), label=r'$\\beta$')\n",
    "        \n",
    "        # rc and bg lines\n",
    "        ax.axhline(bg, label='bg', zorder=0, lw=1)\n",
    "        ax.text(rc + 0.1, 2e-5, f\"rc = {rc:.2f}'\", rotation='vertical', ha='left')\n",
    "        ax.axvline(rc, zorder=0, lw=1)\n",
    "        \n",
    "        ax.semilogy()\n",
    "\n",
    "        if ylims[0] < 1e-5:\n",
    "            ax.set_ylim(1e-5, ylims[1])\n",
    "        else:\n",
    "            ax.set_ylim(ylims)\n",
    "        ax.set_xlabel('Radius [arcmin]')\n",
    "        ax.set_ylabel('Flux [cnts/s]')\n",
    "        ax.legend(loc='upper right')\n",
    "        \n",
    "        fig.savefig(f'{outpath}/{name}/{name}_radproffit_{i-1}.png', bbox='tight', dpi=180)\n",
    "        plt.close()\n",
    "        "
   ]
  },
  {
   "cell_type": "code",
   "execution_count": 7,
   "metadata": {},
   "outputs": [],
   "source": [
    "# get file data\n",
    "data = load_PSZcatalog()\n",
    "data = data.sort_index(axis=1)\n",
    "\n",
    "outpath = './data_full'\n",
    "\n",
    "arr = [{'name':n.replace(' ', '_'), 'outpath':outpath} for n in data['NAME']]\n",
    "#parallel_process(arr, fit_profile, use_kwargs=True, n_jobs=1)"
   ]
  },
  {
   "cell_type": "code",
   "execution_count": null,
   "metadata": {},
   "outputs": [],
   "source": []
  },
  {
   "cell_type": "code",
   "execution_count": null,
   "metadata": {},
   "outputs": [],
   "source": []
  },
  {
   "cell_type": "code",
   "execution_count": 8,
   "metadata": {},
   "outputs": [],
   "source": [
    "d = Table.read('./data_full/PSZ2_G018.92-33.64/PSZ2_G018.92-33.64_vtp_0.radprof', format='ascii', header_start=2)\n",
    "#d = Table.read('./data_full/PSZ1_G083.35+76.41/PSZ1_G083.35+76.41_vtp_7.radprof', format='ascii', header_start=2)\n",
    "d = Table.read('./data_full/PSZ1_G057.42/PSZ2_G018.92-33.64_vtp_0.radprof', format='ascii', header_start=2)\n"
   ]
  },
  {
   "cell_type": "code",
   "execution_count": 9,
   "metadata": {},
   "outputs": [],
   "source": [
    "# swift pixelscale in degrees\n",
    "pixsc =  6.548089E-04 * 3600\n",
    "x = (d['r1'] + d['r2'])/ 2. / 60. * pixsc\n",
    "nll = lambda *args: prob(*args)\n",
    "result = op.minimize(nll, [0.001, 1, 1, 0.001], args=(x, d['sb'], d['sb_err']))"
   ]
  },
  {
   "cell_type": "code",
   "execution_count": 10,
   "metadata": {},
   "outputs": [
    {
     "data": {
      "text/plain": [
       "<matplotlib.legend.Legend at 0x7f5ef421eb38>"
      ]
     },
     "execution_count": 10,
     "metadata": {},
     "output_type": "execute_result"
    },
    {
     "data": {
      "image/png": "[encoded data removed]",
      "text/plain": [
       "<Figure size 468x360 with 1 Axes>"
      ]
     },
     "metadata": {
      "needs_background": "light"
     },
     "output_type": "display_data"
    }
   ],
   "source": [
    "fig, ax = plt.subplots(ncols=1, nrows=1, figsize=(6.5, 5))\n",
    "# data\n",
    "ax.errorbar(x, d['sb'], yerr=d['sb_err'], fmt='o', label='data')\n",
    "\n",
    "ylims = ax.get_ylim()\n",
    "\n",
    "#fit\n",
    "So, rc, beta, bg = result['x']\n",
    "ax.plot(x, beta_model(So, x, rc, beta) + bg, label=r'$\\beta$ + bg')\n",
    "ax.plot(x, beta_model(So, x, rc, beta), label=r'$\\beta$')\n",
    "\n",
    "ax.axhline(bg, label='bg', zorder=0, lw=1)\n",
    "\n",
    "ax.text(rc + 0.1, 2e-5, f\"rc = {rc:.2f}'\", rotation='vertical', ha='left')\n",
    "ax.axvline(rc, zorder=0, lw=1)\n",
    "ax.semilogy()\n",
    "\n",
    "if ylims[0] < 1e-5:\n",
    "    ax.set_ylim(1e-5, ylims[1])\n",
    "else:\n",
    "    ax.set_ylim(ylims)\n",
    "ax.set_xlabel('Radius [arcmin]')\n",
    "ax.set_ylabel('Flux [cnts/s]')\n",
    "ax.legend(loc='upper right')"
   ]
  },
  {
   "cell_type": "code",
   "execution_count": 11,
   "metadata": {},
   "outputs": [
    {
     "data": {
      "text/plain": [
       "      fun: 29.182691136377375\n",
       " hess_inv: array([[ 2.72636420e-05, -1.99615056e-04, -1.99591365e-04,\n",
       "        -4.64299466e-08],\n",
       "       [-1.99615056e-04,  4.38691556e-03,  4.38680147e-03,\n",
       "         8.53705098e-07],\n",
       "       [-1.99591365e-04,  4.38680147e-03,  4.38677586e-03,\n",
       "         8.53715046e-07],\n",
       "       [-4.64299466e-08,  8.53705098e-07,  8.53715046e-07,\n",
       "         4.01073903e-10]])\n",
       "      jac: array([ 3.09944153e-06, -2.38418579e-07,  2.38418579e-07,  1.15251541e-03])\n",
       "  message: 'Desired error not necessarily achieved due to precision loss.'\n",
       "     nfev: 471\n",
       "      nit: 33\n",
       "     njev: 74\n",
       "   status: 2\n",
       "  success: False\n",
       "        x: array([4.05094559e-02, 2.75101268e-01, 5.75844898e-01, 1.87836481e-04])"
      ]
     },
     "execution_count": 11,
     "metadata": {},
     "output_type": "execute_result"
    }
   ],
   "source": [
    "result"
   ]
  },
  {
   "cell_type": "code",
   "execution_count": 13,
   "metadata": {},
   "outputs": [],
   "source": [
    "ndim, nwalkers = 4, 100\n",
    "pos = [result[\"x\"] + 1e-4*np.random.randn(ndim) for i in range(nwalkers)]"
   ]
  },
  {
   "cell_type": "code",
   "execution_count": 16,
   "metadata": {},
   "outputs": [],
   "source": [
    "import emcee\n",
    "sampler = emcee.EnsembleSampler(nwalkers, ndim, prob, args=(x, d['sb'], d['sb_err']))"
   ]
  },
  {
   "cell_type": "code",
   "execution_count": 17,
   "metadata": {},
   "outputs": [
    {
     "name": "stderr",
     "output_type": "stream",
     "text": [
      "/home/boada/.local/lib/python3.6/site-packages/emcee/ensemble.py:335: RuntimeWarning: invalid value encountered in subtract\n",
      "  lnpdiff = (self.dim - 1.) * np.log(zz) + newlnprob - lnprob0\n",
      "/home/boada/.local/lib/python3.6/site-packages/emcee/ensemble.py:336: RuntimeWarning: invalid value encountered in greater\n",
      "  accept = (lnpdiff > np.log(self._random.rand(len(lnpdiff))))\n"
     ]
    },
    {
     "data": {
      "text/plain": [
       "(array([[3.73900066e-02, 2.79046211e-01, 6.00889649e-01, 2.14518702e-04],\n",
       "        [3.65449081e-02, 3.28259604e-01, 6.07369367e-01, 1.91401885e-04],\n",
       "        [2.58099989e-02, 6.06959356e-01, 9.35612972e-01, 2.08993755e-04],\n",
       "        [4.67797718e-02, 1.92891715e-01, 4.90487868e-01, 1.65042700e-04],\n",
       "        [4.13101520e-02, 2.86775371e-01, 5.95632650e-01, 1.79009618e-04],\n",
       "        [3.67788477e-02, 2.61383111e-01, 5.24396806e-01, 1.70253173e-04],\n",
       "        [4.31096172e-02, 2.32245229e-01, 5.29819993e-01, 1.85448699e-04],\n",
       "        [3.92647970e-02, 3.52303972e-01, 6.49224559e-01, 2.15452227e-04],\n",
       "        [3.77084910e-02, 4.51162475e-01, 8.00835279e-01, 2.24782639e-04],\n",
       "        [2.84779528e-02, 7.20551182e-01, 1.17257174e+00, 2.23088105e-04],\n",
       "        [2.89741506e-02, 6.00508375e-01, 9.40391798e-01, 1.92588911e-04],\n",
       "        [2.55190546e-02, 8.56994915e-01, 1.46129587e+00, 2.15491931e-04],\n",
       "        [2.94401175e-02, 3.98855403e-01, 6.74411743e-01, 1.91894156e-04],\n",
       "        [3.88441788e-02, 3.72445580e-01, 6.60668924e-01, 2.06696831e-04],\n",
       "        [5.48387646e-02, 2.02743958e-01, 5.16854643e-01, 1.54307644e-04],\n",
       "        [2.27909427e-02, 3.12320782e-01, 5.45249455e-01, 1.72498084e-04],\n",
       "        [1.50741617e-02, 1.71789654e+00, 2.50081364e+00, 2.12392213e-04],\n",
       "        [2.76348649e-02, 4.20189687e-01, 6.41569882e-01, 1.90264113e-04],\n",
       "        [3.26556573e-02, 2.54260556e-01, 5.18119989e-01, 1.45521011e-04],\n",
       "        [6.08895232e-02, 1.52860083e-01, 5.33755036e-01, 1.96030610e-04],\n",
       "        [3.43378767e-02, 4.01948709e-01, 6.77880427e-01, 2.16507705e-04],\n",
       "        [3.09123888e-02, 4.18366477e-01, 6.70143431e-01, 1.91672479e-04],\n",
       "        [3.81122850e-02, 2.24796710e-01, 5.01791148e-01, 1.47422648e-04],\n",
       "        [5.73627773e-02, 3.05768109e-01, 6.32091998e-01, 1.88687202e-04],\n",
       "        [4.09395662e-02, 2.31403023e-01, 5.09343249e-01, 1.56463271e-04],\n",
       "        [1.63890701e-02, 1.25789365e+00, 1.76575749e+00, 2.60745624e-04],\n",
       "        [2.55716134e-02, 4.81722554e-01, 7.27527412e-01, 2.09023203e-04],\n",
       "        [5.94411076e-02, 2.09968756e-01, 5.56985288e-01, 2.11053561e-04],\n",
       "        [3.13470830e-02, 7.22634325e-01, 1.33631035e+00, 2.29935019e-04],\n",
       "        [3.62477469e-02, 3.58093358e-01, 6.31852504e-01, 1.95959115e-04],\n",
       "        [4.95195486e-02, 2.67768635e-01, 6.01470827e-01, 1.91265677e-04],\n",
       "        [2.71981934e-02, 3.87629819e-01, 6.25099461e-01, 1.80987365e-04],\n",
       "        [3.44453351e-02, 2.52136681e-01, 5.17687022e-01, 1.65932656e-04],\n",
       "        [4.65604819e-02, 2.78076152e-01, 5.95944726e-01, 1.96807402e-04],\n",
       "        [5.55014786e-02, 2.06167603e-01, 5.64338317e-01, 1.75872053e-04],\n",
       "        [4.62471644e-02, 3.27832967e-01, 5.96849747e-01, 1.88528420e-04],\n",
       "        [3.90744651e-02, 4.67660951e-01, 8.37921322e-01, 1.89138320e-04],\n",
       "        [1.77665155e-02, 7.90578653e-01, 9.98381464e-01, 2.13959159e-04],\n",
       "        [1.52709157e-02, 4.92565874e-01, 5.99116839e-01, 2.05774439e-04],\n",
       "        [5.84387133e-02, 1.70635106e-01, 5.10721914e-01, 1.89191526e-04],\n",
       "        [3.45923513e-02, 7.25630126e-01, 1.16006430e+00, 2.01487012e-04],\n",
       "        [6.12807613e-02, 1.46659796e-01, 4.99241148e-01, 1.85065154e-04],\n",
       "        [2.79269097e-02, 6.33493910e-01, 9.31197177e-01, 2.05922271e-04],\n",
       "        [2.07023256e-02, 1.04240933e+00, 1.66414801e+00, 2.03335991e-04],\n",
       "        [6.40794244e-02, 1.87406235e-01, 5.34576602e-01, 1.87771279e-04],\n",
       "        [5.82875877e-02, 1.95806093e-01, 5.23023304e-01, 1.61942687e-04],\n",
       "        [4.06966764e-02, 2.48368236e-01, 5.34547618e-01, 1.93954869e-04],\n",
       "        [3.77774656e-02, 4.37365805e-01, 7.94909069e-01, 1.93860769e-04],\n",
       "        [4.25980779e-02, 2.50741641e-01, 5.78817703e-01, 2.19435318e-04],\n",
       "        [5.11499849e-02, 3.26897036e-01, 6.98515869e-01, 2.07112452e-04],\n",
       "        [4.52100888e-02, 2.38655939e-01, 5.24707568e-01, 1.82381283e-04],\n",
       "        [3.08303998e-02, 4.80793024e-01, 8.29129304e-01, 2.07208297e-04],\n",
       "        [2.56070237e-02, 4.12433067e-01, 6.76204245e-01, 2.14191534e-04],\n",
       "        [2.35407352e-02, 4.09885801e-01, 6.04493220e-01, 1.72981410e-04],\n",
       "        [4.14083022e-02, 2.31773363e-01, 5.10785480e-01, 1.64888972e-04],\n",
       "        [3.44410380e-02, 3.13655251e-01, 5.96454167e-01, 1.79275135e-04],\n",
       "        [6.97191062e-02, 1.68336491e-01, 5.15456737e-01, 1.57338125e-04],\n",
       "        [2.67842563e-02, 4.82303722e-01, 7.53662843e-01, 1.94747560e-04],\n",
       "        [2.89996666e-02, 2.84014414e-01, 5.36304041e-01, 1.73037235e-04],\n",
       "        [2.91023018e-02, 2.77587172e-01, 5.47722178e-01, 2.05537201e-04],\n",
       "        [2.61886314e-02, 3.76338937e-01, 5.99663008e-01, 2.20119963e-04],\n",
       "        [4.24940732e-02, 3.76316832e-01, 6.96305699e-01, 1.95144827e-04],\n",
       "        [3.21322006e-02, 3.12641972e-01, 5.61493420e-01, 1.73270435e-04],\n",
       "        [2.52157218e-02, 6.69408128e-01, 9.60364881e-01, 2.16424854e-04],\n",
       "        [5.42917944e-02, 1.73796212e-01, 5.06402215e-01, 1.46235930e-04],\n",
       "        [2.84381460e-02, 4.77243102e-01, 7.64652042e-01, 2.01407597e-04],\n",
       "        [4.70058995e-02, 2.00347005e-01, 5.17113195e-01, 1.76529837e-04],\n",
       "        [2.87066228e-02, 3.66602848e-01, 6.08332025e-01, 1.77078962e-04],\n",
       "        [4.10867058e-02, 4.06695071e-01, 7.76941829e-01, 1.93579302e-04],\n",
       "        [4.73567399e-02, 2.37390251e-01, 5.35470429e-01, 1.61637182e-04],\n",
       "        [1.65670620e-02, 7.02887987e-01, 9.43925967e-01, 1.96109137e-04],\n",
       "        [3.13959109e-02, 4.88125678e-01, 7.00645139e-01, 1.95095744e-04],\n",
       "        [4.14362387e-02, 2.34726695e-01, 5.69046396e-01, 2.04963773e-04],\n",
       "        [3.15189194e-02, 5.63727065e-01, 9.57549055e-01, 2.19459573e-04],\n",
       "        [4.52784553e-02, 2.68388285e-01, 5.87751041e-01, 1.90670010e-04],\n",
       "        [3.61175482e-02, 4.58137663e-01, 7.64072863e-01, 2.20530165e-04],\n",
       "        [3.16114306e-02, 9.55633291e-01, 1.87422604e+00, 2.17372643e-04],\n",
       "        [3.00994045e-02, 6.20320865e-01, 9.83400097e-01, 2.02493368e-04],\n",
       "        [2.41386896e-02, 4.17840786e-01, 6.49757892e-01, 2.08080630e-04],\n",
       "        [4.14417064e-02, 2.61012815e-01, 5.97908474e-01, 1.90578998e-04],\n",
       "        [3.87261330e-02, 3.85228863e-01, 6.95245332e-01, 2.09700712e-04],\n",
       "        [4.37189595e-02, 4.91749138e-01, 9.28484607e-01, 2.36472543e-04],\n",
       "        [3.58845940e-02, 3.21233014e-01, 6.47669157e-01, 2.06147853e-04],\n",
       "        [5.30424513e-02, 2.60755843e-01, 5.95935015e-01, 1.79874604e-04],\n",
       "        [3.49130164e-02, 3.18430972e-01, 5.94800184e-01, 1.78937866e-04],\n",
       "        [6.46877971e-02, 1.96911908e-01, 5.25368428e-01, 1.77162628e-04],\n",
       "        [2.72235338e-02, 4.63301858e-01, 7.17418281e-01, 1.85382004e-04],\n",
       "        [4.19905906e-02, 2.57956922e-01, 5.77088906e-01, 2.07211221e-04],\n",
       "        [2.59538118e-02, 5.15617978e-01, 7.28503742e-01, 1.97285629e-04],\n",
       "        [3.18347964e-02, 2.86381755e-01, 5.82034721e-01, 2.00078990e-04],\n",
       "        [4.52903909e-02, 2.05385271e-01, 5.12145010e-01, 1.65767356e-04],\n",
       "        [4.67676200e-02, 2.60964679e-01, 6.53902435e-01, 1.98101557e-04],\n",
       "        [4.25789137e-02, 2.84725721e-01, 5.83172073e-01, 1.87862687e-04],\n",
       "        [4.23194866e-02, 3.01337485e-01, 6.26487748e-01, 2.05199745e-04],\n",
       "        [3.39602989e-02, 3.20130237e-01, 5.82381155e-01, 1.76484920e-04],\n",
       "        [2.68994183e-02, 5.84637572e-01, 8.82911308e-01, 2.15711879e-04],\n",
       "        [2.11885825e-02, 1.03374738e+00, 1.82008490e+00, 2.01122076e-04],\n",
       "        [4.99671010e-02, 2.98551062e-01, 6.40068972e-01, 1.60472708e-04],\n",
       "        [3.72899336e-02, 3.20559709e-01, 6.42367438e-01, 2.18481900e-04],\n",
       "        [2.28811753e-02, 5.83156118e-01, 8.02720834e-01, 1.83256303e-04]]),\n",
       " array([-31.25885536, -29.46398385, -32.22098083, -31.47183515,\n",
       "        -29.63925252, -30.94267143, -29.87414543, -30.81235038,\n",
       "        -32.51892877, -33.95003986, -32.62464232, -34.57432482,\n",
       "        -30.2865472 , -30.78004643, -31.39725576, -32.54832403,\n",
       "        -36.92131117, -30.62835732, -31.98454201, -34.78211572,\n",
       "        -31.01064944, -30.28960287, -31.34165014, -35.15668515,\n",
       "        -31.18708515, -41.64369237, -30.8911382 , -31.7531105 ,\n",
       "        -36.05233137, -29.9566043 , -29.84224098, -30.44211926,\n",
       "        -30.51658794, -29.67750471, -31.46371055, -36.43343235,\n",
       "        -33.07128888, -33.76094424, -35.72370453, -30.88166391,\n",
       "        -36.67338898, -31.80106316, -32.46612306, -34.66953208,\n",
       "        -30.86451384, -30.84661623, -30.64819467, -31.92204471,\n",
       "        -31.60240406, -32.07744405, -31.78904924, -31.89762186,\n",
       "        -31.5434184 , -31.72130751, -31.09917725, -29.69788689,\n",
       "        -32.0918569 , -31.02418328, -30.61022728, -31.85788547,\n",
       "        -32.87146387, -31.12111365, -30.26170661, -32.60058662,\n",
       "        -31.9755533 , -30.83645328, -29.78546626, -30.35145598,\n",
       "        -32.17842553, -30.71124161, -35.21484589, -34.70311263,\n",
       "        -31.30763646, -32.95738174, -29.35909626, -32.19810532,\n",
       "        -36.48604722, -32.63302553, -31.14416406, -30.73936435,\n",
       "        -30.58775801, -36.58384602, -30.80556684, -30.57920255,\n",
       "        -29.60823254, -32.73570351, -31.02812227, -30.12903055,\n",
       "        -31.46740246, -30.91083629, -29.93301423, -34.17671865,\n",
       "        -29.44561362, -29.83240273, -29.84265019, -31.91454581,\n",
       "        -35.98303455, -33.8181817 , -30.98128838, -32.54618301]),\n",
       " ('MT19937', array([2136607076, 1491506247,  400504124, 1943500608, 3981902737,\n",
       "         3905726596, 3690134248, 1651533952, 2329919972, 1482040824,\n",
       "         3192219399,  157636382,  881865401, 1787991024,  769999939,\n",
       "          987063604, 1777233860,  619099757,  162788028,  858149855,\n",
       "         3287867922,  635675201, 2176447375,  415306104,  714217021,\n",
       "         1203635906, 3698261174, 4004365733, 1938454925, 2266276772,\n",
       "         2497454346, 1232730444, 2469779954, 2243226371, 2215426228,\n",
       "         2748430145, 3432293452,  687784639, 2277086640, 2480076018,\n",
       "          848982594, 3870874352, 4111469429,  917569388, 3135660329,\n",
       "         2599603218, 2123112269, 1868943834,  916533002,  479017270,\n",
       "          557489933, 2690904256, 4074220187, 4090195111, 3446602874,\n",
       "         3935848581, 2155648976, 3995552548, 1565049371, 2934729552,\n",
       "         4239334796, 1822962405, 3111225105,   21386878, 3637231555,\n",
       "         3682588781,  505695716,   24278563, 1393591948, 2464742175,\n",
       "          910578816, 1074501868, 3119861315, 2384787148, 1716760765,\n",
       "         2207918211, 2566665752, 1774220506,  391620486, 2685188503,\n",
       "         1077325420, 1384711923, 3776732882, 2090557839,  334960501,\n",
       "         4267431024, 1914788089,  292369493,  841258418, 2268763178,\n",
       "         2242802237, 4002922197, 3185608938, 3332585645, 3911410430,\n",
       "         2940557071, 4089219281, 3119665813,  188959599,  943745345,\n",
       "         2838111370, 2420146833, 1077095226, 2416038668,  210569419,\n",
       "         1892080281, 3866091858,  587031295,  703427996, 3960006632,\n",
       "         3733340882, 2497346592, 4282787053, 3473442166, 3462418608,\n",
       "         4286022273, 4011254470, 3934065631,  100043053, 3956728675,\n",
       "          532167303, 3918105685,  345841764,  296889141,  312584926,\n",
       "          115444528,  392905500, 2985989371, 1929444272, 3151422482,\n",
       "         2125210065, 2921707204, 1064916739, 3625959304,  988477834,\n",
       "         2978480578,  840763418,  731620395, 1367150507,  547579600,\n",
       "          293460583, 2628154267, 2773061212, 1444243936,  400804845,\n",
       "         1132724625, 2358607271, 3053134457, 1725008957, 1771952825,\n",
       "           64498198, 2467319695, 4111751322, 1316769256, 3436222103,\n",
       "         3102289006, 3943368718, 2325506347, 3110323622, 3804685680,\n",
       "         1893150349, 1942952946, 3333170788, 1961732491, 1569015669,\n",
       "         2418342339,  756473078, 1525323530, 1744261967,  893525059,\n",
       "         2813277799, 4015459153, 3506223015,  241849813, 2378553415,\n",
       "         3235290436, 1035228655,  714779302, 2272803400,  727623800,\n",
       "         2680150125, 1086011303, 2909609786, 4133149945, 1190432778,\n",
       "         4118631911,  689759357, 1303357537, 1898979492, 1795235063,\n",
       "         1569745312, 3815614413, 2782452319, 3009672338, 2043300564,\n",
       "         3731619937, 3803719931, 2470107009, 2647709323,  344207583,\n",
       "         3323932012,  494242941,  143834124, 2264805071,  125441297,\n",
       "         1890930290,  552137173, 3841868537, 2782676227, 3981346238,\n",
       "         3388047201, 3621385281, 3192640316, 3369185831,  728859960,\n",
       "          703386297, 3612832499, 2718668048, 2711751512,  860877911,\n",
       "         4266737234, 4250475295,  770445510, 2456100663, 1210871820,\n",
       "         3447021227,  636482275,  646564506,  925242246, 3233765535,\n",
       "         3141047059, 1862315416,  275508239, 3532137212, 1986945417,\n",
       "          538256881, 2087881701, 3730412266, 3959644965, 3684420871,\n",
       "         2871328692, 2032893643, 1852388235, 2032141530, 2949272192,\n",
       "         3996882218, 2122709438,  152654117,  207178184,  882093565,\n",
       "         1852876012,  939580573,  753570013, 2965945501,  382655011,\n",
       "         2649491535, 1523395937,  940929168, 1064927250, 2624003798,\n",
       "         1941863564, 3064292767, 1951549384, 1664697027, 1152544839,\n",
       "         1483845078, 2476091289, 2518894552, 4068861642,  140010015,\n",
       "         1235849058, 3153017011, 2116848338,  286032462, 1120566346,\n",
       "         1619639550,  845830205, 3915069278,  433079808,  143193020,\n",
       "         1654736642, 3275259482,  929710757,  290084318, 1978128011,\n",
       "         1339796493, 3581952211,  222429747, 2771908572, 2021718419,\n",
       "         2113639875, 2191785631, 3356129369, 2567903477,  887619107,\n",
       "          971668118,  963732175,  547721653, 2740367095, 2627579099,\n",
       "         1342485776, 3797895241, 2632113306, 1396417350, 2627139711,\n",
       "         3570215490, 1471860456, 2319414399, 1299883207, 1238192170,\n",
       "         2027241961, 3322580270, 3268414856, 2202007484, 2489740959,\n",
       "          330409413, 3680898745, 4223552943,  487285150, 2166007988,\n",
       "         4115926127, 1493570790, 2188841840, 3474343771, 2388526854,\n",
       "          569179003, 2114462452, 1344966651, 3585176610,  366421456,\n",
       "           90156174,    3191297,  735943249, 1784795460, 3842108606,\n",
       "         1070296202,  421822851,  623921053, 2331236522, 3185138904,\n",
       "         4119160089, 2932500498, 3837114303,  494570328, 1874986577,\n",
       "         3878424470,   39606904, 4025877917, 4124987792,   73065092,\n",
       "         3630630567, 3594386972, 4254792838, 3597618166, 1589143052,\n",
       "         1305285866,  755592567, 1141475327, 2970767977, 1113698069,\n",
       "         3416419870, 2605732598, 2759380042,  654095622, 4113612152,\n",
       "          639597205, 1976472070, 4020327509, 1862594111,   25564633,\n",
       "         1289034262, 3675065480, 2598811563, 2471430910,   58967056,\n",
       "         4029182956, 3201889696, 1090865829,  369145980, 3651682727,\n",
       "         2840009076, 2404131271, 4156241872, 2702011908, 2038051129,\n",
       "         2738025088, 3513064475, 3422565431, 3554233343,  863631921,\n",
       "          342126419, 2692359414, 2580321735, 1176742601,  586822438,\n",
       "          600555684, 3489052546, 1794105671, 1974698743, 1908566374,\n",
       "           13230045, 3799830294, 3657334737, 4171328030,  928620105,\n",
       "          127256587, 3482620477,  708619583, 3421686987, 2068779000,\n",
       "          615226971, 3285614243, 2166886148,   10452139,  294417490,\n",
       "         3381912805, 4292700060, 1873151850, 4137311337,  817680994,\n",
       "         4257790700, 3848957702, 1950958542, 3542240400,  853411182,\n",
       "          434206831, 2437883250, 3400814618, 2698466719, 1514924915,\n",
       "         1799370921, 3209340015, 2867168646,  437483872,  899674420,\n",
       "          435564576, 2746391022, 3888326024, 4120040046, 2469458281,\n",
       "         2971212184,  215661807, 2419795372, 2521122585, 2510737691,\n",
       "         4155950512, 4292285323, 1685171414,  780512855, 1816632990,\n",
       "         1507387955,  835174566, 1874407234, 2483708869, 3073859809,\n",
       "         1116940780, 1133708695, 3440325665,  949085501, 2952454034,\n",
       "         3157706349, 1642367374,  326084363, 3417173327, 1219456755,\n",
       "         3931794957,  216956722, 3101867416, 2107576378, 3205559558,\n",
       "          956516256, 1265312281, 2584938028, 2015620413, 3060383003,\n",
       "         2639403555, 1424869468, 2965332319,  138498321, 3357880725,\n",
       "         3297384697, 2799735733, 2817846406, 1037516822, 3476073322,\n",
       "          314123727, 3334832517, 3170739546, 2325495536, 1893295534,\n",
       "         3715864144, 2955683936,  755970163,  805046675, 1785990622,\n",
       "         3672081594, 1984615145, 3286986522, 1927764022, 1700419135,\n",
       "          781374322, 1304835237,  982141488, 2375895360, 1043328147,\n",
       "         4131284911, 4120267180, 2944730561, 1646452119,  584386851,\n",
       "         2642373868, 3005816711,  719352206, 2757379796,  190176009,\n",
       "          755663967, 3241179611, 1734637089, 2924234284, 3020559244,\n",
       "          271101428, 2772763413, 1949315262, 1216085781, 2324503059,\n",
       "         2345777086, 2036626263, 1603345069, 4135382070, 3679065090,\n",
       "          545178554, 1029697101,  413900808,  287151622, 1420995021,\n",
       "         2098794275, 3729650963, 4282338974, 2439930056,  307738443,\n",
       "          309011198, 3941206708, 1294785053, 1766987565, 1247408956,\n",
       "         4001500777,   40436589, 1873246270, 1634595259, 3468882538,\n",
       "         3581707546, 2740520040, 3326324938,  421719870, 1040665843,\n",
       "         1278927857, 2460650004, 1205444824,  540345249, 2244016678,\n",
       "         1334868156, 1410335729,  937450762, 2412925202, 2587440589,\n",
       "         2901639835, 2411145839, 3134724365, 1791722779,  978523753,\n",
       "         1802018351, 3105228923,  906177685, 2874998870,  583217817,\n",
       "          782633241, 3535417549, 3738756613, 3243025324, 3933908553,\n",
       "         3916847559, 4052366975,  659755891, 2369365904, 2868146197,\n",
       "         1044864235, 2741305439, 2833777180, 1592952230, 1934204708,\n",
       "         2504666978, 2488015719, 3580790523,  918677702, 1536839458,\n",
       "         3489432190, 1598629468, 1564711305, 3048384999, 4109514420,\n",
       "         3825829724, 3484830659, 3975327141,  919532771, 3386332245,\n",
       "         3411083285,  670510051, 4191623927, 2072432309, 2038987458,\n",
       "         4261351103, 2392531984, 2628902604, 3539177031,   87874240,\n",
       "         1260619998, 1261190936, 2070836909, 2162167507,  308247321,\n",
       "         3228700808, 3517748472, 1738061474, 2958799664], dtype=uint32), 32, 0, 0.0))"
      ]
     },
     "execution_count": 17,
     "metadata": {},
     "output_type": "execute_result"
    }
   ],
   "source": [
    "sampler.run_mcmc(pos, 500)"
   ]
  },
  {
   "cell_type": "code",
   "execution_count": 49,
   "metadata": {},
   "outputs": [],
   "source": [
    "samples = sampler.chain[:, 50:, :].reshape((-1, ndim))"
   ]
  },
  {
   "cell_type": "code",
   "execution_count": 50,
   "metadata": {},
   "outputs": [
    {
     "data": {
      "text/plain": [
       "(45000, 4)"
      ]
     },
     "execution_count": 50,
     "metadata": {},
     "output_type": "execute_result"
    }
   ],
   "source": [
    "samples.shape"
   ]
  },
  {
   "cell_type": "code",
   "execution_count": 51,
   "metadata": {},
   "outputs": [],
   "source": [
    "So, rc, beta, bg = map(lambda v: (v[1], v[2]-v[1], v[1]-v[0]),\n",
    "                             zip(*np.percentile(samples, [16, 50, 84],\n",
    "                                                axis=0)))"
   ]
  },
  {
   "cell_type": "code",
   "execution_count": 57,
   "metadata": {},
   "outputs": [
    {
     "name": "stdout",
     "output_type": "stream",
     "text": [
      "(0.03670475546166381, 0.012823528243525506, 0.010412833644660682)\n",
      "(0.32219717542927073, 0.17647695969253896, 0.08855989980896112)\n",
      "(0.6205698590160116, 0.16186206721252916, 0.07288639826031607)\n",
      "(0.00019332448379394567, 1.806361021131699e-05, 1.8906337866734358e-05)\n"
     ]
    }
   ],
   "source": [
    "print(So)\n",
    "print(rc)\n",
    "print(beta)\n",
    "print(bg)"
   ]
  },
  {
   "cell_type": "code",
   "execution_count": 46,
   "metadata": {},
   "outputs": [],
   "source": [
    "So, rc, beta, bg = samples[:4]"
   ]
  },
  {
   "cell_type": "code",
   "execution_count": 48,
   "metadata": {},
   "outputs": [
    {
     "data": {
      "text/plain": [
       "<matplotlib.lines.Line2D at 0x7f5ef1359080>"
      ]
     },
     "execution_count": 48,
     "metadata": {},
     "output_type": "execute_result"
    },
    {
     "data": {
      "image/png": "[encoded data removed]",
      "text/plain": [
       "<Figure size 432x288 with 1 Axes>"
      ]
     },
     "metadata": {
      "needs_background": "light"
     },
     "output_type": "display_data"
    }
   ],
   "source": [
    "plt.plot(np.arange(len(So)), So, color='k', alpha=0.1)\n",
    "plt.axhline(np.median(So), color='r')"
   ]
  },
  {
   "cell_type": "code",
   "execution_count": null,
   "metadata": {},
   "outputs": [],
   "source": []
  },
  {
   "cell_type": "code",
   "execution_count": 31,
   "metadata": {},
   "outputs": [
    {
     "data": {
      "text/plain": [
       "0.03670475546166381"
      ]
     },
     "execution_count": 31,
     "metadata": {},
     "output_type": "execute_result"
    }
   ],
   "source": [
    "np.median(So)"
   ]
  },
  {
   "cell_type": "code",
   "execution_count": 35,
   "metadata": {},
   "outputs": [
    {
     "data": {
      "text/plain": [
       "Text(0, 0.5, 'Flux [cnts/s]')"
      ]
     },
     "execution_count": 35,
     "metadata": {},
     "output_type": "execute_result"
    },
    {
     "data": {
      "image/png": "[encoded data removed]",
      "text/plain": [
       "<Figure size 468x360 with 1 Axes>"
      ]
     },
     "metadata": {
      "needs_background": "light"
     },
     "output_type": "display_data"
    }
   ],
   "source": [
    "fig, ax = plt.subplots(ncols=1, nrows=1, figsize=(6.5, 5))\n",
    "# data\n",
    "ax.errorbar(x, d['sb'], yerr=d['sb_err'], fmt='o', label='data')\n",
    "for So, rc, beta, bg in samples[np.random.randint(len(samples), size=100)]:\n",
    "    ax.plot(x, beta_model(So, x, rc, beta) + bg, color='k', alpha=0.1)\n",
    "ax.semilogy()\n",
    "\n",
    "ax.set_xlabel('Radius [arcmin]')\n",
    "ax.set_ylabel('Flux [cnts/s]')"
   ]
  },
  {
   "cell_type": "code",
   "execution_count": null,
   "metadata": {},
   "outputs": [],
   "source": []
  }
 ],
 "metadata": {
  "kernelspec": {
   "display_name": "Python 3",
   "language": "python",
   "name": "python3"
  },
  "language_info": {
   "codemirror_mode": {
    "name": "ipython",
    "version": 3
   },
   "file_extension": ".py",
   "mimetype": "text/x-python",
   "name": "python",
   "nbconvert_exporter": "python",
   "pygments_lexer": "ipython3",
   "version": "3.6.8"
  }
 },
 "nbformat": 4,
 "nbformat_minor": 2
}
