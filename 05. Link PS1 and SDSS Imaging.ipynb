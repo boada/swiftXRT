{
 "cells": [
  {
   "cell_type": "code",
   "execution_count": 1,
   "metadata": {},
   "outputs": [],
   "source": [
    "import os\n",
    "from tqdm import tqdm_notebook"
   ]
  },
  {
   "cell_type": "code",
   "execution_count": 2,
   "metadata": {},
   "outputs": [],
   "source": [
    "def load_PSZcatalog():\n",
    "    from astropy.table import Table                                                       \n",
    "    from numpy import append as npappend                                             \n",
    "\n",
    "    datapath = './../planckClusters/catalogs/'\n",
    "    \n",
    "    ps1 = Table.read(f'{datapath}/PSZ1v2.1.fits')\n",
    "    ps2 = Table.read(f'{datapath}/PSZ2v1.fits')\n",
    "\n",
    "    # convert to pandas\n",
    "    df1 = ps1.to_pandas()\n",
    "    df2 = ps2.to_pandas()\n",
    "\n",
    "    # clean up strings -- not required\n",
    "    df1 = df1.applymap(lambda x: x.decode() if isinstance(x, bytes) else x)\n",
    "    df2 = df2.applymap(lambda x: x.decode() if isinstance(x, bytes) else x)\n",
    "\n",
    "    # merge the catalogs together\n",
    "    df_m = df1.merge(df2, how='outer', left_on='INDEX', right_on='PSZ', suffixes=('_PSZ1', '_PSZ2'))\n",
    "    \n",
    "    # get the columns that we want\n",
    "    cols = df_m.columns[[0, 1, 4, 5, 8, 29, 33, 34, 37, 38, 40, 51]]\n",
    "    df_final = df_m[cols]\n",
    "\n",
    "    # remerge to find bits that were missing                                        \n",
    "    df_final_bigger = df_final.merge(df2, how='left', left_on='INDEX_PSZ1',         \n",
    "                                 right_on='PSZ')\n",
    "    # fill in nans                                                                  \n",
    "    for col in ['NAME', 'RA', 'DEC', 'SNR', 'REDSHIFT', 'INDEX']:                   \n",
    "        df_final_bigger[col+'_PSZ2'] = df_final_bigger[col+'_PSZ2'].fillna(df_final_bigger[col])\n",
    "    # fill in nans                                                                  \n",
    "    for col in ['NAME', 'RA', 'DEC', 'SNR', 'REDSHIFT', 'INDEX']:\n",
    "        df_final_bigger[col+'_PSZ2'] = df_final_bigger[col+'_PSZ2'].fillna(df_final_bigger[col])\n",
    "    for col in ['NAME', 'RA', 'DEC']:\n",
    "        df_final_bigger[col] = df_final_bigger[col+'_PSZ2'].fillna(df_final_bigger[col+'_PSZ1'])\n",
    "\n",
    "    df_final_bigger = df_final_bigger[npappend(df_final_bigger.columns[:12].values, ['NAME', 'RA', 'DEC'])]\n",
    "\n",
    "    return df_final_bigger"
   ]
  },
  {
   "cell_type": "code",
   "execution_count": 3,
   "metadata": {},
   "outputs": [
    {
     "name": "stderr",
     "output_type": "stream",
     "text": [
      "WARNING: UnitsWarning: 'erg/s/cm2' contains multiple slashes, which is discouraged by the FITS standard [astropy.units.format.generic]\n"
     ]
    },
    {
     "data": {
      "application/vnd.jupyter.widget-view+json": {
       "model_id": "e3bbb23309fb480fa85acdafa6eaba5b",
       "version_major": 2,
       "version_minor": 0
      },
      "text/plain": [
       "HBox(children=(IntProgress(value=0, max=1943), HTML(value='')))"
      ]
     },
     "metadata": {},
     "output_type": "display_data"
    },
    {
     "name": "stdout",
     "output_type": "stream",
     "text": [
      "\n"
     ]
    },
    {
     "data": {
      "application/vnd.jupyter.widget-view+json": {
       "model_id": "68cc5f38f6b1464686d26e3e50eb1b91",
       "version_major": 2,
       "version_minor": 0
      },
      "text/plain": [
       "HBox(children=(IntProgress(value=0, max=1943), HTML(value='')))"
      ]
     },
     "metadata": {},
     "output_type": "display_data"
    },
    {
     "name": "stdout",
     "output_type": "stream",
     "text": [
      "\n"
     ]
    }
   ],
   "source": [
    "data = load_PSZcatalog()\n",
    "PS1_dir = f'{os.environ[\"HOME\"]}/Projects/planckClusters/data/extern/PS1'\n",
    "SDSS_dir = f'{os.environ[\"HOME\"]}/Projects/planckClusters/data/extern/SDSS'\n",
    "outpath = './data_full'\n",
    "\n",
    "for name in tqdm_notebook(data['NAME'], total=len(data['NAME'])):\n",
    "    name = name.replace(' ', '_')\n",
    "\n",
    "    if not os.path.isdir(f'{PS1_dir}/{name}'):\n",
    "        continue\n",
    "    \n",
    "    #name = ''.join(e for e in name if e.isalnum())\n",
    "    if not os.path.isdir(f'{outpath}/{name}'):\n",
    "        os.makedirs(f'{outpath}/{name}')\n",
    "\n",
    "    relpath = os.path.relpath(f'{PS1_dir}/{name}', f'{outpath}/{name}')\n",
    "\n",
    "    target_files = ['_PS1stack_g.fits', '_PS1stack_r.fits', '_PS1stack_i.fits',\n",
    "                    '_PS1stack_z.fits', '_PS1stack_y.fits', '_PS1stack_irg.tiff']\n",
    "\n",
    "    for file in target_files:\n",
    "        try:\n",
    "            os.symlink(f'{PS1_dir}/{name}/{name}{file}',\n",
    "                       f'{outpath}/{name}/{name}{file}')\n",
    "        except FileExistsError:\n",
    "            pass\n",
    "        \n",
    "\n",
    "for name in tqdm_notebook(data['NAME'], total=len(data['NAME'])):\n",
    "    name = name.replace(' ', '_')\n",
    "\n",
    "    if not os.path.isdir(f'{SDSS_dir}/{name}'):\n",
    "        continue\n",
    "    \n",
    "    #name = ''.join(e for e in name if e.isalnum())\n",
    "    if not os.path.isdir(f'{outpath}/{name}'):\n",
    "        os.makedirs(f'{outpath}/{name}')\n",
    "\n",
    "    relpath = os.path.relpath(f'{SDSS_dir}/{name}', f'{outpath}/{name}')\n",
    "\n",
    "    target_files = ['_SDSSstack_g.fits', '_SDSSstack_r.fits', '_SDSSstack_i.fits',\n",
    "                    '_SDSSstack_z.fits', '_SDSSstack_irg.tiff']\n",
    "\n",
    "    for file in target_files:\n",
    "        try:\n",
    "            os.symlink(f'{SDSS_dir}/{name}/{name}{file}',\n",
    "                       f'{outpath}/{name}/{name}{file}')\n",
    "        except FileExistsError:\n",
    "            pass"
   ]
  },
  {
   "cell_type": "code",
   "execution_count": null,
   "metadata": {},
   "outputs": [],
   "source": []
  }
 ],
 "metadata": {
  "kernelspec": {
   "display_name": "Python 3",
   "language": "python",
   "name": "python3"
  },
  "language_info": {
   "codemirror_mode": {
    "name": "ipython",
    "version": 3
   },
   "file_extension": ".py",
   "mimetype": "text/x-python",
   "name": "python",
   "nbconvert_exporter": "python",
   "pygments_lexer": "ipython3",
   "version": "3.6.8"
  }
 },
 "nbformat": 4,
 "nbformat_minor": 2
}
