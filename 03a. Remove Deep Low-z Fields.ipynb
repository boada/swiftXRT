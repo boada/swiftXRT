{
 "cells": [
  {
   "cell_type": "code",
   "execution_count": null,
   "metadata": {},
   "outputs": [],
   "source": [
    "import os\n",
    "import sys\n",
    "import shutil\n",
    "from astropy.io import fits\n",
    "   \n",
    "# parallel processor et al.\n",
    "from utilities import parallel_process, redshifts_from_papers\n",
    "sys.path.append(f'{os.environ[\"HOME\"]}/Projects/planckClusters/catalogs')\n",
    "from load_catalogs import load_PSZcatalog"
   ]
  },
  {
   "cell_type": "code",
   "execution_count": null,
   "metadata": {},
   "outputs": [],
   "source": [
    "# get file data\n",
    "data = load_PSZcatalog()\n",
    "data = data.sort_values('NAME')\n",
    "\n",
    "data = redshifts_from_papers(data)\n",
    "\n",
    "outpath = './data_full_new'\n",
    "\n",
    "if not os.path.isdir(f'{outpath}/deep_fields'):\n",
    "    os.makedirs(f'{outpath}/deep_fields')\n",
    "\n",
    "for n, z in zip(data['NAME'], data['REDSHIFT']):\n",
    "    n= n.replace(' ', '_')\n",
    "    if not os.path.isdir(f'{outpath}/{n}'):\n",
    "        continue\n",
    "    if 0 < z and z < 0.1:\n",
    "        evnts = f'{outpath}/{n}/{n}_events.fits'\n",
    "        try:\n",
    "            exp_time = fits.getheader(evnts)['EXPOSURE']\n",
    "        except FileNotFoundError:\n",
    "            exp_time = -1\n",
    "        if exp_time >= 1e4:\n",
    "            shutil.move(f'{outpath}/{n}', f'{outpath}/deep_fields')\n",
    "#             print(n, f'{z:.4f}', f'{exp_time:0.2f}')"
   ]
  },
  {
   "cell_type": "code",
   "execution_count": null,
   "metadata": {},
   "outputs": [],
   "source": []
  }
 ],
 "metadata": {
  "kernelspec": {
   "display_name": "Python 3",
   "language": "python",
   "name": "python3"
  },
  "language_info": {
   "codemirror_mode": {
    "name": "ipython",
    "version": 3
   },
   "file_extension": ".py",
   "mimetype": "text/x-python",
   "name": "python",
   "nbconvert_exporter": "python",
   "pygments_lexer": "ipython3",
   "version": "3.7.1"
  },
  "toc": {
   "base_numbering": 1,
   "nav_menu": {},
   "number_sections": true,
   "sideBar": true,
   "skip_h1_title": false,
   "title_cell": "Table of Contents",
   "title_sidebar": "Contents",
   "toc_cell": false,
   "toc_position": {},
   "toc_section_display": true,
   "toc_window_display": false
  },
  "varInspector": {
   "cols": {
    "lenName": 16,
    "lenType": 16,
    "lenVar": 40
   },
   "kernels_config": {
    "python": {
     "delete_cmd_postfix": "",
     "delete_cmd_prefix": "del ",
     "library": "var_list.py",
     "varRefreshCmd": "print(var_dic_list())"
    },
    "r": {
     "delete_cmd_postfix": ") ",
     "delete_cmd_prefix": "rm(",
     "library": "var_list.r",
     "varRefreshCmd": "cat(var_dic_list()) "
    }
   },
   "types_to_exclude": [
    "module",
    "function",
    "builtin_function_or_method",
    "instance",
    "_Feature"
   ],
   "window_display": false
  }
 },
 "nbformat": 4,
 "nbformat_minor": 2
}
