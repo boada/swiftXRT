{
 "cells": [
  {
   "cell_type": "code",
   "execution_count": null,
   "metadata": {},
   "outputs": [],
   "source": [
    "import os\n",
    "import sys\n",
    "sys.path.append(f'{os.environ[\"HOME\"]}/Projects/planckClusters/catalogs')\n",
    "from load_catalogs import load_PSZcatalog\n",
    "from tqdm import tqdm_notebook"
   ]
  },
  {
   "cell_type": "code",
   "execution_count": null,
   "metadata": {},
   "outputs": [],
   "source": [
    "data = load_PSZcatalog()\n",
    "\n",
    "PS1_dir = f'{os.environ[\"HOME\"]}/Projects/planckClusters/data/extern/PS1'\n",
    "SDSS_dir = f'{os.environ[\"HOME\"]}/Projects/planckClusters/data/extern/SDSS'\n",
    "DECaLS_dir = f'{os.environ[\"HOME\"]}/Projects/planckClusters/data/extern/DECaLS'\n",
    "DES_dir = f'{os.environ[\"HOME\"]}/Projects/planckClusters/data/extern/DES'\n",
    "outpath = './data_full_new'\n",
    "\n",
    "for name in tqdm_notebook(data['NAME'], total=len(data['NAME'])):\n",
    "    name = name.replace(' ', '_')\n",
    "\n",
    "    if not os.path.exists(f'{outpath}/{name}'):\n",
    "        continue\n",
    "    \n",
    "    if os.path.isdir(f'{PS1_dir}/{name}'):\n",
    "        relpath = os.path.relpath(f'{PS1_dir}/{name}', f'{outpath}/{name}')\n",
    "\n",
    "        target_files = ['_PS1stack_g.fits', '_PS1stack_r.fits', '_PS1stack_i.fits',\n",
    "                        '_PS1stack_z.fits', '_PS1stack_y.fits', '_PS1stack_irg.tiff']\n",
    "\n",
    "        for file in target_files:\n",
    "            try:\n",
    "                os.symlink(f'{PS1_dir}/{name}/{name}{file}',\n",
    "                           f'{outpath}/{name}/{name}{file}')\n",
    "            except FileExistsError:\n",
    "                pass\n",
    "\n",
    "    if os.path.isdir(f'{SDSS_dir}/{name}'):\n",
    "        relpath = os.path.relpath(f'{SDSS_dir}/{name}', f'{outpath}/{name}')\n",
    "\n",
    "        target_files = ['_SDSSstack_g.fits', '_SDSSstack_r.fits', '_SDSSstack_i.fits',\n",
    "                        '_SDSSstack_z.fits', '_SDSSstack_irg.tiff']\n",
    "\n",
    "        for file in target_files:\n",
    "            try:\n",
    "                os.symlink(f'{SDSS_dir}/{name}/{name}{file}',\n",
    "                           f'{outpath}/{name}/{name}{file}')\n",
    "            except FileExistsError:\n",
    "                pass\n",
    "            \n",
    "            \n",
    "    if os.path.isdir(f'{DECaLS_dir}/{name}'):\n",
    "        relpath = os.path.relpath(f'{DECaLS_dir}/{name}', f'{outpath}/{name}')\n",
    "\n",
    "        target_files = ['_DECaLSstack_r.fits', '_DECaLSstack.jpg']\n",
    "\n",
    "        for file in target_files:\n",
    "            try:\n",
    "                os.symlink(f'{DECaLS_dir}/{name}/{name}{file}',\n",
    "                           f'{outpath}/{name}/{name}{file}')\n",
    "            except FileExistsError:\n",
    "                pass\n",
    "            \n",
    "    if os.path.isdir(f'{DES_dir}/{name}'):\n",
    "        relpath = os.path.relpath(f'{DES_dir}/{name}', f'{outpath}/{name}')\n",
    "\n",
    "        target_files = ['_DESstack_r.fits', '_DESstack.jpg']\n",
    "\n",
    "        for file in target_files:\n",
    "            try:\n",
    "                os.symlink(f'{DES_dir}/{name}/{name}{file}',\n",
    "                           f'{outpath}/{name}/{name}{file}')\n",
    "            except FileExistsError:\n",
    "                pass"
   ]
  },
  {
   "cell_type": "code",
   "execution_count": null,
   "metadata": {},
   "outputs": [],
   "source": []
  }
 ],
 "metadata": {
  "kernelspec": {
   "display_name": "Python 3",
   "language": "python",
   "name": "python3"
  },
  "language_info": {
   "codemirror_mode": {
    "name": "ipython",
    "version": 3
   },
   "file_extension": ".py",
   "mimetype": "text/x-python",
   "name": "python",
   "nbconvert_exporter": "python",
   "pygments_lexer": "ipython3",
   "version": "3.7.1"
  },
  "toc": {
   "base_numbering": 1,
   "nav_menu": {},
   "number_sections": true,
   "sideBar": true,
   "skip_h1_title": false,
   "title_cell": "Table of Contents",
   "title_sidebar": "Contents",
   "toc_cell": false,
   "toc_position": {},
   "toc_section_display": true,
   "toc_window_display": false
  },
  "varInspector": {
   "cols": {
    "lenName": 16,
    "lenType": 16,
    "lenVar": 40
   },
   "kernels_config": {
    "python": {
     "delete_cmd_postfix": "",
     "delete_cmd_prefix": "del ",
     "library": "var_list.py",
     "varRefreshCmd": "print(var_dic_list())"
    },
    "r": {
     "delete_cmd_postfix": ") ",
     "delete_cmd_prefix": "rm(",
     "library": "var_list.r",
     "varRefreshCmd": "cat(var_dic_list()) "
    }
   },
   "types_to_exclude": [
    "module",
    "function",
    "builtin_function_or_method",
    "instance",
    "_Feature"
   ],
   "window_display": false
  }
 },
 "nbformat": 4,
 "nbformat_minor": 2
}
