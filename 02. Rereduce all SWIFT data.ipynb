{
 "cells": [
  {
   "cell_type": "code",
   "execution_count": null,
   "metadata": {},
   "outputs": [],
   "source": [
    "import os\n",
    "from tqdm import tqdm_notebook\n",
    "import subprocess\n",
    "import tempfile"
   ]
  },
  {
   "cell_type": "code",
   "execution_count": null,
   "metadata": {},
   "outputs": [],
   "source": [
    "# this allows us to run the pipeline not interactively. \n",
    "os.environ['HEADASNOQUERY'] = ''\n",
    "os.environ['HEADASPROMPT'] = '/dev/null'"
   ]
  },
  {
   "cell_type": "code",
   "execution_count": null,
   "metadata": {},
   "outputs": [],
   "source": [
    "def get_immediate_subdirectories(a_dir):\n",
    "    ''' Get a list of a directorys immediate subdirectories'''\n",
    "    return [os.path.join(a_dir, name) for name in os.listdir(a_dir)\n",
    "            if os.path.isdir(os.path.join(a_dir, name))]\n",
    "\n",
    "def get_immediate_subfiles(a_dir):\n",
    "    ''' Get a list of all the FILES in a directory'''\n",
    "    return [os.path.join(a_dir, name) for name in os.listdir(a_dir)\n",
    "            if os.path.isfile(os.path.join(a_dir, name))]"
   ]
  },
  {
   "cell_type": "code",
   "execution_count": null,
   "metadata": {},
   "outputs": [],
   "source": [
    "import multiprocessing\n",
    "import traceback, functools\n",
    "\n",
    "def error(msg, *args):\n",
    "    multiprocessing.log_to_stderr()\n",
    "    return multiprocessing.get_logger().error(msg, *args)\n",
    "\n",
    "def trace_unhandled_exceptions(func):\n",
    "    @functools.wraps(func)\n",
    "    def wrapped_func(*args, **kwargs):\n",
    "        try:\n",
    "            func(*args, **kwargs)\n",
    "        except Exception as e:\n",
    "            error(traceback.format_exc())\n",
    "            raise\n",
    "\n",
    "    return wrapped_func\n",
    "\n",
    "class AsyncFactory:\n",
    "    def __init__(self, func, cb_func):\n",
    "        self.func = func\n",
    "        self.cb_func = cb_func\n",
    "        self.pool = multiprocessing.Pool(\n",
    "                                         processes=multiprocessing.cpu_count())\n",
    "\n",
    "    def call(self,*args, **kwargs):\n",
    "        self.pool.apply_async(self.func, args, kwargs, self.cb_func)\n",
    "\n",
    "    def wait(self):\n",
    "        self.pool.close()\n",
    "        self.pool.join()\n",
    "\n",
    "def cb_func(f):\n",
    "    pass\n",
    "    #print(\"PID: %d \\t Value: %s completed\" % (os.getpid(), f))"
   ]
  },
  {
   "cell_type": "code",
   "execution_count": null,
   "metadata": {},
   "outputs": [],
   "source": [
    "@trace_unhandled_exceptions\n",
    "def run_pipeline(psz):\n",
    "    print(psz)\n",
    "    # set up enviroment\n",
    "    if not os.path.isdir(f'/tmp/{os.getpid()}.tmp/pfiles'):\n",
    "        os.makedirs(f'/tmp/{os.getpid()}.tmp/pfiles')\n",
    "    \n",
    "    # get a list of the XRT obs. \n",
    "    obs = get_immediate_subdirectories(psz)\n",
    "    \n",
    "    # if there aren't any observations, keep going\n",
    "    if not len(obs):\n",
    "        return\n",
    "    \n",
    "    if not os.path.isdir(f'{psz}/reduced'):\n",
    "        os.makedirs(f'{psz}/reduced')\n",
    "    \n",
    "    # get a list of the reduced obs.\n",
    "    reduc = get_immediate_subdirectories(f'{psz}/reduced')\n",
    "    \n",
    "    for ob_dir in obs:\n",
    "        ob_id = ob_dir.split('/')[-1]\n",
    "        reduc_ids = [r.split('/')[-1] for r in reduc]\n",
    "        if ob_id == 'reduced':\n",
    "            continue\n",
    "        if ob_id in reduc_ids:\n",
    "            continue\n",
    "        env_cmd = f'export PFILES=\"/tmp/{os.getpid()}.tmp/pfiles;{os.environ[\"HEADAS\"]}/syspfiles\" \\n'\n",
    "        pipe_cmd = (f'xrtpipeline indir={ob_dir} outdir={psz}/reduced/{ob_id} steminputs=sw{ob_id} ' \n",
    "                    'srcra=OBJECT srcdec=OBJECT datamode=PC cleanup=yes vigflag=yes clobber=yes '\n",
    "                    f' > {psz}/reduced/{ob_id}_reduce.log \\n')\n",
    "\n",
    "        fd, path = tempfile.mkstemp()\n",
    "        try:\n",
    "            with os.fdopen(fd, 'w') as tmp:\n",
    "                # do stuff with temp file\n",
    "                tmp.write(env_cmd)\n",
    "                tmp.write(pipe_cmd)\n",
    "            subproc = subprocess.Popen(f'sh {path}', shell=True)\n",
    "            subproc.wait()\n",
    "        finally:\n",
    "            os.remove(path)\n",
    "    return psz"
   ]
  },
  {
   "cell_type": "code",
   "execution_count": null,
   "metadata": {},
   "outputs": [],
   "source": [
    "def reduce_parallel():\n",
    "    async_worker = AsyncFactory(run_pipeline, cb_func)\n",
    "    # get a list of the PSZ fields\n",
    "    PSZs = get_immediate_subdirectories('./data_full')\n",
    "    for psz in PSZs:\n",
    "        async_worker.call(psz)\n",
    "    async_worker.wait()"
   ]
  },
  {
   "cell_type": "code",
   "execution_count": null,
   "metadata": {},
   "outputs": [],
   "source": [
    "def reduce_serial():\n",
    "    # get a list of the PSZ fields\n",
    "    PSZs = get_immediate_subdirectories('./data_full')\n",
    "\n",
    "    for psz in tqdm(PSZs):\n",
    "        # get a list of the XRT obs. \n",
    "        obs = get_immediate_subdirectories(psz)\n",
    "\n",
    "        if len(obs) < 2:\n",
    "            continue\n",
    "\n",
    "        if not os.path.isdir(f'{psz}/reduced'):\n",
    "            os.makedirs(f'{psz}/reduced')\n",
    "\n",
    "        # get a list of the reduced obs.\n",
    "        reduc = get_immediate_subdirectories(f'{psz}/reduced')\n",
    "\n",
    "        run = False\n",
    "        for ob_dir in obs:\n",
    "            ob_id = ob_dir.split('/')[-1]\n",
    "            reduc_ids = [r.split('/')[-1] for r in reduc]\n",
    "            if ob_id == 'reduced':\n",
    "                continue\n",
    "            if ob_id in reduc_ids:\n",
    "                continue\n",
    "            pipe_cmd = (f'xrtpipeline indir={ob_dir} outdir={psz}/reduced/{ob_id} steminputs=sw{ob_id} ' \n",
    "                    'srcra=OBJECT srcdec=OBJECT datamode=PC cleanup=yes vigflag=yes clobber=yes '\n",
    "                    f' > {psz}/reduced/{ob_id}_reduce.log \\n')\n",
    "            os.system(pipe_cmd)"
   ]
  },
  {
   "cell_type": "code",
   "execution_count": null,
   "metadata": {},
   "outputs": [],
   "source": [
    "def validate():\n",
    "    PSZs = get_immediate_subdirectories('./data_full')\n",
    "    for psz in tqdm_notebook(PSZs):\n",
    "        # get a list of the XRT obs. \n",
    "            for ob_dir in get_immediate_subdirectories(psz):\n",
    "                # check for events and exposure map\n",
    "                evts = False\n",
    "                expm = False\n",
    "                ob_id = ob_dir.split('/')[-1]\n",
    "                if ob_id == 'reduced':\n",
    "                    continue\n",
    "                else:\n",
    "                    for f in get_immediate_subfiles(f'{psz}/reduced/{ob_id}'):\n",
    "                        if 'xpcw3po_cl.evt' in f:\n",
    "                            evts = True\n",
    "                        elif 'xpcw3po_ex.img' in f:\n",
    "                            expm = True\n",
    "                        else:\n",
    "                            continue\n",
    "                \n",
    "                    if not evts and expm:\n",
    "                        print(f'{psz}/reduced/{ob_id} NOT VALID')"
   ]
  },
  {
   "cell_type": "code",
   "execution_count": null,
   "metadata": {
    "scrolled": true
   },
   "outputs": [],
   "source": [
    "reduce_parallel()"
   ]
  },
  {
   "cell_type": "code",
   "execution_count": null,
   "metadata": {},
   "outputs": [],
   "source": [
    "validate()"
   ]
  },
  {
   "cell_type": "code",
   "execution_count": null,
   "metadata": {},
   "outputs": [],
   "source": []
  }
 ],
 "metadata": {
  "kernelspec": {
   "display_name": "Python 3",
   "language": "python",
   "name": "python3"
  },
  "language_info": {
   "codemirror_mode": {
    "name": "ipython",
    "version": 3
   },
   "file_extension": ".py",
   "mimetype": "text/x-python",
   "name": "python",
   "nbconvert_exporter": "python",
   "pygments_lexer": "ipython3",
   "version": "3.6.8"
  }
 },
 "nbformat": 4,
 "nbformat_minor": 2
}
