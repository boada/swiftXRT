{
 "cells": [
  {
   "cell_type": "code",
   "execution_count": null,
   "metadata": {},
   "outputs": [],
   "source": [
    "from astropy.table import Table\n",
    "from astropy.coordinates import SkyCoord"
   ]
  },
  {
   "cell_type": "code",
   "execution_count": null,
   "metadata": {},
   "outputs": [],
   "source": [
    "results = Table.read('./catalogs/results_table_inspected_flagged_0.5_2.0_v2.fits')\n",
    "\n",
    "# remove duplicates, because they aren't good sources\n",
    "results = results[~results['DUPLICATE']]"
   ]
  },
  {
   "cell_type": "code",
   "execution_count": null,
   "metadata": {},
   "outputs": [],
   "source": [
    "results_df = results.to_pandas()"
   ]
  },
  {
   "cell_type": "code",
   "execution_count": null,
   "metadata": {},
   "outputs": [],
   "source": [
    "results_df['RA_sex'] = ''\n",
    "results_df['DEC_sex'] = ''\n",
    "\n",
    "for i, row in results_df.iterrows():\n",
    "    coord = SkyCoord(ra=row.RA_detc, dec=row.DEC_detc, frame='icrs', unit='degree')\n",
    "    results_df.at[i, 'RA_sex'] = coord.ra.to_string(unit='hour', sep=':')\n",
    "    results_df.at[i, 'DEC_sex'] = coord.dec.to_string(unit='degree', sep=':')\n",
    "\n",
    "results_df = results_df.applymap(lambda x: x.decode() if isinstance(x, bytes) else x)"
   ]
  },
  {
   "cell_type": "code",
   "execution_count": null,
   "metadata": {},
   "outputs": [],
   "source": [
    "results_df.columns"
   ]
  },
  {
   "cell_type": "code",
   "execution_count": null,
   "metadata": {},
   "outputs": [],
   "source": [
    "# select 30 random entries from the catalog.\n",
    "small_results_df = results_df.sample(30).sort_values('NAME')"
   ]
  },
  {
   "cell_type": "code",
   "execution_count": null,
   "metadata": {},
   "outputs": [],
   "source": [
    "\n",
    "# here we are going to print out the table\n",
    "# this should then be copy-and-pasted into the latex\n",
    "# i found that works a bit better than trying to use \n",
    "# astropy to write the table directly\n",
    "\n",
    "print(r'Field & $\\alpha$ (J2000) & $\\delta$ (J2000) & $z$ & Exp Time & S/N & Flux & Luminosity & Flags \\\\')\n",
    "print(r' & & & & s & & cnts/s (10^{-13}) & ergs/s (10^{44}) & \\\\')\n",
    "print(r'(1) & (2) & (3) & (4) & (5) & (6) & (7) & (8) & (9) \\\\')\n",
    "for i, row in small_results_df.iterrows():\n",
    "    # get all the bits\n",
    "    name = row.NAME\n",
    "    ra = row.RA_sex\n",
    "    dec = row.DEC_sex\n",
    "    z = row.REDSHIFT\n",
    "    exptime = row.EXPTIME\n",
    "    sn = row.SN\n",
    "    flux = row.FLUX_CORR * 1e13\n",
    "    flux_err = (row.FLUX_CORR_NEGERR * 1e13, row.FLUX_CORR_POSERR * 1e13)\n",
    "    lum = row.LUM_CORR / 1e44\n",
    "    lum_err = (row.LUM_CORR_NEGERR / 1e44, row.LUM_CORR_POSERR / 1e44)\n",
    "    \n",
    "    print(f'{name} & {ra[:-2]} & {dec[:-2]} ', end='& ')\n",
    "    if z > 0:\n",
    "        print(f'{z:.3f}', end=' & ') \n",
    "    else:\n",
    "        print(f'---', end=' & ')\n",
    "        \n",
    "    print(f'{exptime:.1f}', end=' & ')    \n",
    "        \n",
    "    if sn > 0:\n",
    "        print(f'{sn:.2f}', end=' & ')\n",
    "    else:\n",
    "        print(f'---', end=' & ')\n",
    "        \n",
    "    if flux > 0:\n",
    "        print(f'{flux:.3f}$\\pm{{{flux_err[0]:.3f}}}$', end=' & ')\n",
    "    else:\n",
    "        print(f'---', end=' & ')\n",
    "        \n",
    "    if lum > 0 and z > 0:\n",
    "        print(f'{lum:.3f}$\\pm{{{lum_err[0]:.3f}}}$', end=' & ')\n",
    "    else:\n",
    "        print(f'---', end=' & ')\n",
    "        \n",
    "    print(f'{row.FLAGS} \\\\\\\\')"
   ]
  },
  {
   "cell_type": "code",
   "execution_count": null,
   "metadata": {},
   "outputs": [],
   "source": []
  }
 ],
 "metadata": {
  "kernelspec": {
   "display_name": "Python 3",
   "language": "python",
   "name": "python3"
  },
  "language_info": {
   "codemirror_mode": {
    "name": "ipython",
    "version": 3
   },
   "file_extension": ".py",
   "mimetype": "text/x-python",
   "name": "python",
   "nbconvert_exporter": "python",
   "pygments_lexer": "ipython3",
   "version": "3.7.1"
  },
  "toc": {
   "base_numbering": 1,
   "nav_menu": {},
   "number_sections": true,
   "sideBar": true,
   "skip_h1_title": false,
   "title_cell": "Table of Contents",
   "title_sidebar": "Contents",
   "toc_cell": false,
   "toc_position": {},
   "toc_section_display": true,
   "toc_window_display": false
  },
  "varInspector": {
   "cols": {
    "lenName": 16,
    "lenType": 16,
    "lenVar": 40
   },
   "kernels_config": {
    "python": {
     "delete_cmd_postfix": "",
     "delete_cmd_prefix": "del ",
     "library": "var_list.py",
     "varRefreshCmd": "print(var_dic_list())"
    },
    "r": {
     "delete_cmd_postfix": ") ",
     "delete_cmd_prefix": "rm(",
     "library": "var_list.r",
     "varRefreshCmd": "cat(var_dic_list()) "
    }
   },
   "types_to_exclude": [
    "module",
    "function",
    "builtin_function_or_method",
    "instance",
    "_Feature"
   ],
   "window_display": false
  }
 },
 "nbformat": 4,
 "nbformat_minor": 4
}
